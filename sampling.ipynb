{
 "cells": [
  {
   "cell_type": "code",
   "execution_count": 1,
   "metadata": {
    "collapsed": true
   },
   "outputs": [],
   "source": [
    "import pandas as pd\n",
    "import os\n",
    "import random\n",
    "import math\n",
    "import json"
   ]
  },
  {
   "cell_type": "code",
   "execution_count": 12,
   "metadata": {},
   "outputs": [
    {
     "data": {
      "text/plain": [
       "['BOLSONARO', 'ALCKMIN', 'CIRO', 'TEMER', 'MANUELA', 'LULA', 'MARINA']"
      ]
     },
     "execution_count": 12,
     "metadata": {},
     "output_type": "execute_result"
    }
   ],
   "source": [
    "candidatos = os.listdir('/home/alysson/Downloads/Tweets')\n",
    "candidatos.remove('.ipynb_checkpoints')\n",
    "candidatos.remove('sampling.ipynb')\n",
    "candidatos.remove('bots.ipynb')\n",
    "candidatos.remove('qtd.py')\n",
    "candidatos.remove('MAIA')\n",
    "candidatos.remove('detection_bots.py')\n",
    "candidatos.remove('SCREEN_NAME.csv')\n",
    "candidatos.remove('SCREEN_NAME_BOT.csv')\n",
    "candidatos.remove('ELEICOES')\n",
    "candidatos.remove('.idea')\n",
    "candidatos"
   ]
  },
  {
   "cell_type": "code",
   "execution_count": 23,
   "metadata": {},
   "outputs": [
    {
     "name": "stdout",
     "output_type": "stream",
     "text": [
      "16383\n",
      "BOLSONARO foi salvo com 200 tweets\n",
      "162552\n",
      "ALCKMIN foi salvo com 200 tweets\n",
      "3380\n",
      "CIRO foi salvo com 200 tweets\n",
      "16383\n",
      "TEMER foi salvo com 200 tweets\n",
      "2790\n",
      "MANUELA foi salvo com 200 tweets\n",
      "5861\n",
      "LULA foi salvo com 200 tweets\n",
      "18581\n",
      "MARINA foi salvo com 200 tweets\n"
     ]
    }
   ],
   "source": [
    "columns = ['id','tweet','candidato']\n",
    "\n",
    "for c in candidatos:\n",
    "    files = os.listdir('/home/alysson/Downloads/Tweets/'+c)\n",
    "    size = len(files)\n",
    "    print(size)\n",
    "    indexes = random.sample(range(0,size), 200)\n",
    "    samples = []\n",
    "    \n",
    "\n",
    "    for i in indexes:\n",
    "        with open(c+'/'+files[i]) as data_file:\n",
    "            data_string = data_file.read()    \n",
    "            try:\n",
    "                values = []\n",
    "                \n",
    "                tweet = json.loads(data_string)\n",
    "                text_aux = \"\"\n",
    "                \n",
    "                if tweet['is_quote_status'] == 'true':\n",
    "                    if 'extended_tweet' in tweet['quoted_status']:\n",
    "                        text_aux = tweet['text'] + tweet['quoted_status']['extended_tweet']['full_text']\n",
    "                    else:\n",
    "                        text_aux = tweet['text'] + tweet['quoted_status']['text']\n",
    "                elif 'retweeted_status' in tweet:\n",
    "                    if 'extended_tweet' in tweet['retweeted_status']:\n",
    "                        text_aux = tweet['retweeted_status']['extended_tweet']['full_text']\n",
    "                    else:\n",
    "                        text_aux = tweet['retweeted_status']['text']\n",
    "                else:\n",
    "                    text_aux = tweet['text']\n",
    "                \n",
    "                values.append(str('twe'+tweet['id_str']))\n",
    "                values.append(text_aux)\n",
    "                values.append(c.lower())\n",
    "                samples.append(values)\n",
    "            except ValueError:\n",
    "                print('Failed:')\n",
    "                print(repr(data_string))\n",
    "    \n",
    "    df = pd.DataFrame(data=samples, columns=columns)\n",
    "    df.to_csv(c+'.csv',sep='\\t', index=False)\n",
    "\n",
    "    print(c+' foi salvo com 200 tweets')"
   ]
  },
  {
   "cell_type": "code",
   "execution_count": 14,
   "metadata": {},
   "outputs": [
    {
     "name": "stdout",
     "output_type": "stream",
     "text": [
      "5232\n"
     ]
    }
   ],
   "source": [
    "with open('ELEICOES/tweets_eleicoes.json') as data_file:\n",
    "    data_string = data_file.read()\n",
    "    tweets = json.loads(data_string)\n",
    "    print(len(tweets))"
   ]
  },
  {
   "cell_type": "code",
   "execution_count": 24,
   "metadata": {
    "collapsed": true
   },
   "outputs": [],
   "source": [
    "samples = []\n",
    "\n",
    "indexes = random.sample(range(0,len(tweets)), 200)\n",
    "\n",
    "for index in indexes:\n",
    "    tweet = tweets[index]\n",
    "    try:\n",
    "        values = []\n",
    "        text_aux = \"\"\n",
    "\n",
    "        if tweet['is_quote_status'] == 'true':\n",
    "            if 'extended_tweet' in tweet['quoted_status']:\n",
    "                text_aux = tweet['text'] + tweet['quoted_status']['extended_tweet']['full_text']\n",
    "            else:\n",
    "                text_aux = tweet['text'] + tweet['quoted_status']['text']\n",
    "        elif 'retweeted_status' in tweet:\n",
    "            if 'extended_tweet' in tweet['retweeted_status']:\n",
    "                text_aux = tweet['retweeted_status']['extended_tweet']['full_text']\n",
    "            else:\n",
    "                text_aux = tweet['retweeted_status']['text']\n",
    "        else:\n",
    "            text_aux = tweet['text']\n",
    "\n",
    "        values.append(str('twe'+tweet['id_str']))\n",
    "        values.append(text_aux)\n",
    "        values.append('eleicoes')\n",
    "        samples.append(values)\n",
    "    except ValueError:\n",
    "        print('Failed:')\n",
    "        print(repr(data_string))\n",
    "    \n",
    "df = pd.DataFrame(data=samples, columns=columns)\n",
    "df.to_csv('ELEICOES.csv',sep='\\t',encoding='utf-8', index=False)"
   ]
  },
  {
   "cell_type": "markdown",
   "metadata": {
    "collapsed": true
   },
   "source": [
    "## Amostra para avaliação de auto-consistência e consistência entre os marcadores\n",
    "-----------\n",
    "#### Processo\n",
    "* Pegar todos arquivos e juntar em um data frame;\n",
    "* Aleatorizar as linhas e dividir o data frame em 4 partes;\n",
    "* Para cada data frame $D_i$, pegue 10 linhas aleatórios e dupliques no data frame $D_i$;\n",
    "* Para cada data frame $D_i$, pegar as 20 primeiras linhas dos data frames $D_{i+1 \\mod 4}$, $D_{i+2 \\mod 4}$ e $D_{i+3 \\mod 4}$."
   ]
  },
  {
   "cell_type": "code",
   "execution_count": 25,
   "metadata": {},
   "outputs": [
    {
     "data": {
      "text/plain": [
       "['MANUELA.csv',\n",
       " 'LULA.csv',\n",
       " 'CIRO.csv',\n",
       " 'TEMER.csv',\n",
       " 'MARINA.csv',\n",
       " 'BOLSONARO.csv',\n",
       " 'ALCKMIN.csv']"
      ]
     },
     "execution_count": 25,
     "metadata": {},
     "output_type": "execute_result"
    }
   ],
   "source": [
    "smpls = os.listdir('/home/alysson/Downloads/Tweets/SAMPLES/')\n",
    "smpls"
   ]
  },
  {
   "cell_type": "code",
   "execution_count": 43,
   "metadata": {},
   "outputs": [],
   "source": [
    "dfs = []\n",
    "for s in smpls:\n",
    "    dfs.append(pd.read_csv('/home/alysson/Downloads/Tweets/SAMPLES/'+s, sep='\\t'))"
   ]
  },
  {
   "cell_type": "code",
   "execution_count": 44,
   "metadata": {},
   "outputs": [],
   "source": [
    "df = pd.concat(dfs) #concatenar data frames"
   ]
  },
  {
   "cell_type": "code",
   "execution_count": 58,
   "metadata": {},
   "outputs": [],
   "source": [
    "df = df.sample(frac=1).reset_index(drop=True) #shuffle entre as linhas"
   ]
  },
  {
   "cell_type": "code",
   "execution_count": 46,
   "metadata": {},
   "outputs": [],
   "source": [
    "marcadores = ['alysson','dalai','romulo','raul']"
   ]
  },
  {
   "cell_type": "code",
   "execution_count": 47,
   "metadata": {
    "collapsed": true
   },
   "outputs": [],
   "source": [
    "df['marcador'] = ''"
   ]
  },
  {
   "cell_type": "code",
   "execution_count": 64,
   "metadata": {},
   "outputs": [],
   "source": [
    "c = 0\n",
    "for tweet in df.values:\n",
    "    tweet[3] = marcadores[c%4]\n",
    "    c += 1"
   ]
  },
  {
   "cell_type": "code",
   "execution_count": 69,
   "metadata": {},
   "outputs": [],
   "source": [
    "alysson = df[df['marcador'] == 'alysson']\n",
    "dalai = df[df['marcador'] == 'dalai']\n",
    "romulo = df[df['marcador'] == 'romulo']\n",
    "raul = df[df['marcador'] == 'raul']"
   ]
  },
  {
   "cell_type": "code",
   "execution_count": 70,
   "metadata": {},
   "outputs": [],
   "source": [
    "dtframes = [alysson, dalai, romulo, raul]"
   ]
  },
  {
   "cell_type": "code",
   "execution_count": 77,
   "metadata": {},
   "outputs": [],
   "source": [
    "i = 0\n",
    "for d in dtframes:\n",
    "    dtframes[i] = pd.concat([d,d[0:10]])\n",
    "    i += 1"
   ]
  },
  {
   "cell_type": "code",
   "execution_count": 80,
   "metadata": {},
   "outputs": [
    {
     "data": {
      "text/html": [
       "<div>\n",
       "<style scoped>\n",
       "    .dataframe tbody tr th:only-of-type {\n",
       "        vertical-align: middle;\n",
       "    }\n",
       "\n",
       "    .dataframe tbody tr th {\n",
       "        vertical-align: top;\n",
       "    }\n",
       "\n",
       "    .dataframe thead th {\n",
       "        text-align: right;\n",
       "    }\n",
       "</style>\n",
       "<table border=\"1\" class=\"dataframe\">\n",
       "  <thead>\n",
       "    <tr style=\"text-align: right;\">\n",
       "      <th></th>\n",
       "      <th>id</th>\n",
       "      <th>tweet</th>\n",
       "      <th>candidato</th>\n",
       "      <th>marcador</th>\n",
       "    </tr>\n",
       "  </thead>\n",
       "  <tbody>\n",
       "    <tr>\n",
       "      <th>0</th>\n",
       "      <td>twe977318071722442752</td>\n",
       "      <td>@jangodurango \"Se eu soubesse que tu queria nã...</td>\n",
       "      <td>lula</td>\n",
       "      <td>alysson</td>\n",
       "    </tr>\n",
       "    <tr>\n",
       "      <th>4</th>\n",
       "      <td>twe978104151359008769</td>\n",
       "      <td>Retweeted Florisvaldo Raimundo (@Florisrs):\\n\\...</td>\n",
       "      <td>lula</td>\n",
       "      <td>alysson</td>\n",
       "    </tr>\n",
       "    <tr>\n",
       "      <th>8</th>\n",
       "      <td>twe984802485360582656</td>\n",
       "      <td>Ao invés dos petistas estarem buscando livrar ...</td>\n",
       "      <td>alckmin</td>\n",
       "      <td>alysson</td>\n",
       "    </tr>\n",
       "    <tr>\n",
       "      <th>12</th>\n",
       "      <td>twe977572021361168389</td>\n",
       "      <td>@CshmKnCaioHen @Peaotrabalhador @MiguelAMSA61 ...</td>\n",
       "      <td>manuela</td>\n",
       "      <td>alysson</td>\n",
       "    </tr>\n",
       "    <tr>\n",
       "      <th>16</th>\n",
       "      <td>twe977558211447443457</td>\n",
       "      <td>A pergunta é séria, @manudeputada: quer me pag...</td>\n",
       "      <td>manuela</td>\n",
       "      <td>alysson</td>\n",
       "    </tr>\n",
       "    <tr>\n",
       "      <th>20</th>\n",
       "      <td>twe977347407011897345</td>\n",
       "      <td>DISPARADO!!! 90%... https://t.co/f5G9063duC</td>\n",
       "      <td>bolsonaro</td>\n",
       "      <td>alysson</td>\n",
       "    </tr>\n",
       "    <tr>\n",
       "      <th>24</th>\n",
       "      <td>twe984494027956543488</td>\n",
       "      <td>O que acontece agora que o inquérito de Alckmi...</td>\n",
       "      <td>alckmin</td>\n",
       "      <td>alysson</td>\n",
       "    </tr>\n",
       "    <tr>\n",
       "      <th>28</th>\n",
       "      <td>twe981677295676084224</td>\n",
       "      <td>- \"aécio é flagrado pedindo grana a empresário...</td>\n",
       "      <td>temer</td>\n",
       "      <td>alysson</td>\n",
       "    </tr>\n",
       "    <tr>\n",
       "      <th>32</th>\n",
       "      <td>twe978200570740822017</td>\n",
       "      <td>Se a bunda de algum ministro sentar sobre o pr...</td>\n",
       "      <td>lula</td>\n",
       "      <td>alysson</td>\n",
       "    </tr>\n",
       "    <tr>\n",
       "      <th>36</th>\n",
       "      <td>twe982682347484180482</td>\n",
       "      <td>Hoje, não há lado certo ou lado errado. Lula é...</td>\n",
       "      <td>temer</td>\n",
       "      <td>alysson</td>\n",
       "    </tr>\n",
       "    <tr>\n",
       "      <th>40</th>\n",
       "      <td>twe984980191066849280</td>\n",
       "      <td>Decisões do STF e do STJ de encaminhar process...</td>\n",
       "      <td>alckmin</td>\n",
       "      <td>alysson</td>\n",
       "    </tr>\n",
       "    <tr>\n",
       "      <th>44</th>\n",
       "      <td>twe983555366133944320</td>\n",
       "      <td>PARA OS QUE AINDA NÃO SABEM!\\nA pré-candidata ...</td>\n",
       "      <td>marina</td>\n",
       "      <td>alysson</td>\n",
       "    </tr>\n",
       "    <tr>\n",
       "      <th>48</th>\n",
       "      <td>twe982063664000847879</td>\n",
       "      <td>@geodrade @silva_marina Ok. Então quer dizer o...</td>\n",
       "      <td>marina</td>\n",
       "      <td>alysson</td>\n",
       "    </tr>\n",
       "    <tr>\n",
       "      <th>52</th>\n",
       "      <td>twe977588404731961344</td>\n",
       "      <td>Ciro Gomes confirmado no Fórum da Liberdade, e...</td>\n",
       "      <td>ciro</td>\n",
       "      <td>alysson</td>\n",
       "    </tr>\n",
       "    <tr>\n",
       "      <th>56</th>\n",
       "      <td>twe977544167080505344</td>\n",
       "      <td>@FaalaFiote @manudeputada @PCdoB_Oficial É org...</td>\n",
       "      <td>manuela</td>\n",
       "      <td>alysson</td>\n",
       "    </tr>\n",
       "    <tr>\n",
       "      <th>60</th>\n",
       "      <td>twe982192053986648066</td>\n",
       "      <td>@silva_marina Fica calada criatura!</td>\n",
       "      <td>marina</td>\n",
       "      <td>alysson</td>\n",
       "    </tr>\n",
       "    <tr>\n",
       "      <th>64</th>\n",
       "      <td>twe977861275270053888</td>\n",
       "      <td>@cirogomes @Collor @LucianoHuck @RodrigoMaia h...</td>\n",
       "      <td>ciro</td>\n",
       "      <td>alysson</td>\n",
       "    </tr>\n",
       "    <tr>\n",
       "      <th>68</th>\n",
       "      <td>twe977608525882036225</td>\n",
       "      <td>@manudeputada para de ser tao maravilhosa af!!...</td>\n",
       "      <td>manuela</td>\n",
       "      <td>alysson</td>\n",
       "    </tr>\n",
       "    <tr>\n",
       "      <th>72</th>\n",
       "      <td>twe980994626566967296</td>\n",
       "      <td>Muitos coxinhas,Globotomizados e saudosistas d...</td>\n",
       "      <td>temer</td>\n",
       "      <td>alysson</td>\n",
       "    </tr>\n",
       "    <tr>\n",
       "      <th>76</th>\n",
       "      <td>twe984257447060701185</td>\n",
       "      <td>A desculpa era o foro privilegiado. Perde o fo...</td>\n",
       "      <td>alckmin</td>\n",
       "      <td>alysson</td>\n",
       "    </tr>\n",
       "  </tbody>\n",
       "</table>\n",
       "</div>"
      ],
      "text/plain": [
       "                       id                                              tweet  \\\n",
       "0   twe977318071722442752  @jangodurango \"Se eu soubesse que tu queria nã...   \n",
       "4   twe978104151359008769  Retweeted Florisvaldo Raimundo (@Florisrs):\\n\\...   \n",
       "8   twe984802485360582656  Ao invés dos petistas estarem buscando livrar ...   \n",
       "12  twe977572021361168389  @CshmKnCaioHen @Peaotrabalhador @MiguelAMSA61 ...   \n",
       "16  twe977558211447443457  A pergunta é séria, @manudeputada: quer me pag...   \n",
       "20  twe977347407011897345        DISPARADO!!! 90%... https://t.co/f5G9063duC   \n",
       "24  twe984494027956543488  O que acontece agora que o inquérito de Alckmi...   \n",
       "28  twe981677295676084224  - \"aécio é flagrado pedindo grana a empresário...   \n",
       "32  twe978200570740822017  Se a bunda de algum ministro sentar sobre o pr...   \n",
       "36  twe982682347484180482  Hoje, não há lado certo ou lado errado. Lula é...   \n",
       "40  twe984980191066849280  Decisões do STF e do STJ de encaminhar process...   \n",
       "44  twe983555366133944320  PARA OS QUE AINDA NÃO SABEM!\\nA pré-candidata ...   \n",
       "48  twe982063664000847879  @geodrade @silva_marina Ok. Então quer dizer o...   \n",
       "52  twe977588404731961344  Ciro Gomes confirmado no Fórum da Liberdade, e...   \n",
       "56  twe977544167080505344  @FaalaFiote @manudeputada @PCdoB_Oficial É org...   \n",
       "60  twe982192053986648066                @silva_marina Fica calada criatura!   \n",
       "64  twe977861275270053888  @cirogomes @Collor @LucianoHuck @RodrigoMaia h...   \n",
       "68  twe977608525882036225  @manudeputada para de ser tao maravilhosa af!!...   \n",
       "72  twe980994626566967296  Muitos coxinhas,Globotomizados e saudosistas d...   \n",
       "76  twe984257447060701185  A desculpa era o foro privilegiado. Perde o fo...   \n",
       "\n",
       "    candidato marcador  \n",
       "0        lula  alysson  \n",
       "4        lula  alysson  \n",
       "8     alckmin  alysson  \n",
       "12    manuela  alysson  \n",
       "16    manuela  alysson  \n",
       "20  bolsonaro  alysson  \n",
       "24    alckmin  alysson  \n",
       "28      temer  alysson  \n",
       "32       lula  alysson  \n",
       "36      temer  alysson  \n",
       "40    alckmin  alysson  \n",
       "44     marina  alysson  \n",
       "48     marina  alysson  \n",
       "52       ciro  alysson  \n",
       "56    manuela  alysson  \n",
       "60     marina  alysson  \n",
       "64       ciro  alysson  \n",
       "68    manuela  alysson  \n",
       "72      temer  alysson  \n",
       "76    alckmin  alysson  "
      ]
     },
     "execution_count": 80,
     "metadata": {},
     "output_type": "execute_result"
    }
   ],
   "source": [
    "dtframes[0][0:20]"
   ]
  },
  {
   "cell_type": "code",
   "execution_count": 81,
   "metadata": {
    "collapsed": true
   },
   "outputs": [],
   "source": [
    "i = 0\n",
    "for d in dtframes:\n",
    "    dtframes[i] = pd.concat([dtframes[i], dtframes[(i+1)%4][0:20]])\n",
    "    dtframes[i] = pd.concat([dtframes[i], dtframes[(i+2)%4][0:20]])\n",
    "    dtframes[i] = pd.concat([dtframes[i], dtframes[(i+3)%4][0:20]])\n",
    "    i+=1"
   ]
  },
  {
   "cell_type": "code",
   "execution_count": 86,
   "metadata": {},
   "outputs": [
    {
     "name": "stdout",
     "output_type": "stream",
     "text": [
      "           id  tweet  candidato\n",
      "marcador                       \n",
      "alysson   360    360        360\n",
      "dalai      20     20         20\n",
      "raul       20     20         20\n",
      "romulo     20     20         20\n",
      "----------------------------------------\n",
      "           id  tweet  candidato\n",
      "marcador                       \n",
      "alysson    20     20         20\n",
      "dalai     360    360        360\n",
      "raul       20     20         20\n",
      "romulo     20     20         20\n",
      "----------------------------------------\n",
      "           id  tweet  candidato\n",
      "marcador                       \n",
      "alysson    20     20         20\n",
      "dalai      20     20         20\n",
      "raul       20     20         20\n",
      "romulo    360    360        360\n",
      "----------------------------------------\n",
      "           id  tweet  candidato\n",
      "marcador                       \n",
      "alysson    20     20         20\n",
      "dalai      20     20         20\n",
      "raul      360    360        360\n",
      "romulo     20     20         20\n",
      "----------------------------------------\n"
     ]
    }
   ],
   "source": [
    "for i in range(len(dtframes)):\n",
    "    print(dtframes[i].groupby('marcador').count())\n",
    "    print('----------------------------------------')"
   ]
  },
  {
   "cell_type": "code",
   "execution_count": 90,
   "metadata": {
    "collapsed": true
   },
   "outputs": [],
   "source": [
    "i = 0\n",
    "for d in dtframes:\n",
    "    d.to_csv(marcadores[i]+\".csv\", sep=';', index=False)\n",
    "    i += 1"
   ]
  }
 ],
 "metadata": {
  "kernelspec": {
   "display_name": "Python 3",
   "language": "python",
   "name": "python3"
  },
  "language_info": {
   "codemirror_mode": {
    "name": "ipython",
    "version": 3
   },
   "file_extension": ".py",
   "mimetype": "text/x-python",
   "name": "python",
   "nbconvert_exporter": "python",
   "pygments_lexer": "ipython3",
   "version": "3.6.3"
  }
 },
 "nbformat": 4,
 "nbformat_minor": 2
}
