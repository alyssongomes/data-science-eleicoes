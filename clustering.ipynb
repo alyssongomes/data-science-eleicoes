{
 "cells": [
  {
   "cell_type": "code",
   "execution_count": 1,
   "metadata": {
    "collapsed": true
   },
   "outputs": [],
   "source": [
    "import pandas as pd\n",
    "import numpy as np\n",
    "import matplotlib.pyplot as plt\n",
    "import re\n",
    "import math\n",
    "\n",
    "import nltk\n",
    "from nltk.corpus import stopwords\n",
    "\n",
    "from sklearn.feature_extraction.text import CountVectorizer\n",
    "from sklearn.feature_extraction.text import TfidfTransformer\n",
    "\n",
    "from pymongo import MongoClient\n",
    "import json"
   ]
  },
  {
   "cell_type": "code",
   "execution_count": 3,
   "metadata": {
    "collapsed": true
   },
   "outputs": [],
   "source": [
    "con = MongoClient('localhost',27017)\n",
    "db = con.politica"
   ]
  },
  {
   "cell_type": "code",
   "execution_count": 2,
   "metadata": {
    "collapsed": true
   },
   "outputs": [],
   "source": [
    "dataset = pd.DataFrame()"
   ]
  },
  {
   "cell_type": "code",
   "execution_count": 4,
   "metadata": {
    "collapsed": true
   },
   "outputs": [],
   "source": [
    "text_tweets = []\n",
    "for tweet in db.tweets_manuela.find():\n",
    "    twitterText = \"\"\n",
    "    if('retweeted_status' in tweet):\n",
    "        if('extended_tweet' in tweet['retweeted_status']):\n",
    "            twitterText = tweet['retweeted_status']['extended_tweet']['full_text']\n",
    "        else:\n",
    "            twitterText = tweet['retweeted_status']['text']\n",
    "\n",
    "    elif('extended_tweet' in tweet):\n",
    "        twitterText = tweet['extended_tweet']['full_text']\n",
    "    else:\n",
    "        twitterText = tweet['text']\n",
    "    \n",
    "    text_tweets.append(twitterText)\n",
    "\n",
    "dataset['text'] = pd.Series(text_tweets)"
   ]
  },
  {
   "cell_type": "code",
   "execution_count": 5,
   "metadata": {
    "collapsed": true
   },
   "outputs": [],
   "source": [
    "dataset['text_processed'] = np.nan # coluna que guardará os tweets processados"
   ]
  },
  {
   "cell_type": "code",
   "execution_count": 31,
   "metadata": {
    "collapsed": true
   },
   "outputs": [],
   "source": [
    "# download do pacote de preprocessamente para língua portuguesa\n",
    "#nltk.download('rslp')"
   ]
  },
  {
   "cell_type": "code",
   "execution_count": 6,
   "metadata": {},
   "outputs": [
    {
     "name": "stderr",
     "output_type": "stream",
     "text": [
      "/home/alysson/miniconda3/lib/python3.6/site-packages/ipykernel_launcher.py:27: SettingWithCopyWarning: \n",
      "A value is trying to be set on a copy of a slice from a DataFrame\n",
      "\n",
      "See the caveats in the documentation: http://pandas.pydata.org/pandas-docs/stable/indexing.html#indexing-view-versus-copy\n",
      "/home/alysson/miniconda3/lib/python3.6/site-packages/pandas/core/indexing.py:194: SettingWithCopyWarning: \n",
      "A value is trying to be set on a copy of a slice from a DataFrame\n",
      "\n",
      "See the caveats in the documentation: http://pandas.pydata.org/pandas-docs/stable/indexing.html#indexing-view-versus-copy\n",
      "  self._setitem_with_indexer(indexer, value)\n"
     ]
    }
   ],
   "source": [
    "#Preprocessar as palavras\n",
    "stemmer = nltk.stem.RSLPStemmer()\n",
    "for ind, tweet in enumerate(dataset['text']):\n",
    "    t = tweet\n",
    "    t = t.lower() # removendo letras maiúsculas\n",
    "    t = re.sub(r'(\\b)?@\\w+','',t) #removendo referências a outros perfis\n",
    "    t = re.sub(r'(\\b)?#\\w+','',t) #removendo hashtags\n",
    "    t = re.sub(r'http\\S+','',t,flags=re.MULTILINE) #removendo links\n",
    "    t = re.sub(r'https\\S+','',t,flags=re.MULTILINE) #removendo links\n",
    "    t = re.sub(r'(\\w+)?\\d(\\w+)?','',t) # removendo números\n",
    "    t = re.sub(r',|\\\"|!|\\n|:|\\.|\\?|;|\\(|\\)|#',' ',t) #removendo pontuações\n",
    "    \n",
    "    # removendo stopwords\n",
    "    nsw = ''\n",
    "    for word in t.split(' '):\n",
    "        if word not in stopwords.words('portuguese'):\n",
    "            nsw += word+' '\n",
    "    t = nsw.strip()\n",
    "    t = re.sub(r' +',' ',t) # removendo espaços duplos\n",
    "    t = t.strip() # remover espaços vazios no início e no fim\n",
    "    \n",
    "    # isolando o radical das palavras\n",
    "    if len(t) > 0:\n",
    "        t = t.split(' ')\n",
    "        ste = [stemmer.stem(word) for word in t]\n",
    "        processedTweet = ' '.join(ste)\n",
    "        dataset['text_processed'][ind] = processedTweet\n",
    "    else:\n",
    "        dataset['text_processed'][ind] = ''"
   ]
  },
  {
   "cell_type": "code",
   "execution_count": 7,
   "metadata": {
    "collapsed": true
   },
   "outputs": [],
   "source": [
    "#Objetos para vetorizar e calcular as frequencias das palavras\n",
    "count_vect = CountVectorizer()\n",
    "tfidf = TfidfTransformer()"
   ]
  },
  {
   "cell_type": "code",
   "execution_count": 8,
   "metadata": {},
   "outputs": [
    {
     "data": {
      "text/plain": [
       "(3773, 3287)"
      ]
     },
     "execution_count": 8,
     "metadata": {},
     "output_type": "execute_result"
    }
   ],
   "source": [
    "#Indexando as palavras do corpos\n",
    "matrix_vectorized = count_vect.fit_transform(dataset['text_processed'].values.tolist())\n",
    "matrix_vectorized.shape"
   ]
  },
  {
   "cell_type": "code",
   "execution_count": 35,
   "metadata": {},
   "outputs": [
    {
     "data": {
      "text/plain": [
       "['aaa',\n",
       " 'aaaaaaa',\n",
       " 'aaaaaaaaaaaqaaaaaaaaaaqqqqqadhehsbhejajansbndnd',\n",
       " 'aaaaaaaag',\n",
       " 'ab',\n",
       " 'abaix',\n",
       " 'abandon',\n",
       " 'abert',\n",
       " 'abig',\n",
       " 'abobr']"
      ]
     },
     "execution_count": 35,
     "metadata": {},
     "output_type": "execute_result"
    }
   ],
   "source": [
    "#Features da matrix\n",
    "count_vect.get_feature_names()[0:10]"
   ]
  },
  {
   "cell_type": "code",
   "execution_count": 20,
   "metadata": {
    "collapsed": true
   },
   "outputs": [],
   "source": [
    "#Calculando o TF e o IDF das palavras de cada tweet\n",
    "matrix_tfidf = tfidf.fit_transform(matrix_vectorized)"
   ]
  },
  {
   "cell_type": "code",
   "execution_count": 21,
   "metadata": {},
   "outputs": [
    {
     "data": {
      "text/plain": [
       "(3773, 3287)"
      ]
     },
     "execution_count": 21,
     "metadata": {},
     "output_type": "execute_result"
    }
   ],
   "source": [
    "matrix_tfidf.shape"
   ]
  },
  {
   "cell_type": "markdown",
   "metadata": {},
   "source": [
    "## Clusterização com DBSCAN"
   ]
  },
  {
   "cell_type": "code",
   "execution_count": 9,
   "metadata": {
    "collapsed": true
   },
   "outputs": [],
   "source": [
    "from sklearn.metrics.pairwise import cosine_distances\n",
    "from sklearn.metrics.pairwise import euclidean_distances\n",
    "from sklearn.cluster import DBSCAN"
   ]
  },
  {
   "cell_type": "code",
   "execution_count": 10,
   "metadata": {},
   "outputs": [
    {
     "data": {
      "text/plain": [
       "(3773, 3773)"
      ]
     },
     "execution_count": 10,
     "metadata": {},
     "output_type": "execute_result"
    }
   ],
   "source": [
    "#matrix_distances = cosine_distances(matrix_tfidf)\n",
    "matrix_distances_cosine = cosine_distances(matrix_vectorized) #computando distâncias representação vetorial sem tf-idf\n",
    "matrix_distances_cosine.shape"
   ]
  },
  {
   "cell_type": "code",
   "execution_count": 11,
   "metadata": {},
   "outputs": [
    {
     "data": {
      "text/plain": [
       "(3773, 3773)"
      ]
     },
     "execution_count": 11,
     "metadata": {},
     "output_type": "execute_result"
    }
   ],
   "source": [
    "matrix_distances_euclidean = euclidean_distances(matrix_vectorized) #computando distâncias representação vetorial sem tf-idf\n",
    "matrix_distances_euclidean.shape"
   ]
  },
  {
   "cell_type": "code",
   "execution_count": 12,
   "metadata": {},
   "outputs": [
    {
     "name": "stdout",
     "output_type": "stream",
     "text": [
      "Distância cosseno, máximo:  1.0\n",
      "Distância cosseno, média:  0.951017825534179\n",
      "Distância cosseno, std:  0.15939335449203385\n",
      "Distância cosseno, mínimo:  1.0\n",
      "-----------------------------------\n",
      "Distância euclidiana, máximo:  19.390719429665317\n",
      "Distância euclidiana, média:  4.550658562538737\n",
      "Distância euclidiana, std:  1.5486174686388592\n",
      "Distância euclidiana, mínimo:  1.5486174686388592\n"
     ]
    }
   ],
   "source": [
    "print(\"Distância cosseno, máximo: \",matrix_distances_cosine.max())\n",
    "print(\"Distância cosseno, média: \",matrix_distances_cosine.mean())\n",
    "print(\"Distância cosseno, std: \",matrix_distances_cosine.std())\n",
    "print(\"Distância cosseno, mínimo: \",matrix_distances_cosine.max())\n",
    "print(\"-----------------------------------\")\n",
    "print(\"Distância euclidiana, máximo: \",matrix_distances_euclidean.max())\n",
    "print(\"Distância euclidiana, média: \",matrix_distances_euclidean.mean())\n",
    "print(\"Distância euclidiana, std: \",matrix_distances_euclidean.std())\n",
    "print(\"Distância euclidiana, mínimo: \",matrix_distances_euclidean.std())"
   ]
  },
  {
   "cell_type": "markdown",
   "metadata": {},
   "source": [
    "#### Para determinar Eps e MinPoints ideais vamos utilizar as seguintes abordagens:\n",
    "1. [A Dynamic Method for Discovering Density Varied Clusters](http://www.sersc.org/journals/IJSIP/vol6_no1/9.pdf)\n"
   ]
  },
  {
   "cell_type": "code",
   "execution_count": 108,
   "metadata": {},
   "outputs": [
    {
     "data": {
      "image/png": "[encoded data removed]",
      "text/plain": [
       "<matplotlib.figure.Figure at 0x7f742c03b978>"
      ]
     },
     "metadata": {},
     "output_type": "display_data"
    }
   ],
   "source": [
    "# ABORDAGEM 1\n",
    "def k_dist(k, i, points):\n",
    "    dist = []\n",
    "    smaller = np.max(points)\n",
    "    for i in range(0,k):\n",
    "        for j in range(len(points)):\n",
    "            if j != i:\n",
    "                if points[j] < smaller and points[j] != 0:\n",
    "                    smaller = points[j]\n",
    "        dist.append(smaller)\n",
    "    return np.mean(dist)\n",
    "\n",
    "i = 0\n",
    "y = []\n",
    "while i < len(matrix_distances_euclidean):\n",
    "    y.append(k_dist(3,i,matrix_distances_euclidean[i]))\n",
    "    i += 1\n",
    "y.sort()\n",
    "    \n",
    "plt.figure(figsize=(15,10))\n",
    "plt.plot(y)\n",
    "plt.grid(color='g', linestyle='-', linewidth=1)\n",
    "plt.ylabel('médias dos k mais próximos')\n",
    "plt.title('Variação de densidade')\n",
    "plt.show()"
   ]
  },
  {
   "cell_type": "code",
   "execution_count": 13,
   "metadata": {
    "collapsed": true
   },
   "outputs": [],
   "source": [
    "# dbscan_cosine_distance = DBSCAN(eps=0.8, min_samples=30, metric=\"precomputed\")\n",
    "# clusters_cosine_dbscan = dbscan_cosine_distance.fit(matrix_distances_cosine)\n",
    "\n",
    "minPoints = math.log(len(matrix_distances_euclidean))\n",
    "dbscan_euclidean_distance = DBSCAN(eps=4.550658562538737, min_samples= minPoints, metric=\"precomputed\")\n",
    "clusters_euclidean_dbscan = dbscan_euclidean_distance.fit(matrix_distances_euclidean)"
   ]
  },
  {
   "cell_type": "markdown",
   "metadata": {},
   "source": [
    "#### Grid Search para Eps e MinPoints"
   ]
  },
  {
   "cell_type": "code",
   "execution_count": 65,
   "metadata": {},
   "outputs": [
    {
     "name": "stdout",
     "output_type": "stream",
     "text": [
      "eps= 4.0 , minpoints= 8\n",
      "cluster_euclidean_dbscan\n",
      "-1    -548.0\n",
      " 0   -1515.0\n",
      " 1   -3843.0\n",
      " 2     -60.0\n",
      " 3    -450.0\n",
      " 4     -98.0\n",
      "Name: polaridade, dtype: float64\n",
      "-------------------------------------------------\n",
      "eps= 4.0 , minpoints= 9\n",
      "cluster_euclidean_dbscan\n",
      "-1    -548.0\n",
      " 0   -1515.0\n",
      " 1   -3843.0\n",
      " 2     -60.0\n",
      " 3    -450.0\n",
      " 4     -98.0\n",
      "Name: polaridade, dtype: float64\n",
      "-------------------------------------------------\n",
      "eps= 4.0 , minpoints= 10\n",
      "cluster_euclidean_dbscan\n",
      "-1    -548.0\n",
      " 0   -1515.0\n",
      " 1   -3843.0\n",
      " 2     -60.0\n",
      " 3    -450.0\n",
      " 4     -98.0\n",
      "Name: polaridade, dtype: float64\n",
      "-------------------------------------------------\n",
      "eps= 4.0 , minpoints= 11\n",
      "cluster_euclidean_dbscan\n",
      "-1    -548.0\n",
      " 0   -1515.0\n",
      " 1   -3843.0\n",
      " 2     -60.0\n",
      " 3    -450.0\n",
      " 4     -98.0\n",
      "Name: polaridade, dtype: float64\n",
      "-------------------------------------------------\n",
      "eps= 4.0 , minpoints= 12\n",
      "cluster_euclidean_dbscan\n",
      "-1    -548.0\n",
      " 0   -1515.0\n",
      " 1   -3843.0\n",
      " 2     -60.0\n",
      " 3    -450.0\n",
      " 4     -98.0\n",
      "Name: polaridade, dtype: float64\n",
      "-------------------------------------------------\n",
      "eps= 4.0 , minpoints= 13\n",
      "cluster_euclidean_dbscan\n",
      "-1    -646.0\n",
      " 0   -1515.0\n",
      " 1   -3843.0\n",
      " 2     -60.0\n",
      " 3    -450.0\n",
      "Name: polaridade, dtype: float64\n",
      "-------------------------------------------------\n",
      "eps= 4.0 , minpoints= 14\n",
      "cluster_euclidean_dbscan\n",
      "-1    -646.0\n",
      " 0   -1515.0\n",
      " 1   -3843.0\n",
      " 2     -60.0\n",
      " 3    -450.0\n",
      "Name: polaridade, dtype: float64\n",
      "-------------------------------------------------\n",
      "eps= 4.0 , minpoints= 15\n",
      "cluster_euclidean_dbscan\n",
      "-1    -646.0\n",
      " 0   -1515.0\n",
      " 1   -3843.0\n",
      " 2     -60.0\n",
      " 3    -450.0\n",
      "Name: polaridade, dtype: float64\n",
      "-------------------------------------------------\n",
      "eps= 4.0 , minpoints= 16\n",
      "cluster_euclidean_dbscan\n",
      "-1    -646.0\n",
      " 0   -1515.0\n",
      " 1   -3843.0\n",
      " 2     -60.0\n",
      " 3    -450.0\n",
      "Name: polaridade, dtype: float64\n",
      "-------------------------------------------------\n",
      "eps= 4.0 , minpoints= 17\n",
      "cluster_euclidean_dbscan\n",
      "-1    -646.0\n",
      " 0   -1515.0\n",
      " 1   -3843.0\n",
      " 2     -60.0\n",
      " 3    -450.0\n",
      "Name: polaridade, dtype: float64\n",
      "-------------------------------------------------\n",
      "eps= 4.0 , minpoints= 18\n",
      "cluster_euclidean_dbscan\n",
      "-1    -646.0\n",
      " 0   -1515.0\n",
      " 1   -3843.0\n",
      " 2     -60.0\n",
      " 3    -450.0\n",
      "Name: polaridade, dtype: float64\n",
      "-------------------------------------------------\n",
      "eps= 4.0 , minpoints= 19\n",
      "cluster_euclidean_dbscan\n",
      "-1    -646.0\n",
      " 0   -1515.0\n",
      " 1   -3843.0\n",
      " 2     -60.0\n",
      " 3    -450.0\n",
      "Name: polaridade, dtype: float64\n",
      "-------------------------------------------------\n",
      "eps= 4.0 , minpoints= 20\n",
      "cluster_euclidean_dbscan\n",
      "-1    -646.0\n",
      " 0   -1515.0\n",
      " 1   -3843.0\n",
      " 2     -60.0\n",
      " 3    -450.0\n",
      "Name: polaridade, dtype: float64\n",
      "-------------------------------------------------\n",
      "eps= 4.0 , minpoints= 21\n",
      "cluster_euclidean_dbscan\n",
      "-1    -706.0\n",
      " 0   -1515.0\n",
      " 1   -3843.0\n",
      " 2    -450.0\n",
      "Name: polaridade, dtype: float64\n",
      "-------------------------------------------------\n",
      "eps= 4.0 , minpoints= 22\n",
      "cluster_euclidean_dbscan\n",
      "-1    -706.0\n",
      " 0   -1515.0\n",
      " 1   -3843.0\n",
      " 2    -450.0\n",
      "Name: polaridade, dtype: float64\n",
      "-------------------------------------------------\n",
      "eps= 4.0 , minpoints= 23\n",
      "cluster_euclidean_dbscan\n",
      "-1    -706.0\n",
      " 0   -1515.0\n",
      " 1   -3843.0\n",
      " 2    -450.0\n",
      "Name: polaridade, dtype: float64\n",
      "-------------------------------------------------\n",
      "eps= 4.1 , minpoints= 8\n",
      "cluster_euclidean_dbscan\n",
      "-1    -548.0\n",
      " 0   -1515.0\n",
      " 1   -3843.0\n",
      " 2     -60.0\n",
      " 3    -450.0\n",
      " 4     -98.0\n",
      "Name: polaridade, dtype: float64\n",
      "-------------------------------------------------\n",
      "eps= 4.1 , minpoints= 9\n",
      "cluster_euclidean_dbscan\n",
      "-1    -548.0\n",
      " 0   -1515.0\n",
      " 1   -3843.0\n",
      " 2     -60.0\n",
      " 3    -450.0\n",
      " 4     -98.0\n",
      "Name: polaridade, dtype: float64\n",
      "-------------------------------------------------\n",
      "eps= 4.1 , minpoints= 10\n",
      "cluster_euclidean_dbscan\n",
      "-1    -548.0\n",
      " 0   -1515.0\n",
      " 1   -3843.0\n",
      " 2     -60.0\n",
      " 3    -450.0\n",
      " 4     -98.0\n",
      "Name: polaridade, dtype: float64\n",
      "-------------------------------------------------\n",
      "eps= 4.1 , minpoints= 11\n",
      "cluster_euclidean_dbscan\n",
      "-1    -548.0\n",
      " 0   -1515.0\n",
      " 1   -3843.0\n",
      " 2     -60.0\n",
      " 3    -450.0\n",
      " 4     -98.0\n",
      "Name: polaridade, dtype: float64\n",
      "-------------------------------------------------\n",
      "eps= 4.1 , minpoints= 12\n",
      "cluster_euclidean_dbscan\n",
      "-1    -548.0\n",
      " 0   -1515.0\n",
      " 1   -3843.0\n",
      " 2     -60.0\n",
      " 3    -450.0\n",
      " 4     -98.0\n",
      "Name: polaridade, dtype: float64\n",
      "-------------------------------------------------\n",
      "eps= 4.1 , minpoints= 13\n",
      "cluster_euclidean_dbscan\n",
      "-1    -646.0\n",
      " 0   -1515.0\n",
      " 1   -3843.0\n",
      " 2     -60.0\n",
      " 3    -450.0\n",
      "Name: polaridade, dtype: float64\n",
      "-------------------------------------------------\n",
      "eps= 4.1 , minpoints= 14\n",
      "cluster_euclidean_dbscan\n",
      "-1    -646.0\n",
      " 0   -1515.0\n",
      " 1   -3843.0\n",
      " 2     -60.0\n",
      " 3    -450.0\n",
      "Name: polaridade, dtype: float64\n",
      "-------------------------------------------------\n",
      "eps= 4.1 , minpoints= 15\n",
      "cluster_euclidean_dbscan\n",
      "-1    -646.0\n",
      " 0   -1515.0\n",
      " 1   -3843.0\n",
      " 2     -60.0\n",
      " 3    -450.0\n",
      "Name: polaridade, dtype: float64\n",
      "-------------------------------------------------\n",
      "eps= 4.1 , minpoints= 16\n",
      "cluster_euclidean_dbscan\n",
      "-1    -646.0\n",
      " 0   -1515.0\n",
      " 1   -3843.0\n",
      " 2     -60.0\n",
      " 3    -450.0\n",
      "Name: polaridade, dtype: float64\n",
      "-------------------------------------------------\n",
      "eps= 4.1 , minpoints= 17\n",
      "cluster_euclidean_dbscan\n",
      "-1    -646.0\n",
      " 0   -1515.0\n",
      " 1   -3843.0\n",
      " 2     -60.0\n",
      " 3    -450.0\n",
      "Name: polaridade, dtype: float64\n",
      "-------------------------------------------------\n",
      "eps= 4.1 , minpoints= 18\n",
      "cluster_euclidean_dbscan\n",
      "-1    -646.0\n",
      " 0   -1515.0\n",
      " 1   -3843.0\n",
      " 2     -60.0\n",
      " 3    -450.0\n",
      "Name: polaridade, dtype: float64\n",
      "-------------------------------------------------\n",
      "eps= 4.1 , minpoints= 19\n",
      "cluster_euclidean_dbscan\n",
      "-1    -646.0\n",
      " 0   -1515.0\n",
      " 1   -3843.0\n",
      " 2     -60.0\n",
      " 3    -450.0\n",
      "Name: polaridade, dtype: float64\n",
      "-------------------------------------------------\n",
      "eps= 4.1 , minpoints= 20\n",
      "cluster_euclidean_dbscan\n",
      "-1    -646.0\n",
      " 0   -1515.0\n",
      " 1   -3843.0\n",
      " 2     -60.0\n",
      " 3    -450.0\n",
      "Name: polaridade, dtype: float64\n",
      "-------------------------------------------------\n",
      "eps= 4.1 , minpoints= 21\n",
      "cluster_euclidean_dbscan\n",
      "-1    -706.0\n",
      " 0   -1515.0\n",
      " 1   -3843.0\n",
      " 2    -450.0\n",
      "Name: polaridade, dtype: float64\n",
      "-------------------------------------------------\n",
      "eps= 4.1 , minpoints= 22\n",
      "cluster_euclidean_dbscan\n",
      "-1    -706.0\n",
      " 0   -1515.0\n",
      " 1   -3843.0\n",
      " 2    -450.0\n",
      "Name: polaridade, dtype: float64\n",
      "-------------------------------------------------\n",
      "eps= 4.1 , minpoints= 23\n",
      "cluster_euclidean_dbscan\n",
      "-1    -706.0\n",
      " 0   -1515.0\n",
      " 1   -3843.0\n",
      " 2    -450.0\n",
      "Name: polaridade, dtype: float64\n",
      "-------------------------------------------------\n",
      "eps= 4.2 , minpoints= 8\n",
      "cluster_euclidean_dbscan\n",
      "-1    -522.0\n",
      " 0   -1515.0\n",
      " 1   -3869.0\n",
      " 2     -60.0\n",
      " 3    -450.0\n",
      " 4     -98.0\n",
      "Name: polaridade, dtype: float64\n",
      "-------------------------------------------------\n",
      "eps= 4.2 , minpoints= 9\n",
      "cluster_euclidean_dbscan\n",
      "-1    -501.0\n",
      " 0   -1515.0\n",
      " 1   -3890.0\n",
      " 2     -60.0\n",
      " 3    -450.0\n",
      " 4     -98.0\n",
      "Name: polaridade, dtype: float64\n",
      "-------------------------------------------------\n",
      "eps= 4.2 , minpoints= 10\n",
      "cluster_euclidean_dbscan\n",
      "-1    -501.0\n",
      " 0   -1515.0\n",
      " 1   -3890.0\n",
      " 2     -60.0\n",
      " 3    -450.0\n",
      " 4     -98.0\n",
      "Name: polaridade, dtype: float64\n",
      "-------------------------------------------------\n",
      "eps= 4.2 , minpoints= 11\n",
      "cluster_euclidean_dbscan\n",
      "-1    -501.0\n",
      " 0   -1515.0\n",
      " 1   -3890.0\n",
      " 2     -60.0\n",
      " 3    -450.0\n",
      " 4     -98.0\n",
      "Name: polaridade, dtype: float64\n",
      "-------------------------------------------------\n",
      "eps= 4.2 , minpoints= 12\n",
      "cluster_euclidean_dbscan\n",
      "-1    -501.0\n",
      " 0   -1515.0\n",
      " 1   -3890.0\n",
      " 2     -60.0\n",
      " 3    -450.0\n",
      " 4     -98.0\n",
      "Name: polaridade, dtype: float64\n",
      "-------------------------------------------------\n",
      "eps= 4.2 , minpoints= 13\n",
      "cluster_euclidean_dbscan\n",
      "-1    -599.0\n",
      " 0   -1515.0\n",
      " 1   -3890.0\n",
      " 2     -60.0\n",
      " 3    -450.0\n",
      "Name: polaridade, dtype: float64\n",
      "-------------------------------------------------\n",
      "eps= 4.2 , minpoints= 14\n",
      "cluster_euclidean_dbscan\n",
      "-1    -599.0\n",
      " 0   -1515.0\n",
      " 1   -3890.0\n",
      " 2     -60.0\n",
      " 3    -450.0\n",
      "Name: polaridade, dtype: float64\n",
      "-------------------------------------------------\n",
      "eps= 4.2 , minpoints= 15\n",
      "cluster_euclidean_dbscan\n",
      "-1    -599.0\n",
      " 0   -1515.0\n",
      " 1   -3890.0\n",
      " 2     -60.0\n",
      " 3    -450.0\n",
      "Name: polaridade, dtype: float64\n",
      "-------------------------------------------------\n",
      "eps= 4.2 , minpoints= 16\n",
      "cluster_euclidean_dbscan\n",
      "-1    -599.0\n",
      " 0   -1515.0\n",
      " 1   -3890.0\n",
      " 2     -60.0\n",
      " 3    -450.0\n",
      "Name: polaridade, dtype: float64\n",
      "-------------------------------------------------\n"
     ]
    },
    {
     "name": "stdout",
     "output_type": "stream",
     "text": [
      "eps= 4.2 , minpoints= 17\n",
      "cluster_euclidean_dbscan\n",
      "-1    -599.0\n",
      " 0   -1515.0\n",
      " 1   -3890.0\n",
      " 2     -60.0\n",
      " 3    -450.0\n",
      "Name: polaridade, dtype: float64\n",
      "-------------------------------------------------\n",
      "eps= 4.2 , minpoints= 18\n",
      "cluster_euclidean_dbscan\n",
      "-1    -599.0\n",
      " 0   -1515.0\n",
      " 1   -3890.0\n",
      " 2     -60.0\n",
      " 3    -450.0\n",
      "Name: polaridade, dtype: float64\n",
      "-------------------------------------------------\n",
      "eps= 4.2 , minpoints= 19\n",
      "cluster_euclidean_dbscan\n",
      "-1    -599.0\n",
      " 0   -1515.0\n",
      " 1   -3890.0\n",
      " 2     -60.0\n",
      " 3    -450.0\n",
      "Name: polaridade, dtype: float64\n",
      "-------------------------------------------------\n",
      "eps= 4.2 , minpoints= 20\n",
      "cluster_euclidean_dbscan\n",
      "-1    -599.0\n",
      " 0   -1515.0\n",
      " 1   -3890.0\n",
      " 2     -60.0\n",
      " 3    -450.0\n",
      "Name: polaridade, dtype: float64\n",
      "-------------------------------------------------\n",
      "eps= 4.2 , minpoints= 21\n",
      "cluster_euclidean_dbscan\n",
      "-1    -659.0\n",
      " 0   -1515.0\n",
      " 1   -3890.0\n",
      " 2    -450.0\n",
      "Name: polaridade, dtype: float64\n",
      "-------------------------------------------------\n",
      "eps= 4.2 , minpoints= 22\n",
      "cluster_euclidean_dbscan\n",
      "-1    -659.0\n",
      " 0   -1515.0\n",
      " 1   -3890.0\n",
      " 2    -450.0\n",
      "Name: polaridade, dtype: float64\n",
      "-------------------------------------------------\n",
      "eps= 4.2 , minpoints= 23\n",
      "cluster_euclidean_dbscan\n",
      "-1    -659.0\n",
      " 0   -1515.0\n",
      " 1   -3890.0\n",
      " 2    -450.0\n",
      "Name: polaridade, dtype: float64\n",
      "-------------------------------------------------\n",
      "eps= 4.3 , minpoints= 8\n",
      "cluster_euclidean_dbscan\n",
      "-1    -485.0\n",
      " 0   -1515.0\n",
      " 1   -3906.0\n",
      " 2     -60.0\n",
      " 3    -450.0\n",
      " 4     -98.0\n",
      "Name: polaridade, dtype: float64\n",
      "-------------------------------------------------\n",
      "eps= 4.3 , minpoints= 9\n",
      "cluster_euclidean_dbscan\n",
      "-1    -464.0\n",
      " 0   -1515.0\n",
      " 1   -3927.0\n",
      " 2     -60.0\n",
      " 3    -450.0\n",
      " 4     -98.0\n",
      "Name: polaridade, dtype: float64\n",
      "-------------------------------------------------\n",
      "eps= 4.3 , minpoints= 10\n",
      "cluster_euclidean_dbscan\n",
      "-1    -464.0\n",
      " 0   -1515.0\n",
      " 1   -3927.0\n",
      " 2     -60.0\n",
      " 3    -450.0\n",
      " 4     -98.0\n",
      "Name: polaridade, dtype: float64\n",
      "-------------------------------------------------\n",
      "eps= 4.3 , minpoints= 11\n",
      "cluster_euclidean_dbscan\n",
      "-1    -464.0\n",
      " 0   -1515.0\n",
      " 1   -3927.0\n",
      " 2     -60.0\n",
      " 3    -450.0\n",
      " 4     -98.0\n",
      "Name: polaridade, dtype: float64\n",
      "-------------------------------------------------\n",
      "eps= 4.3 , minpoints= 12\n",
      "cluster_euclidean_dbscan\n",
      "-1    -464.0\n",
      " 0   -1515.0\n",
      " 1   -3927.0\n",
      " 2     -60.0\n",
      " 3    -450.0\n",
      " 4     -98.0\n",
      "Name: polaridade, dtype: float64\n",
      "-------------------------------------------------\n",
      "eps= 4.3 , minpoints= 13\n",
      "cluster_euclidean_dbscan\n",
      "-1    -562.0\n",
      " 0   -1515.0\n",
      " 1   -3927.0\n",
      " 2     -60.0\n",
      " 3    -450.0\n",
      "Name: polaridade, dtype: float64\n",
      "-------------------------------------------------\n",
      "eps= 4.3 , minpoints= 14\n",
      "cluster_euclidean_dbscan\n",
      "-1    -562.0\n",
      " 0   -1515.0\n",
      " 1   -3927.0\n",
      " 2     -60.0\n",
      " 3    -450.0\n",
      "Name: polaridade, dtype: float64\n",
      "-------------------------------------------------\n",
      "eps= 4.3 , minpoints= 15\n",
      "cluster_euclidean_dbscan\n",
      "-1    -562.0\n",
      " 0   -1515.0\n",
      " 1   -3927.0\n",
      " 2     -60.0\n",
      " 3    -450.0\n",
      "Name: polaridade, dtype: float64\n",
      "-------------------------------------------------\n",
      "eps= 4.3 , minpoints= 16\n",
      "cluster_euclidean_dbscan\n",
      "-1    -562.0\n",
      " 0   -1515.0\n",
      " 1   -3927.0\n",
      " 2     -60.0\n",
      " 3    -450.0\n",
      "Name: polaridade, dtype: float64\n",
      "-------------------------------------------------\n",
      "eps= 4.3 , minpoints= 17\n",
      "cluster_euclidean_dbscan\n",
      "-1    -562.0\n",
      " 0   -1515.0\n",
      " 1   -3927.0\n",
      " 2     -60.0\n",
      " 3    -450.0\n",
      "Name: polaridade, dtype: float64\n",
      "-------------------------------------------------\n",
      "eps= 4.3 , minpoints= 18\n",
      "cluster_euclidean_dbscan\n",
      "-1    -562.0\n",
      " 0   -1515.0\n",
      " 1   -3927.0\n",
      " 2     -60.0\n",
      " 3    -450.0\n",
      "Name: polaridade, dtype: float64\n",
      "-------------------------------------------------\n",
      "eps= 4.3 , minpoints= 19\n",
      "cluster_euclidean_dbscan\n",
      "-1    -562.0\n",
      " 0   -1515.0\n",
      " 1   -3927.0\n",
      " 2     -60.0\n",
      " 3    -450.0\n",
      "Name: polaridade, dtype: float64\n",
      "-------------------------------------------------\n",
      "eps= 4.3 , minpoints= 20\n",
      "cluster_euclidean_dbscan\n",
      "-1    -562.0\n",
      " 0   -1515.0\n",
      " 1   -3927.0\n",
      " 2     -60.0\n",
      " 3    -450.0\n",
      "Name: polaridade, dtype: float64\n",
      "-------------------------------------------------\n",
      "eps= 4.3 , minpoints= 21\n",
      "cluster_euclidean_dbscan\n",
      "-1    -622.0\n",
      " 0   -1515.0\n",
      " 1   -3927.0\n",
      " 2    -450.0\n",
      "Name: polaridade, dtype: float64\n",
      "-------------------------------------------------\n",
      "eps= 4.3 , minpoints= 22\n",
      "cluster_euclidean_dbscan\n",
      "-1    -622.0\n",
      " 0   -1515.0\n",
      " 1   -3927.0\n",
      " 2    -450.0\n",
      "Name: polaridade, dtype: float64\n",
      "-------------------------------------------------\n",
      "eps= 4.3 , minpoints= 23\n",
      "cluster_euclidean_dbscan\n",
      "-1    -622.0\n",
      " 0   -1515.0\n",
      " 1   -3927.0\n",
      " 2    -450.0\n",
      "Name: polaridade, dtype: float64\n",
      "-------------------------------------------------\n",
      "eps= 4.4 , minpoints= 8\n",
      "cluster_euclidean_dbscan\n",
      "-1    -478.0\n",
      " 0   -1515.0\n",
      " 1   -3913.0\n",
      " 2     -60.0\n",
      " 3    -450.0\n",
      " 4     -98.0\n",
      "Name: polaridade, dtype: float64\n",
      "-------------------------------------------------\n",
      "eps= 4.4 , minpoints= 9\n",
      "cluster_euclidean_dbscan\n",
      "-1    -457.0\n",
      " 0   -1515.0\n",
      " 1   -3934.0\n",
      " 2     -60.0\n",
      " 3    -450.0\n",
      " 4     -98.0\n",
      "Name: polaridade, dtype: float64\n",
      "-------------------------------------------------\n",
      "eps= 4.4 , minpoints= 10\n",
      "cluster_euclidean_dbscan\n",
      "-1    -457.0\n",
      " 0   -1515.0\n",
      " 1   -3934.0\n",
      " 2     -60.0\n",
      " 3    -450.0\n",
      " 4     -98.0\n",
      "Name: polaridade, dtype: float64\n",
      "-------------------------------------------------\n",
      "eps= 4.4 , minpoints= 11\n",
      "cluster_euclidean_dbscan\n",
      "-1    -457.0\n",
      " 0   -1515.0\n",
      " 1   -3934.0\n",
      " 2     -60.0\n",
      " 3    -450.0\n",
      " 4     -98.0\n",
      "Name: polaridade, dtype: float64\n",
      "-------------------------------------------------\n",
      "eps= 4.4 , minpoints= 12\n",
      "cluster_euclidean_dbscan\n",
      "-1    -457.0\n",
      " 0   -1515.0\n",
      " 1   -3934.0\n",
      " 2     -60.0\n",
      " 3    -450.0\n",
      " 4     -98.0\n",
      "Name: polaridade, dtype: float64\n",
      "-------------------------------------------------\n",
      "eps= 4.4 , minpoints= 13\n",
      "cluster_euclidean_dbscan\n",
      "-1    -555.0\n",
      " 0   -1515.0\n",
      " 1   -3934.0\n",
      " 2     -60.0\n",
      " 3    -450.0\n",
      "Name: polaridade, dtype: float64\n",
      "-------------------------------------------------\n",
      "eps= 4.4 , minpoints= 14\n",
      "cluster_euclidean_dbscan\n",
      "-1    -555.0\n",
      " 0   -1515.0\n",
      " 1   -3934.0\n",
      " 2     -60.0\n",
      " 3    -450.0\n",
      "Name: polaridade, dtype: float64\n",
      "-------------------------------------------------\n",
      "eps= 4.4 , minpoints= 15\n",
      "cluster_euclidean_dbscan\n",
      "-1    -555.0\n",
      " 0   -1515.0\n",
      " 1   -3934.0\n",
      " 2     -60.0\n",
      " 3    -450.0\n",
      "Name: polaridade, dtype: float64\n",
      "-------------------------------------------------\n",
      "eps= 4.4 , minpoints= 16\n",
      "cluster_euclidean_dbscan\n",
      "-1    -555.0\n",
      " 0   -1515.0\n",
      " 1   -3934.0\n",
      " 2     -60.0\n",
      " 3    -450.0\n",
      "Name: polaridade, dtype: float64\n",
      "-------------------------------------------------\n",
      "eps= 4.4 , minpoints= 17\n",
      "cluster_euclidean_dbscan\n",
      "-1    -555.0\n",
      " 0   -1515.0\n",
      " 1   -3934.0\n",
      " 2     -60.0\n",
      " 3    -450.0\n",
      "Name: polaridade, dtype: float64\n",
      "-------------------------------------------------\n",
      "eps= 4.4 , minpoints= 18\n",
      "cluster_euclidean_dbscan\n",
      "-1    -555.0\n",
      " 0   -1515.0\n",
      " 1   -3934.0\n",
      " 2     -60.0\n",
      " 3    -450.0\n",
      "Name: polaridade, dtype: float64\n",
      "-------------------------------------------------\n",
      "eps= 4.4 , minpoints= 19\n",
      "cluster_euclidean_dbscan\n",
      "-1    -555.0\n",
      " 0   -1515.0\n",
      " 1   -3934.0\n",
      " 2     -60.0\n",
      " 3    -450.0\n",
      "Name: polaridade, dtype: float64\n",
      "-------------------------------------------------\n",
      "eps= 4.4 , minpoints= 20\n",
      "cluster_euclidean_dbscan\n",
      "-1    -555.0\n",
      " 0   -1515.0\n",
      " 1   -3934.0\n",
      " 2     -60.0\n",
      " 3    -450.0\n",
      "Name: polaridade, dtype: float64\n",
      "-------------------------------------------------\n",
      "eps= 4.4 , minpoints= 21\n",
      "cluster_euclidean_dbscan\n",
      "-1    -615.0\n",
      " 0   -1515.0\n",
      " 1   -3934.0\n",
      " 2    -450.0\n",
      "Name: polaridade, dtype: float64\n",
      "-------------------------------------------------\n",
      "eps= 4.4 , minpoints= 22\n",
      "cluster_euclidean_dbscan\n",
      "-1    -615.0\n",
      " 0   -1515.0\n",
      " 1   -3934.0\n",
      " 2    -450.0\n",
      "Name: polaridade, dtype: float64\n",
      "-------------------------------------------------\n",
      "eps= 4.4 , minpoints= 23\n",
      "cluster_euclidean_dbscan\n",
      "-1    -615.0\n",
      " 0   -1515.0\n",
      " 1   -3934.0\n",
      " 2    -450.0\n",
      "Name: polaridade, dtype: float64\n",
      "-------------------------------------------------\n",
      "eps= 4.5 , minpoints= 8\n",
      "cluster_euclidean_dbscan\n",
      "-1    -441.0\n",
      " 0   -1515.0\n",
      " 1   -3950.0\n",
      " 2     -60.0\n",
      " 3    -450.0\n",
      " 4     -98.0\n",
      "Name: polaridade, dtype: float64\n",
      "-------------------------------------------------\n",
      "eps= 4.5 , minpoints= 9\n",
      "cluster_euclidean_dbscan\n",
      "-1    -445.0\n",
      " 0   -1515.0\n",
      " 1   -3946.0\n",
      " 2     -60.0\n",
      " 3    -450.0\n",
      " 4     -98.0\n",
      "Name: polaridade, dtype: float64\n",
      "-------------------------------------------------\n",
      "eps= 4.5 , minpoints= 10\n",
      "cluster_euclidean_dbscan\n",
      "-1    -445.0\n",
      " 0   -1515.0\n",
      " 1   -3946.0\n",
      " 2     -60.0\n",
      " 3    -450.0\n",
      " 4     -98.0\n",
      "Name: polaridade, dtype: float64\n",
      "-------------------------------------------------\n"
     ]
    },
    {
     "name": "stdout",
     "output_type": "stream",
     "text": [
      "eps= 4.5 , minpoints= 11\n",
      "cluster_euclidean_dbscan\n",
      "-1    -424.0\n",
      " 0   -1515.0\n",
      " 1   -3967.0\n",
      " 2     -60.0\n",
      " 3    -450.0\n",
      " 4     -98.0\n",
      "Name: polaridade, dtype: float64\n",
      "-------------------------------------------------\n",
      "eps= 4.5 , minpoints= 12\n",
      "cluster_euclidean_dbscan\n",
      "-1    -424.0\n",
      " 0   -1515.0\n",
      " 1   -3967.0\n",
      " 2     -60.0\n",
      " 3    -450.0\n",
      " 4     -98.0\n",
      "Name: polaridade, dtype: float64\n",
      "-------------------------------------------------\n",
      "eps= 4.5 , minpoints= 13\n",
      "cluster_euclidean_dbscan\n",
      "-1    -522.0\n",
      " 0   -1515.0\n",
      " 1   -3967.0\n",
      " 2     -60.0\n",
      " 3    -450.0\n",
      "Name: polaridade, dtype: float64\n",
      "-------------------------------------------------\n",
      "eps= 4.5 , minpoints= 14\n",
      "cluster_euclidean_dbscan\n",
      "-1    -522.0\n",
      " 0   -1515.0\n",
      " 1   -3967.0\n",
      " 2     -60.0\n",
      " 3    -450.0\n",
      "Name: polaridade, dtype: float64\n",
      "-------------------------------------------------\n",
      "eps= 4.5 , minpoints= 15\n",
      "cluster_euclidean_dbscan\n",
      "-1    -522.0\n",
      " 0   -1515.0\n",
      " 1   -3967.0\n",
      " 2     -60.0\n",
      " 3    -450.0\n",
      "Name: polaridade, dtype: float64\n",
      "-------------------------------------------------\n",
      "eps= 4.5 , minpoints= 16\n",
      "cluster_euclidean_dbscan\n",
      "-1    -522.0\n",
      " 0   -1515.0\n",
      " 1   -3967.0\n",
      " 2     -60.0\n",
      " 3    -450.0\n",
      "Name: polaridade, dtype: float64\n",
      "-------------------------------------------------\n",
      "eps= 4.5 , minpoints= 17\n",
      "cluster_euclidean_dbscan\n",
      "-1    -522.0\n",
      " 0   -1515.0\n",
      " 1   -3967.0\n",
      " 2     -60.0\n",
      " 3    -450.0\n",
      "Name: polaridade, dtype: float64\n",
      "-------------------------------------------------\n",
      "eps= 4.5 , minpoints= 18\n",
      "cluster_euclidean_dbscan\n",
      "-1    -522.0\n",
      " 0   -1515.0\n",
      " 1   -3967.0\n",
      " 2     -60.0\n",
      " 3    -450.0\n",
      "Name: polaridade, dtype: float64\n",
      "-------------------------------------------------\n",
      "eps= 4.5 , minpoints= 19\n",
      "cluster_euclidean_dbscan\n",
      "-1    -522.0\n",
      " 0   -1515.0\n",
      " 1   -3967.0\n",
      " 2     -60.0\n",
      " 3    -450.0\n",
      "Name: polaridade, dtype: float64\n",
      "-------------------------------------------------\n",
      "eps= 4.5 , minpoints= 20\n",
      "cluster_euclidean_dbscan\n",
      "-1    -522.0\n",
      " 0   -1515.0\n",
      " 1   -3967.0\n",
      " 2     -60.0\n",
      " 3    -450.0\n",
      "Name: polaridade, dtype: float64\n",
      "-------------------------------------------------\n",
      "eps= 4.5 , minpoints= 21\n",
      "cluster_euclidean_dbscan\n",
      "-1    -582.0\n",
      " 0   -1515.0\n",
      " 1   -3967.0\n",
      " 2    -450.0\n",
      "Name: polaridade, dtype: float64\n",
      "-------------------------------------------------\n",
      "eps= 4.5 , minpoints= 22\n",
      "cluster_euclidean_dbscan\n",
      "-1    -582.0\n",
      " 0   -1515.0\n",
      " 1   -3967.0\n",
      " 2    -450.0\n",
      "Name: polaridade, dtype: float64\n",
      "-------------------------------------------------\n",
      "eps= 4.5 , minpoints= 23\n",
      "cluster_euclidean_dbscan\n",
      "-1    -582.0\n",
      " 0   -1515.0\n",
      " 1   -3967.0\n",
      " 2    -450.0\n",
      "Name: polaridade, dtype: float64\n",
      "-------------------------------------------------\n",
      "eps= 4.6 , minpoints= 8\n",
      "cluster_euclidean_dbscan\n",
      "-1    -386.0\n",
      " 0   -1515.0\n",
      " 1   -4515.0\n",
      " 2     -98.0\n",
      "Name: polaridade, dtype: float64\n",
      "-------------------------------------------------\n",
      "eps= 4.6 , minpoints= 9\n",
      "cluster_euclidean_dbscan\n",
      "-1    -386.0\n",
      " 0   -1515.0\n",
      " 1   -4515.0\n",
      " 2     -98.0\n",
      "Name: polaridade, dtype: float64\n",
      "-------------------------------------------------\n",
      "eps= 4.6 , minpoints= 10\n",
      "cluster_euclidean_dbscan\n",
      "-1    -386.0\n",
      " 0   -1515.0\n",
      " 1   -4515.0\n",
      " 2     -98.0\n",
      "Name: polaridade, dtype: float64\n",
      "-------------------------------------------------\n",
      "eps= 4.6 , minpoints= 11\n",
      "cluster_euclidean_dbscan\n",
      "-1    -377.0\n",
      " 0   -1515.0\n",
      " 1   -4524.0\n",
      " 2     -98.0\n",
      "Name: polaridade, dtype: float64\n",
      "-------------------------------------------------\n",
      "eps= 4.6 , minpoints= 12\n",
      "cluster_euclidean_dbscan\n",
      "-1    -377.0\n",
      " 0   -1515.0\n",
      " 1   -4524.0\n",
      " 2     -98.0\n",
      "Name: polaridade, dtype: float64\n",
      "-------------------------------------------------\n",
      "eps= 4.6 , minpoints= 13\n",
      "cluster_euclidean_dbscan\n",
      "-1    -478.0\n",
      " 0   -1515.0\n",
      " 1   -4521.0\n",
      "Name: polaridade, dtype: float64\n",
      "-------------------------------------------------\n",
      "eps= 4.6 , minpoints= 14\n",
      "cluster_euclidean_dbscan\n",
      "-1    -478.0\n",
      " 0   -1515.0\n",
      " 1   -4521.0\n",
      "Name: polaridade, dtype: float64\n",
      "-------------------------------------------------\n",
      "eps= 4.6 , minpoints= 15\n",
      "cluster_euclidean_dbscan\n",
      "-1    -478.0\n",
      " 0   -1515.0\n",
      " 1   -4521.0\n",
      "Name: polaridade, dtype: float64\n",
      "-------------------------------------------------\n",
      "eps= 4.6 , minpoints= 16\n",
      "cluster_euclidean_dbscan\n",
      "-1    -478.0\n",
      " 0   -1515.0\n",
      " 1   -4521.0\n",
      "Name: polaridade, dtype: float64\n",
      "-------------------------------------------------\n",
      "eps= 4.6 , minpoints= 17\n",
      "cluster_euclidean_dbscan\n",
      "-1    -478.0\n",
      " 0   -1515.0\n",
      " 1   -4521.0\n",
      "Name: polaridade, dtype: float64\n",
      "-------------------------------------------------\n",
      "eps= 4.6 , minpoints= 18\n",
      "cluster_euclidean_dbscan\n",
      "-1    -478.0\n",
      " 0   -1515.0\n",
      " 1   -4521.0\n",
      "Name: polaridade, dtype: float64\n",
      "-------------------------------------------------\n",
      "eps= 4.6 , minpoints= 19\n",
      "cluster_euclidean_dbscan\n",
      "-1    -478.0\n",
      " 0   -1515.0\n",
      " 1   -4521.0\n",
      "Name: polaridade, dtype: float64\n",
      "-------------------------------------------------\n",
      "eps= 4.6 , minpoints= 20\n",
      "cluster_euclidean_dbscan\n",
      "-1    -478.0\n",
      " 0   -1515.0\n",
      " 1   -4521.0\n",
      "Name: polaridade, dtype: float64\n",
      "-------------------------------------------------\n",
      "eps= 4.6 , minpoints= 21\n",
      "cluster_euclidean_dbscan\n",
      "-1    -478.0\n",
      " 0   -1515.0\n",
      " 1   -4521.0\n",
      "Name: polaridade, dtype: float64\n",
      "-------------------------------------------------\n",
      "eps= 4.6 , minpoints= 22\n",
      "cluster_euclidean_dbscan\n",
      "-1    -478.0\n",
      " 0   -1515.0\n",
      " 1   -4521.0\n",
      "Name: polaridade, dtype: float64\n",
      "-------------------------------------------------\n",
      "eps= 4.6 , minpoints= 23\n",
      "cluster_euclidean_dbscan\n",
      "-1    -478.0\n",
      " 0   -1515.0\n",
      " 1   -4521.0\n",
      "Name: polaridade, dtype: float64\n",
      "-------------------------------------------------\n",
      "eps= 4.7 , minpoints= 8\n",
      "cluster_euclidean_dbscan\n",
      "-1    -391.0\n",
      " 0   -1515.0\n",
      " 1   -4608.0\n",
      "Name: polaridade, dtype: float64\n",
      "-------------------------------------------------\n",
      "eps= 4.7 , minpoints= 9\n",
      "cluster_euclidean_dbscan\n",
      "-1    -391.0\n",
      " 0   -1515.0\n",
      " 1   -4608.0\n",
      "Name: polaridade, dtype: float64\n",
      "-------------------------------------------------\n",
      "eps= 4.7 , minpoints= 10\n",
      "cluster_euclidean_dbscan\n",
      "-1    -391.0\n",
      " 0   -1515.0\n",
      " 1   -4608.0\n",
      "Name: polaridade, dtype: float64\n",
      "-------------------------------------------------\n",
      "eps= 4.7 , minpoints= 11\n",
      "cluster_euclidean_dbscan\n",
      "-1    -391.0\n",
      " 0   -1515.0\n",
      " 1   -4608.0\n",
      "Name: polaridade, dtype: float64\n",
      "-------------------------------------------------\n",
      "eps= 4.7 , minpoints= 12\n",
      "cluster_euclidean_dbscan\n",
      "-1    -391.0\n",
      " 0   -1515.0\n",
      " 1   -4608.0\n",
      "Name: polaridade, dtype: float64\n",
      "-------------------------------------------------\n",
      "eps= 4.7 , minpoints= 13\n",
      "cluster_euclidean_dbscan\n",
      "-1    -382.0\n",
      " 0   -1515.0\n",
      " 1   -4617.0\n",
      "Name: polaridade, dtype: float64\n",
      "-------------------------------------------------\n",
      "eps= 4.7 , minpoints= 14\n",
      "cluster_euclidean_dbscan\n",
      "-1    -382.0\n",
      " 0   -1515.0\n",
      " 1   -4617.0\n",
      "Name: polaridade, dtype: float64\n",
      "-------------------------------------------------\n",
      "eps= 4.7 , minpoints= 15\n",
      "cluster_euclidean_dbscan\n",
      "-1    -382.0\n",
      " 0   -1515.0\n",
      " 1   -4617.0\n",
      "Name: polaridade, dtype: float64\n",
      "-------------------------------------------------\n",
      "eps= 4.7 , minpoints= 16\n",
      "cluster_euclidean_dbscan\n",
      "-1    -382.0\n",
      " 0   -1515.0\n",
      " 1   -4617.0\n",
      "Name: polaridade, dtype: float64\n",
      "-------------------------------------------------\n",
      "eps= 4.7 , minpoints= 17\n",
      "cluster_euclidean_dbscan\n",
      "-1    -382.0\n",
      " 0   -1515.0\n",
      " 1   -4617.0\n",
      "Name: polaridade, dtype: float64\n",
      "-------------------------------------------------\n",
      "eps= 4.7 , minpoints= 18\n",
      "cluster_euclidean_dbscan\n",
      "-1    -382.0\n",
      " 0   -1515.0\n",
      " 1   -4617.0\n",
      "Name: polaridade, dtype: float64\n",
      "-------------------------------------------------\n",
      "eps= 4.7 , minpoints= 19\n",
      "cluster_euclidean_dbscan\n",
      "-1    -382.0\n",
      " 0   -1515.0\n",
      " 1   -4617.0\n",
      "Name: polaridade, dtype: float64\n",
      "-------------------------------------------------\n",
      "eps= 4.7 , minpoints= 20\n",
      "cluster_euclidean_dbscan\n",
      "-1    -382.0\n",
      " 0   -1515.0\n",
      " 1   -4617.0\n",
      "Name: polaridade, dtype: float64\n",
      "-------------------------------------------------\n",
      "eps= 4.7 , minpoints= 21\n",
      "cluster_euclidean_dbscan\n",
      "-1    -382.0\n",
      " 0   -1515.0\n",
      " 1   -4617.0\n",
      "Name: polaridade, dtype: float64\n",
      "-------------------------------------------------\n",
      "eps= 4.7 , minpoints= 22\n",
      "cluster_euclidean_dbscan\n",
      "-1    -382.0\n",
      " 0   -1515.0\n",
      " 1   -4617.0\n",
      "Name: polaridade, dtype: float64\n",
      "-------------------------------------------------\n",
      "eps= 4.7 , minpoints= 23\n",
      "cluster_euclidean_dbscan\n",
      "-1    -382.0\n",
      " 0   -1515.0\n",
      " 1   -4617.0\n",
      "Name: polaridade, dtype: float64\n",
      "-------------------------------------------------\n",
      "eps= 4.8 , minpoints= 8\n",
      "cluster_euclidean_dbscan\n",
      "-1    -357.0\n",
      " 0   -6157.0\n",
      "Name: polaridade, dtype: float64\n",
      "-------------------------------------------------\n"
     ]
    }
   ],
   "source": [
    "eps = [4.0,4.1,4.2,4.3,4.4,4.5,4.6,4.7,4.8,4.9,5.0,5.1,5.2,5.3,5.4,5.5,5.6,5.7,5.8,5.9,6.0]\n",
    "minpoints = range(8,24)\n",
    "\n",
    "for e in eps:\n",
    "    for m in minpoints:\n",
    "        dbscan_euclidean_distance = DBSCAN(eps= e, min_samples= m, metric=\"precomputed\")\n",
    "        clusters_euclidean_dbscan = dbscan_euclidean_distance.fit(matrix_distances_euclidean)\n",
    "        \n",
    "        if len(dataset['cluster_euclidean_dbscan'].value_counts()) >= 3:\n",
    "            print('eps=',e,', minpoints=',m)\n",
    "\n",
    "            #atribuindo identificador dos clusters\n",
    "            dataset['cluster_euclidean_dbscan'] = clusters_euclidean_dbscan.labels_\n",
    "\n",
    "            #polaridade dos clusters\n",
    "            print(dataset.groupby('cluster_euclidean_dbscan')['polaridade'].sum())\n",
    "            print('-------------------------------------------------')"
   ]
  },
  {
   "cell_type": "code",
   "execution_count": 14,
   "metadata": {
    "collapsed": true
   },
   "outputs": [],
   "source": [
    "# dataset['cluster_cosine_dbscan'] = clusters_cosine_dbscan.labels_\n",
    "dataset['cluster_euclidean_dbscan'] = clusters_euclidean_dbscan.labels_"
   ]
  },
  {
   "cell_type": "code",
   "execution_count": 39,
   "metadata": {},
   "outputs": [
    {
     "data": {
      "text/html": [
       "<div>\n",
       "<style scoped>\n",
       "    .dataframe tbody tr th:only-of-type {\n",
       "        vertical-align: middle;\n",
       "    }\n",
       "\n",
       "    .dataframe tbody tr th {\n",
       "        vertical-align: top;\n",
       "    }\n",
       "\n",
       "    .dataframe thead th {\n",
       "        text-align: right;\n",
       "    }\n",
       "</style>\n",
       "<table border=\"1\" class=\"dataframe\">\n",
       "  <thead>\n",
       "    <tr style=\"text-align: right;\">\n",
       "      <th></th>\n",
       "      <th>text</th>\n",
       "      <th>text_processed</th>\n",
       "      <th>cluster_euclidean_dbscan</th>\n",
       "      <th>polaridade</th>\n",
       "    </tr>\n",
       "  </thead>\n",
       "  <tbody>\n",
       "    <tr>\n",
       "      <th>0</th>\n",
       "      <td>A pergunta é séria, @manudeputada: quer me pag...</td>\n",
       "      <td>pergunt é sér qu pag log fic dev process senh ...</td>\n",
       "      <td>0</td>\n",
       "      <td>-5.0</td>\n",
       "    </tr>\n",
       "    <tr>\n",
       "      <th>1</th>\n",
       "      <td>@manudeputada @PCdoB_Oficial \"Malevolente amor...</td>\n",
       "      <td>malevol am é tud é redenç sorris humilh dren v...</td>\n",
       "      <td>1</td>\n",
       "      <td>-3.0</td>\n",
       "    </tr>\n",
       "    <tr>\n",
       "      <th>2</th>\n",
       "      <td>A pergunta é séria, @manudeputada: quer me pag...</td>\n",
       "      <td>pergunt é sér qu pag log fic dev process senh ...</td>\n",
       "      <td>0</td>\n",
       "      <td>-5.0</td>\n",
       "    </tr>\n",
       "    <tr>\n",
       "      <th>3</th>\n",
       "      <td>Eu e a namo levemente apaixonadas pela deputad...</td>\n",
       "      <td>nam lev apaixon deput fal sal aul conheç favor</td>\n",
       "      <td>1</td>\n",
       "      <td>-1.0</td>\n",
       "    </tr>\n",
       "    <tr>\n",
       "      <th>4</th>\n",
       "      <td>@JoselitoMuller3 @manudeputada hmm esse cabeli...</td>\n",
       "      <td>hmm cabel ócul falt dent frent parec nunc com ...</td>\n",
       "      <td>1</td>\n",
       "      <td>2.0</td>\n",
       "    </tr>\n",
       "  </tbody>\n",
       "</table>\n",
       "</div>"
      ],
      "text/plain": [
       "                                                text  \\\n",
       "0  A pergunta é séria, @manudeputada: quer me pag...   \n",
       "1  @manudeputada @PCdoB_Oficial \"Malevolente amor...   \n",
       "2  A pergunta é séria, @manudeputada: quer me pag...   \n",
       "3  Eu e a namo levemente apaixonadas pela deputad...   \n",
       "4  @JoselitoMuller3 @manudeputada hmm esse cabeli...   \n",
       "\n",
       "                                      text_processed  \\\n",
       "0  pergunt é sér qu pag log fic dev process senh ...   \n",
       "1  malevol am é tud é redenç sorris humilh dren v...   \n",
       "2  pergunt é sér qu pag log fic dev process senh ...   \n",
       "3     nam lev apaixon deput fal sal aul conheç favor   \n",
       "4  hmm cabel ócul falt dent frent parec nunc com ...   \n",
       "\n",
       "   cluster_euclidean_dbscan  polaridade  \n",
       "0                         0        -5.0  \n",
       "1                         1        -3.0  \n",
       "2                         0        -5.0  \n",
       "3                         1        -1.0  \n",
       "4                         1         2.0  "
      ]
     },
     "execution_count": 39,
     "metadata": {},
     "output_type": "execute_result"
    }
   ],
   "source": [
    "dataset.head()"
   ]
  },
  {
   "cell_type": "markdown",
   "metadata": {},
   "source": [
    "## Clusterização com K-means"
   ]
  },
  {
   "cell_type": "code",
   "execution_count": 44,
   "metadata": {
    "collapsed": true
   },
   "outputs": [],
   "source": [
    "#from sklearn.metrics.pairwise import cosine_distances\n",
    "from sklearn.metrics.pairwise import euclidean_distances\n",
    "from sklearn.cluster import KMeans"
   ]
  },
  {
   "cell_type": "code",
   "execution_count": 70,
   "metadata": {},
   "outputs": [
    {
     "data": {
      "text/plain": [
       "(3773, 3773)"
      ]
     },
     "execution_count": 70,
     "metadata": {},
     "output_type": "execute_result"
    }
   ],
   "source": [
    "matrix_distances = cosine_distances(matrix_tfidf)\n",
    "matrix_distances.shape"
   ]
  },
  {
   "cell_type": "code",
   "execution_count": 45,
   "metadata": {},
   "outputs": [
    {
     "data": {
      "text/plain": [
       "(3773, 3773)"
      ]
     },
     "execution_count": 45,
     "metadata": {},
     "output_type": "execute_result"
    }
   ],
   "source": [
    "#matrix_distances_euclidean = euclidean_distances(matrix_tfidf)\n",
    "matrix_distances_euclidean = euclidean_distances(matrix_vectorized) #computando distâncias representação vetorial sem tf-idf\n",
    "matrix_distances_euclidean.shape"
   ]
  },
  {
   "cell_type": "code",
   "execution_count": 46,
   "metadata": {
    "collapsed": true
   },
   "outputs": [],
   "source": [
    "kmeans_cosine_distance = KMeans(n_clusters=3, precompute_distances=True)\n",
    "clusters_cosine_kmeans = kmeans_cosine_distance.fit(matrix_distances)\n",
    "\n",
    "kmeans_euclidean_distance = KMeans(n_clusters=3, precompute_distances=True)\n",
    "clusters_euclidean_kmeans = kmeans_euclidean_distance.fit(matrix_distances_euclidean)"
   ]
  },
  {
   "cell_type": "code",
   "execution_count": 47,
   "metadata": {
    "collapsed": true
   },
   "outputs": [],
   "source": [
    "dataset['cluster_cosine_kmeans'] = clusters_cosine_kmeans.labels_\n",
    "dataset['cluster_euclidean_kmeans'] = clusters_euclidean_kmeans.labels_"
   ]
  },
  {
   "cell_type": "markdown",
   "metadata": {},
   "source": [
    "## Plot dos clusters do DBScan"
   ]
  },
  {
   "cell_type": "code",
   "execution_count": 48,
   "metadata": {
    "collapsed": true
   },
   "outputs": [],
   "source": [
    "import matplotlib.pyplot as plt"
   ]
  },
  {
   "cell_type": "code",
   "execution_count": 65,
   "metadata": {},
   "outputs": [
    {
     "data": {
      "text/plain": [
       "0    3773\n",
       "Name: cluster_cosine_dbscan, dtype: int64"
      ]
     },
     "execution_count": 65,
     "metadata": {},
     "output_type": "execute_result"
    }
   ],
   "source": [
    "dataset['cluster_cosine_dbscan'].value_counts()"
   ]
  },
  {
   "cell_type": "code",
   "execution_count": 64,
   "metadata": {},
   "outputs": [
    {
     "data": {
      "text/plain": [
       " 1    3150\n",
       " 0     303\n",
       "-1     213\n",
       " 3      75\n",
       " 2      20\n",
       " 4      12\n",
       "Name: cluster_euclidean_dbscan, dtype: int64"
      ]
     },
     "execution_count": 64,
     "metadata": {},
     "output_type": "execute_result"
    }
   ],
   "source": [
    "dataset['cluster_euclidean_dbscan'].value_counts()"
   ]
  },
  {
   "cell_type": "code",
   "execution_count": 67,
   "metadata": {},
   "outputs": [
    {
     "data": {
      "image/png": "[encoded data removed]",
      "text/plain": [
       "<matplotlib.figure.Figure at 0x7f7422607400>"
      ]
     },
     "metadata": {},
     "output_type": "display_data"
    }
   ],
   "source": [
    "x = dataset['cluster_cosine_dbscan'].values\n",
    "y = range(len(dataset['text'].values))\n",
    "plt.plot(x, y, \"o\")\n",
    "plt.show()"
   ]
  },
  {
   "cell_type": "code",
   "execution_count": 17,
   "metadata": {},
   "outputs": [
    {
     "data": {
      "image/png": "[encoded data removed]",
      "text/plain": [
       "<matplotlib.figure.Figure at 0x7fdf73f71208>"
      ]
     },
     "metadata": {},
     "output_type": "display_data"
    }
   ],
   "source": [
    "x = dataset['cluster_euclidean_dbscan'].values\n",
    "y = range(len(dataset['text'].values))\n",
    "plt.plot(x, y, \"o\")\n",
    "plt.show()"
   ]
  },
  {
   "cell_type": "markdown",
   "metadata": {},
   "source": [
    "## Plot dos clusters do KMeans"
   ]
  },
  {
   "cell_type": "code",
   "execution_count": 49,
   "metadata": {},
   "outputs": [
    {
     "data": {
      "text/plain": [
       "1    3135\n",
       "2     335\n",
       "0     303\n",
       "Name: cluster_cosine_kmeans, dtype: int64"
      ]
     },
     "execution_count": 49,
     "metadata": {},
     "output_type": "execute_result"
    }
   ],
   "source": [
    "dataset['cluster_cosine_kmeans'].value_counts()"
   ]
  },
  {
   "cell_type": "code",
   "execution_count": 50,
   "metadata": {},
   "outputs": [
    {
     "data": {
      "text/plain": [
       "0    2277\n",
       "1    1193\n",
       "2     303\n",
       "Name: cluster_euclidean_kmeans, dtype: int64"
      ]
     },
     "execution_count": 50,
     "metadata": {},
     "output_type": "execute_result"
    }
   ],
   "source": [
    "dataset['cluster_euclidean_kmeans'].value_counts()"
   ]
  },
  {
   "cell_type": "code",
   "execution_count": 51,
   "metadata": {},
   "outputs": [
    {
     "data": {
      "image/png": "[encoded data removed]",
      "text/plain": [
       "<matplotlib.figure.Figure at 0x7fa2f465dcf8>"
      ]
     },
     "metadata": {},
     "output_type": "display_data"
    }
   ],
   "source": [
    "x = dataset['cluster_cosine_kmeans'].values\n",
    "y = range(len(dataset['text'].values))\n",
    "plt.plot(x, y, \"o\")\n",
    "plt.show()"
   ]
  },
  {
   "cell_type": "code",
   "execution_count": 52,
   "metadata": {},
   "outputs": [
    {
     "data": {
      "image/png": "[encoded data removed]",
      "text/plain": [
       "<matplotlib.figure.Figure at 0x7fa2dcaac630>"
      ]
     },
     "metadata": {},
     "output_type": "display_data"
    }
   ],
   "source": [
    "x = dataset['cluster_euclidean_kmeans'].values\n",
    "y = range(len(dataset['text'].values))\n",
    "plt.plot(x, y, \"o\")\n",
    "plt.show()"
   ]
  },
  {
   "cell_type": "markdown",
   "metadata": {
    "collapsed": true
   },
   "source": [
    "## Calculando polaridade dos tweets"
   ]
  },
  {
   "cell_type": "code",
   "execution_count": 21,
   "metadata": {
    "collapsed": true
   },
   "outputs": [],
   "source": [
    "base_lexica = pd.read_csv('SEMANTICSCLASSIFICATION/SentiLex-PT01/SentiLex-flex-PT01.txt', sep=';')\n",
    "base_lexica.columns = ['palavra','gn','tg','pol','anot']"
   ]
  },
  {
   "cell_type": "code",
   "execution_count": 22,
   "metadata": {
    "collapsed": true
   },
   "outputs": [],
   "source": [
    "base_lexica['pos'] = np.nan"
   ]
  },
  {
   "cell_type": "code",
   "execution_count": 23,
   "metadata": {},
   "outputs": [
    {
     "name": "stderr",
     "output_type": "stream",
     "text": [
      "/home/alysson/miniconda3/lib/python3.6/site-packages/ipykernel_launcher.py:4: SettingWithCopyWarning: \n",
      "A value is trying to be set on a copy of a slice from a DataFrame\n",
      "\n",
      "See the caveats in the documentation: http://pandas.pydata.org/pandas-docs/stable/indexing.html#indexing-view-versus-copy\n",
      "  after removing the cwd from sys.path.\n",
      "/home/alysson/miniconda3/lib/python3.6/site-packages/ipykernel_launcher.py:5: SettingWithCopyWarning: \n",
      "A value is trying to be set on a copy of a slice from a DataFrame\n",
      "\n",
      "See the caveats in the documentation: http://pandas.pydata.org/pandas-docs/stable/indexing.html#indexing-view-versus-copy\n",
      "  \"\"\"\n",
      "/home/alysson/miniconda3/lib/python3.6/site-packages/pandas/core/indexing.py:194: SettingWithCopyWarning: \n",
      "A value is trying to be set on a copy of a slice from a DataFrame\n",
      "\n",
      "See the caveats in the documentation: http://pandas.pydata.org/pandas-docs/stable/indexing.html#indexing-view-versus-copy\n",
      "  self._setitem_with_indexer(indexer, value)\n"
     ]
    }
   ],
   "source": [
    "i = 0\n",
    "for p in base_lexica.palavra:\n",
    "    line = p.split('.')\n",
    "    base_lexica.palavra[i] = line[0]\n",
    "    base_lexica.pos[i] = line[1]\n",
    "    i += 1"
   ]
  },
  {
   "cell_type": "code",
   "execution_count": 24,
   "metadata": {
    "collapsed": true
   },
   "outputs": [],
   "source": [
    "dataset['polaridade'] = 0"
   ]
  },
  {
   "cell_type": "code",
   "execution_count": 25,
   "metadata": {},
   "outputs": [
    {
     "data": {
      "text/html": [
       "<div>\n",
       "<style scoped>\n",
       "    .dataframe tbody tr th:only-of-type {\n",
       "        vertical-align: middle;\n",
       "    }\n",
       "\n",
       "    .dataframe tbody tr th {\n",
       "        vertical-align: top;\n",
       "    }\n",
       "\n",
       "    .dataframe thead th {\n",
       "        text-align: right;\n",
       "    }\n",
       "</style>\n",
       "<table border=\"1\" class=\"dataframe\">\n",
       "  <thead>\n",
       "    <tr style=\"text-align: right;\">\n",
       "      <th></th>\n",
       "      <th>palavra</th>\n",
       "      <th>gn</th>\n",
       "      <th>tg</th>\n",
       "      <th>pol</th>\n",
       "      <th>anot</th>\n",
       "      <th>pos</th>\n",
       "    </tr>\n",
       "  </thead>\n",
       "  <tbody>\n",
       "    <tr>\n",
       "      <th>0</th>\n",
       "      <td>abafadas,abafado</td>\n",
       "      <td>GN=fp</td>\n",
       "      <td>TG=HUM</td>\n",
       "      <td>POL=-1</td>\n",
       "      <td>ANOT=JALC</td>\n",
       "      <td>PoS=Adj</td>\n",
       "    </tr>\n",
       "    <tr>\n",
       "      <th>1</th>\n",
       "      <td>abafado,abafado</td>\n",
       "      <td>GN=ms</td>\n",
       "      <td>TG=HUM</td>\n",
       "      <td>POL=-1</td>\n",
       "      <td>ANOT=JALC</td>\n",
       "      <td>PoS=Adj</td>\n",
       "    </tr>\n",
       "    <tr>\n",
       "      <th>2</th>\n",
       "      <td>abafados,abafado</td>\n",
       "      <td>GN=mp</td>\n",
       "      <td>TG=HUM</td>\n",
       "      <td>POL=-1</td>\n",
       "      <td>ANOT=JALC</td>\n",
       "      <td>PoS=Adj</td>\n",
       "    </tr>\n",
       "    <tr>\n",
       "      <th>3</th>\n",
       "      <td>abafante,abafante</td>\n",
       "      <td>GN=fs</td>\n",
       "      <td>TG=HUM</td>\n",
       "      <td>POL=-1</td>\n",
       "      <td>ANOT=MAN</td>\n",
       "      <td>PoS=Adj</td>\n",
       "    </tr>\n",
       "    <tr>\n",
       "      <th>4</th>\n",
       "      <td>abafante,abafante</td>\n",
       "      <td>GN=ms</td>\n",
       "      <td>TG=HUM</td>\n",
       "      <td>POL=-1</td>\n",
       "      <td>ANOT=MAN</td>\n",
       "      <td>PoS=Adj</td>\n",
       "    </tr>\n",
       "  </tbody>\n",
       "</table>\n",
       "</div>"
      ],
      "text/plain": [
       "             palavra     gn      tg     pol       anot      pos\n",
       "0   abafadas,abafado  GN=fp  TG=HUM  POL=-1  ANOT=JALC  PoS=Adj\n",
       "1    abafado,abafado  GN=ms  TG=HUM  POL=-1  ANOT=JALC  PoS=Adj\n",
       "2   abafados,abafado  GN=mp  TG=HUM  POL=-1  ANOT=JALC  PoS=Adj\n",
       "3  abafante,abafante  GN=fs  TG=HUM  POL=-1   ANOT=MAN  PoS=Adj\n",
       "4  abafante,abafante  GN=ms  TG=HUM  POL=-1   ANOT=MAN  PoS=Adj"
      ]
     },
     "execution_count": 25,
     "metadata": {},
     "output_type": "execute_result"
    }
   ],
   "source": [
    "base_lexica.head()"
   ]
  },
  {
   "cell_type": "code",
   "execution_count": 54,
   "metadata": {
    "collapsed": true
   },
   "outputs": [],
   "source": [
    "def preProcessor(tweet):\n",
    "    t = tweet\n",
    "    t = t.lower() # removendo letras maiúsculas\n",
    "    t = re.sub(r'(\\b)?@\\w+','',t) #removendo referências a outros perfis\n",
    "#     t = re.sub(r'(\\b)?#\\w+','',t) #removendo hashtags\n",
    "    t = re.sub(r'http\\S+','',t,flags=re.MULTILINE) #removendo links\n",
    "    t = re.sub(r'https\\S+','',t,flags=re.MULTILINE) #removendo links\n",
    "    t = re.sub(r'(\\w+)?\\d(\\w+)?','',t) # removendo números\n",
    "    t = re.sub(r',|\\\"|!|\\n|:|\\.|\\?|;|\\(|\\)',' ',t) #removendo pontuações\n",
    "    \n",
    "    # removendo stopwords\n",
    "    nsw = ''\n",
    "    for word in t.split(' '):\n",
    "        if word not in stopwords.words('portuguese'):\n",
    "            nsw += word+' '\n",
    "    t = nsw.strip()\n",
    "    \n",
    "    t = re.sub(r' +',' ',t) # removendo espaços duplos\n",
    "    t = t.strip() # remover espaços vazios no início e no fim\n",
    "    return t"
   ]
  },
  {
   "cell_type": "code",
   "execution_count": 34,
   "metadata": {
    "collapsed": true
   },
   "outputs": [],
   "source": [
    "def searchWord(word):\n",
    "    k = 0\n",
    "    for p in base_lexica.palavra:\n",
    "        if word in p:\n",
    "            return int(base_lexica.pol[k].split('=')[1])\n",
    "        k += 1\n",
    "    return 0"
   ]
  },
  {
   "cell_type": "code",
   "execution_count": 35,
   "metadata": {},
   "outputs": [
    {
     "name": "stderr",
     "output_type": "stream",
     "text": [
      "/home/alysson/miniconda3/lib/python3.6/site-packages/ipykernel_launcher.py:7: SettingWithCopyWarning: \n",
      "A value is trying to be set on a copy of a slice from a DataFrame\n",
      "\n",
      "See the caveats in the documentation: http://pandas.pydata.org/pandas-docs/stable/indexing.html#indexing-view-versus-copy\n",
      "  import sys\n"
     ]
    }
   ],
   "source": [
    "j = 0\n",
    "for tweet in dataset.text:\n",
    "    twt = preProcessor(tweet)\n",
    "    score = 0\n",
    "    for p in twt.split(' '):\n",
    "        score += searchWord(p)\n",
    "    dataset.polaridade[j] = score\n",
    "    j += 1"
   ]
  },
  {
   "cell_type": "code",
   "execution_count": 38,
   "metadata": {
    "collapsed": true
   },
   "outputs": [],
   "source": [
    "dataset.to_csv('manuela_clusterizado.csv',';',encoding='utf-8', index=False)"
   ]
  },
  {
   "cell_type": "markdown",
   "metadata": {},
   "source": [
    "## Análise dos clusters do DBScan"
   ]
  },
  {
   "cell_type": "code",
   "execution_count": 27,
   "metadata": {
    "collapsed": true
   },
   "outputs": [],
   "source": [
    "df = pd.read_csv('manuela_clusterizado.csv',sep=';',encoding='utf-8')"
   ]
  },
  {
   "cell_type": "code",
   "execution_count": 28,
   "metadata": {
    "collapsed": true
   },
   "outputs": [],
   "source": [
    "dataset['polaridade'] = df.polaridade"
   ]
  },
  {
   "cell_type": "code",
   "execution_count": 36,
   "metadata": {},
   "outputs": [
    {
     "data": {
      "text/html": [
       "<div>\n",
       "<style scoped>\n",
       "    .dataframe tbody tr th:only-of-type {\n",
       "        vertical-align: middle;\n",
       "    }\n",
       "\n",
       "    .dataframe tbody tr th {\n",
       "        vertical-align: top;\n",
       "    }\n",
       "\n",
       "    .dataframe thead th {\n",
       "        text-align: right;\n",
       "    }\n",
       "</style>\n",
       "<table border=\"1\" class=\"dataframe\">\n",
       "  <thead>\n",
       "    <tr style=\"text-align: right;\">\n",
       "      <th></th>\n",
       "      <th>text</th>\n",
       "      <th>text_processed</th>\n",
       "      <th>cluster_euclidean_dbscan</th>\n",
       "      <th>polaridade</th>\n",
       "    </tr>\n",
       "  </thead>\n",
       "  <tbody>\n",
       "    <tr>\n",
       "      <th>0</th>\n",
       "      <td>A pergunta é séria, @manudeputada: quer me pag...</td>\n",
       "      <td>pergunt é sér qu pag log fic dev process senh ...</td>\n",
       "      <td>0</td>\n",
       "      <td>-5.0</td>\n",
       "    </tr>\n",
       "    <tr>\n",
       "      <th>1</th>\n",
       "      <td>@manudeputada @PCdoB_Oficial \"Malevolente amor...</td>\n",
       "      <td>malevol am é tud é redenç sorris humilh dren v...</td>\n",
       "      <td>1</td>\n",
       "      <td>-3.0</td>\n",
       "    </tr>\n",
       "    <tr>\n",
       "      <th>2</th>\n",
       "      <td>A pergunta é séria, @manudeputada: quer me pag...</td>\n",
       "      <td>pergunt é sér qu pag log fic dev process senh ...</td>\n",
       "      <td>0</td>\n",
       "      <td>-5.0</td>\n",
       "    </tr>\n",
       "    <tr>\n",
       "      <th>3</th>\n",
       "      <td>Eu e a namo levemente apaixonadas pela deputad...</td>\n",
       "      <td>nam lev apaixon deput fal sal aul conheç favor</td>\n",
       "      <td>1</td>\n",
       "      <td>-1.0</td>\n",
       "    </tr>\n",
       "    <tr>\n",
       "      <th>4</th>\n",
       "      <td>@JoselitoMuller3 @manudeputada hmm esse cabeli...</td>\n",
       "      <td>hmm cabel ócul falt dent frent parec nunc com ...</td>\n",
       "      <td>1</td>\n",
       "      <td>2.0</td>\n",
       "    </tr>\n",
       "  </tbody>\n",
       "</table>\n",
       "</div>"
      ],
      "text/plain": [
       "                                                text  \\\n",
       "0  A pergunta é séria, @manudeputada: quer me pag...   \n",
       "1  @manudeputada @PCdoB_Oficial \"Malevolente amor...   \n",
       "2  A pergunta é séria, @manudeputada: quer me pag...   \n",
       "3  Eu e a namo levemente apaixonadas pela deputad...   \n",
       "4  @JoselitoMuller3 @manudeputada hmm esse cabeli...   \n",
       "\n",
       "                                      text_processed  \\\n",
       "0  pergunt é sér qu pag log fic dev process senh ...   \n",
       "1  malevol am é tud é redenç sorris humilh dren v...   \n",
       "2  pergunt é sér qu pag log fic dev process senh ...   \n",
       "3     nam lev apaixon deput fal sal aul conheç favor   \n",
       "4  hmm cabel ócul falt dent frent parec nunc com ...   \n",
       "\n",
       "   cluster_euclidean_dbscan  polaridade  \n",
       "0                         0        -5.0  \n",
       "1                         1        -3.0  \n",
       "2                         0        -5.0  \n",
       "3                         1        -1.0  \n",
       "4                         1         2.0  "
      ]
     },
     "execution_count": 36,
     "metadata": {},
     "output_type": "execute_result"
    }
   ],
   "source": [
    "dataset.head()"
   ]
  },
  {
   "cell_type": "code",
   "execution_count": 69,
   "metadata": {},
   "outputs": [
    {
     "data": {
      "text/plain": [
       "cluster_cosine_dbscan\n",
       "0   -6509.0\n",
       "Name: polaridade, dtype: float64"
      ]
     },
     "execution_count": 69,
     "metadata": {},
     "output_type": "execute_result"
    }
   ],
   "source": [
    "dataset.groupby('cluster_cosine_dbscan')['polaridade'].sum()"
   ]
  },
  {
   "cell_type": "code",
   "execution_count": 37,
   "metadata": {},
   "outputs": [
    {
     "data": {
      "text/plain": [
       "cluster_euclidean_dbscan\n",
       "-1    -445.0\n",
       " 0   -1515.0\n",
       " 1   -3946.0\n",
       " 2     -60.0\n",
       " 3    -450.0\n",
       " 4     -98.0\n",
       "Name: polaridade, dtype: float64"
      ]
     },
     "execution_count": 37,
     "metadata": {},
     "output_type": "execute_result"
    }
   ],
   "source": [
    "dataset.groupby('cluster_euclidean_dbscan')['polaridade'].sum()"
   ]
  },
  {
   "cell_type": "code",
   "execution_count": null,
   "metadata": {
    "collapsed": true
   },
   "outputs": [],
   "source": [
    "dataset['polaridade'] = df.polaridade\n",
    "dataset.groupby('cluster_cosine_kmeans')['polaridade'].sum()"
   ]
  },
  {
   "cell_type": "code",
   "execution_count": 56,
   "metadata": {},
   "outputs": [
    {
     "data": {
      "text/plain": [
       "cluster_euclidean_dbscan\n",
       "-1   -3199.0\n",
       " 0   -1466.0\n",
       " 1    -196.0\n",
       " 2    -715.0\n",
       " 3    -170.0\n",
       " 4    -147.0\n",
       " 5    -616.0\n",
       "Name: polaridade, dtype: float64"
      ]
     },
     "execution_count": 56,
     "metadata": {},
     "output_type": "execute_result"
    }
   ],
   "source": [
    "dataset.groupby('cluster_euclidean_kmeans')['polaridade'].sum()"
   ]
  },
  {
   "cell_type": "code",
   "execution_count": 82,
   "metadata": {
    "scrolled": true
   },
   "outputs": [
    {
     "name": "stdout",
     "output_type": "stream",
     "text": [
      "458\n",
      "2589\n",
      "723\n"
     ]
    }
   ],
   "source": [
    "pos = 0\n",
    "neg = 0\n",
    "neu = 0\n",
    "#for v in dataset.polaridade[dataset.cluster_euclidean_kmeans[dataset.cluster_euclidean_kmeans == 2].index].values:\n",
    "for v in dataset.polaridade.values:\n",
    "    if v < 0:\n",
    "        neg += 1\n",
    "    if v > 0:\n",
    "        pos += 1\n",
    "    if v == 0:\n",
    "        neu += 1\n",
    "\n",
    "print(pos)\n",
    "print(neg)\n",
    "print(neu)"
   ]
  },
  {
   "cell_type": "markdown",
   "metadata": {},
   "source": [
    "> #### K-means with only CountVectorized\n",
    "\n",
    "Tipo de distância| Cluster 0| Cluster 1| Cluster2\n",
    "-----------------|---------------|--------------|---------------\n",
    "Distância cosseno|pos = 0; neg = 299; neu = 4| pos = 434; neg = 2049; neu = 649|pos = 24; neg = 241; neu = 70\n",
    "Distância euclidiana|pos = 319; neg = 1397; neu = 560| pos = 139; neg = 893; neu = 159|pos = 0; neg = 299; neu = 4\n"
   ]
  },
  {
   "cell_type": "code",
   "execution_count": 24,
   "metadata": {
    "collapsed": true
   },
   "outputs": [],
   "source": [
    "import SEMANTICSCLASSIFICATION.semanticsClassification as sc"
   ]
  },
  {
   "cell_type": "code",
   "execution_count": 7,
   "metadata": {},
   "outputs": [
    {
     "data": {
      "text/plain": [
       "0"
      ]
     },
     "execution_count": 7,
     "metadata": {},
     "output_type": "execute_result"
    }
   ],
   "source": [
    "sc.termScoreSummationMethod(df.text[7])"
   ]
  },
  {
   "cell_type": "markdown",
   "metadata": {},
   "source": [
    "### Recalculando a polaridade"
   ]
  },
  {
   "cell_type": "code",
   "execution_count": 10,
   "metadata": {
    "collapsed": true
   },
   "outputs": [],
   "source": [
    "df['polaridade_sentilex'] = 0"
   ]
  },
  {
   "cell_type": "code",
   "execution_count": 12,
   "metadata": {},
   "outputs": [
    {
     "name": "stderr",
     "output_type": "stream",
     "text": [
      "/home/alysson/miniconda3/lib/python3.6/site-packages/ipykernel_launcher.py:3: SettingWithCopyWarning: \n",
      "A value is trying to be set on a copy of a slice from a DataFrame\n",
      "\n",
      "See the caveats in the documentation: http://pandas.pydata.org/pandas-docs/stable/indexing.html#indexing-view-versus-copy\n",
      "  This is separate from the ipykernel package so we can avoid doing imports until\n"
     ]
    }
   ],
   "source": [
    "i = 0\n",
    "for tweet in df.text:\n",
    "    df.polaridade_sentilex[i] = sc.termScoreSummationMethod(tweet)\n",
    "    i += 1"
   ]
  },
  {
   "cell_type": "code",
   "execution_count": 18,
   "metadata": {},
   "outputs": [
    {
     "data": {
      "text/plain": [
       "Series([], Name: polaridade_sentilex, dtype: int64)"
      ]
     },
     "execution_count": 18,
     "metadata": {},
     "output_type": "execute_result"
    }
   ],
   "source": [
    "df.polaridade_sentilex[df.polaridade_sentilex < 0]"
   ]
  },
  {
   "cell_type": "code",
   "execution_count": 25,
   "metadata": {},
   "outputs": [
    {
     "data": {
      "text/plain": [
       "0"
      ]
     },
     "execution_count": 25,
     "metadata": {},
     "output_type": "execute_result"
    }
   ],
   "source": [
    "sc.termScoreSummationMethod(\"ruim horrível péssimo\")"
   ]
  },
  {
   "cell_type": "code",
   "execution_count": 57,
   "metadata": {},
   "outputs": [],
   "source": [
    "ifeel = pd.DataFrame()\n",
    "ifeel['text'] = dataset.text[0:298]\n",
    "\n",
    "j = 0\n",
    "for i in ifeel.text:\n",
    "    ifeel.text[j] = preProcessor(i)\n",
    "    j += 1\n",
    "    \n",
    "ifeel.to_csv('ifeel_test.csv', sep=';',index=False)"
   ]
  },
  {
   "cell_type": "code",
   "execution_count": null,
   "metadata": {
    "collapsed": true
   },
   "outputs": [],
   "source": []
  }
 ],
 "metadata": {
  "kernelspec": {
   "display_name": "Python 3",
   "language": "python",
   "name": "python3"
  },
  "language_info": {
   "codemirror_mode": {
    "name": "ipython",
    "version": 3
   },
   "file_extension": ".py",
   "mimetype": "text/x-python",
   "name": "python",
   "nbconvert_exporter": "python",
   "pygments_lexer": "ipython3",
   "version": "3.6.3"
  }
 },
 "nbformat": 4,
 "nbformat_minor": 2
}
