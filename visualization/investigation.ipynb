{
 "cells": [
  {
   "cell_type": "code",
   "execution_count": 2,
   "metadata": {
    "collapsed": true
   },
   "outputs": [],
   "source": [
    "import pandas as pd\n",
    "import matplotlib.pyplot as plt\n",
    "import numpy as np\n",
    "import math\n",
    "%matplotlib inline"
   ]
  },
  {
   "cell_type": "code",
   "execution_count": 4,
   "metadata": {},
   "outputs": [
    {
     "data": {
      "text/html": [
       "<div>\n",
       "<style scoped>\n",
       "    .dataframe tbody tr th:only-of-type {\n",
       "        vertical-align: middle;\n",
       "    }\n",
       "\n",
       "    .dataframe tbody tr th {\n",
       "        vertical-align: top;\n",
       "    }\n",
       "\n",
       "    .dataframe thead th {\n",
       "        text-align: right;\n",
       "    }\n",
       "</style>\n",
       "<table border=\"1\" class=\"dataframe\">\n",
       "  <thead>\n",
       "    <tr style=\"text-align: right;\">\n",
       "      <th></th>\n",
       "      <th>id</th>\n",
       "      <th>user_screen_name</th>\n",
       "      <th>user_name</th>\n",
       "      <th>user_location</th>\n",
       "      <th>full_text</th>\n",
       "      <th>emot_class</th>\n",
       "      <th>semantic_class</th>\n",
       "      <th>combo_class</th>\n",
       "      <th>classification</th>\n",
       "      <th>new_user_location</th>\n",
       "      <th>created_at</th>\n",
       "    </tr>\n",
       "  </thead>\n",
       "  <tbody>\n",
       "    <tr>\n",
       "      <th>0</th>\n",
       "      <td>983463215303622657</td>\n",
       "      <td>paulo_briani</td>\n",
       "      <td>Paulo Briani</td>\n",
       "      <td>Curitiba, Brasil</td>\n",
       "      <td>RT @LulapeloBrasil O POVO COM LULA  Caravanas ...</td>\n",
       "      <td>NaN</td>\n",
       "      <td>0.0</td>\n",
       "      <td>NaN</td>\n",
       "      <td>1</td>\n",
       "      <td>parana</td>\n",
       "      <td>Apr 09 21</td>\n",
       "    </tr>\n",
       "    <tr>\n",
       "      <th>1</th>\n",
       "      <td>978037017475940353</td>\n",
       "      <td>PEC56URGENTE</td>\n",
       "      <td>Jose do Nascimento</td>\n",
       "      <td>Rio de Janeiro</td>\n",
       "      <td>RT @Francischini_ ESPALHOU pelo BRASIL LULA re...</td>\n",
       "      <td>NaN</td>\n",
       "      <td>-1.0</td>\n",
       "      <td>NaN</td>\n",
       "      <td>0</td>\n",
       "      <td>rio de janeiro</td>\n",
       "      <td>Mar 25 22</td>\n",
       "    </tr>\n",
       "    <tr>\n",
       "      <th>2</th>\n",
       "      <td>982675696270102530</td>\n",
       "      <td>rodsguido</td>\n",
       "      <td>erguido</td>\n",
       "      <td>Morro do dendê</td>\n",
       "      <td>RT @luizguiprado Imagina o Bolsonaro agora ass...</td>\n",
       "      <td>NaN</td>\n",
       "      <td>-1.0</td>\n",
       "      <td>NaN</td>\n",
       "      <td>0</td>\n",
       "      <td>NaN</td>\n",
       "      <td>Apr 07 17</td>\n",
       "    </tr>\n",
       "    <tr>\n",
       "      <th>3</th>\n",
       "      <td>977344219634319360</td>\n",
       "      <td>Frmarchetaria</td>\n",
       "      <td>Kito #BetaQuerLab</td>\n",
       "      <td>Brasil, Guarulhos, SP</td>\n",
       "      <td>RT @santoocio Lula Moro e desembagrinhos não t...</td>\n",
       "      <td>NaN</td>\n",
       "      <td>0.0</td>\n",
       "      <td>NaN</td>\n",
       "      <td>0</td>\n",
       "      <td>sao paulo</td>\n",
       "      <td>Mar 24 00</td>\n",
       "    </tr>\n",
       "    <tr>\n",
       "      <th>4</th>\n",
       "      <td>981745225256325120</td>\n",
       "      <td>mikapietra</td>\n",
       "      <td>miriã com ~</td>\n",
       "      <td>None</td>\n",
       "      <td>Tava aqui passando raiva por aquela Lala Rudge...</td>\n",
       "      <td>NaN</td>\n",
       "      <td>1.0</td>\n",
       "      <td>NaN</td>\n",
       "      <td>0</td>\n",
       "      <td>NaN</td>\n",
       "      <td>Apr 05 04</td>\n",
       "    </tr>\n",
       "  </tbody>\n",
       "</table>\n",
       "</div>"
      ],
      "text/plain": [
       "                   id user_screen_name           user_name  \\\n",
       "0  983463215303622657     paulo_briani        Paulo Briani   \n",
       "1  978037017475940353     PEC56URGENTE  Jose do Nascimento   \n",
       "2  982675696270102530        rodsguido             erguido   \n",
       "3  977344219634319360    Frmarchetaria   Kito #BetaQuerLab   \n",
       "4  981745225256325120       mikapietra         miriã com ~   \n",
       "\n",
       "           user_location                                          full_text  \\\n",
       "0       Curitiba, Brasil  RT @LulapeloBrasil O POVO COM LULA  Caravanas ...   \n",
       "1         Rio de Janeiro  RT @Francischini_ ESPALHOU pelo BRASIL LULA re...   \n",
       "2         Morro do dendê  RT @luizguiprado Imagina o Bolsonaro agora ass...   \n",
       "3  Brasil, Guarulhos, SP  RT @santoocio Lula Moro e desembagrinhos não t...   \n",
       "4                   None  Tava aqui passando raiva por aquela Lala Rudge...   \n",
       "\n",
       "   emot_class  semantic_class  combo_class  classification new_user_location  \\\n",
       "0         NaN             0.0          NaN               1            parana   \n",
       "1         NaN            -1.0          NaN               0    rio de janeiro   \n",
       "2         NaN            -1.0          NaN               0               NaN   \n",
       "3         NaN             0.0          NaN               0         sao paulo   \n",
       "4         NaN             1.0          NaN               0               NaN   \n",
       "\n",
       "  created_at  \n",
       "0  Apr 09 21  \n",
       "1  Mar 25 22  \n",
       "2  Apr 07 17  \n",
       "3  Mar 24 00  \n",
       "4  Apr 05 04  "
      ]
     },
     "execution_count": 4,
     "metadata": {},
     "output_type": "execute_result"
    }
   ],
   "source": [
    "dt = pd.read_csv(\"LULA_location.csv\",sep=',',encoding='utf-8')\n",
    "dt.head()"
   ]
  },
  {
   "cell_type": "code",
   "execution_count": 29,
   "metadata": {},
   "outputs": [
    {
     "name": "stdout",
     "output_type": "stream",
     "text": [
      "(6567, 11)\n",
      "3271\n"
     ]
    }
   ],
   "source": [
    "# dt['Apr 20' in dt.created_at].full_text\n",
    "aux = []\n",
    "count = 0\n",
    "for i in dt.values:\n",
    "    if ('Apr 20 02' in i[10] or 'Apr 20 01' in i[10] or 'Apr 20 03' in i[10] or 'Apr 20 00' in i[10]) and i[8] == 2:\n",
    "        if 'Há 38 anos' in i[4] or 'Gleici' in i[4]:\n",
    "            count += 1\n",
    "        aux.append(i)\n",
    "aux = pd.DataFrame(aux)\n",
    "aux.columns = dt.columns\n",
    "print(aux.shape)\n",
    "print(count)"
   ]
  },
  {
   "cell_type": "code",
   "execution_count": 20,
   "metadata": {},
   "outputs": [
    {
     "data": {
      "text/plain": [
       "'RT @LulapeloBrasil Há 38 anos, Lula era preso pela ditadura por defender a democracia.  #LulaLivre https//t.co/OPdUVR0bJr ::R:: Há 38 anos, Lula era preso pela ditadura por defender a democracia.  #LulaLivre https//t.co/OPdUVR0bJr'"
      ]
     },
     "execution_count": 20,
     "metadata": {},
     "output_type": "execute_result"
    }
   ],
   "source": [
    "aux.full_text[0]"
   ]
  },
  {
   "cell_type": "code",
   "execution_count": 25,
   "metadata": {},
   "outputs": [
    {
     "data": {
      "text/plain": [
       "'RT @MidiaNINJA Gleici, campeã do BBB2018 é #LulaLivre https//t.co/nAa0ZzXJOX ::R:: Gleici, campeã do BBB2018 é #LulaLivre https//t.co/nAa0ZzXJOX'"
      ]
     },
     "execution_count": 25,
     "metadata": {},
     "output_type": "execute_result"
    }
   ],
   "source": [
    "aux.full_text[11]"
   ]
  },
  {
   "cell_type": "markdown",
   "metadata": {},
   "source": [
    "--------------------------\n",
    "### Bolsonaro"
   ]
  },
  {
   "cell_type": "code",
   "execution_count": 30,
   "metadata": {},
   "outputs": [
    {
     "name": "stderr",
     "output_type": "stream",
     "text": [
      "/home/alysson/miniconda3/lib/python3.6/site-packages/IPython/core/interactiveshell.py:2698: DtypeWarning: Columns (0) have mixed types. Specify dtype option on import or set low_memory=False.\n",
      "  interactivity=interactivity, compiler=compiler, result=result)\n"
     ]
    }
   ],
   "source": [
    "db = pd.read_csv(\"BOLSONARO_location.csv\",sep=',',encoding='utf-8')"
   ]
  },
  {
   "cell_type": "code",
   "execution_count": 38,
   "metadata": {},
   "outputs": [
    {
     "data": {
      "text/html": [
       "<div>\n",
       "<style scoped>\n",
       "    .dataframe tbody tr th:only-of-type {\n",
       "        vertical-align: middle;\n",
       "    }\n",
       "\n",
       "    .dataframe tbody tr th {\n",
       "        vertical-align: top;\n",
       "    }\n",
       "\n",
       "    .dataframe thead th {\n",
       "        text-align: right;\n",
       "    }\n",
       "</style>\n",
       "<table border=\"1\" class=\"dataframe\">\n",
       "  <thead>\n",
       "    <tr style=\"text-align: right;\">\n",
       "      <th></th>\n",
       "      <th>id</th>\n",
       "      <th>user_screen_name</th>\n",
       "      <th>user_name</th>\n",
       "      <th>user_location</th>\n",
       "      <th>full_text</th>\n",
       "      <th>emot_class</th>\n",
       "      <th>semantic_class</th>\n",
       "      <th>combo_class</th>\n",
       "      <th>classification</th>\n",
       "      <th>new_user_location</th>\n",
       "      <th>created_at</th>\n",
       "    </tr>\n",
       "  </thead>\n",
       "  <tbody>\n",
       "    <tr>\n",
       "      <th>0</th>\n",
       "      <td>982744690826113025</td>\n",
       "      <td>lmjsccp</td>\n",
       "      <td>.</td>\n",
       "      <td>None</td>\n",
       "      <td>fãs do bolsonaro não me sigam não os quero.</td>\n",
       "      <td>NaN</td>\n",
       "      <td>0.0</td>\n",
       "      <td>NaN</td>\n",
       "      <td>1.0</td>\n",
       "      <td>NaN</td>\n",
       "      <td>Apr 07 22</td>\n",
       "    </tr>\n",
       "    <tr>\n",
       "      <th>1</th>\n",
       "      <td>988791718479908865</td>\n",
       "      <td>justpatiend</td>\n",
       "      <td>DeaD Horse 🔫</td>\n",
       "      <td>Paradise City</td>\n",
       "      <td>imagina se alguém assina isso, fala uma opiniã...</td>\n",
       "      <td>NaN</td>\n",
       "      <td>1.0</td>\n",
       "      <td>NaN</td>\n",
       "      <td>0.0</td>\n",
       "      <td>para</td>\n",
       "      <td>Apr 24 14</td>\n",
       "    </tr>\n",
       "    <tr>\n",
       "      <th>2</th>\n",
       "      <td>982787664171724800</td>\n",
       "      <td>delicwtte</td>\n",
       "      <td>samara✨</td>\n",
       "      <td>None</td>\n",
       "      <td>RT @svillentnight COMO ASSIM A TULLA LUANA VOT...</td>\n",
       "      <td>NaN</td>\n",
       "      <td>0.0</td>\n",
       "      <td>NaN</td>\n",
       "      <td>0.0</td>\n",
       "      <td>NaN</td>\n",
       "      <td>Apr 08 01</td>\n",
       "    </tr>\n",
       "    <tr>\n",
       "      <th>3</th>\n",
       "      <td>988215976863981568</td>\n",
       "      <td>darbyblachechen</td>\n",
       "      <td>darby blachechen</td>\n",
       "      <td>None</td>\n",
       "      <td>RT @domlancellotti #AgoraÉComDatena Segue imag...</td>\n",
       "      <td>NaN</td>\n",
       "      <td>-1.0</td>\n",
       "      <td>NaN</td>\n",
       "      <td>0.0</td>\n",
       "      <td>NaN</td>\n",
       "      <td>Apr 23 00</td>\n",
       "    </tr>\n",
       "    <tr>\n",
       "      <th>4</th>\n",
       "      <td>982680584047742977</td>\n",
       "      <td>FernandoBrusto</td>\n",
       "      <td>Fernando Brustolin Nieri Vieira</td>\n",
       "      <td>Jardim Gutierres, Sorocaba</td>\n",
       "      <td>RT @OConservadores @joanatreptow Depois o Bols...</td>\n",
       "      <td>NaN</td>\n",
       "      <td>-1.0</td>\n",
       "      <td>NaN</td>\n",
       "      <td>1.0</td>\n",
       "      <td>NaN</td>\n",
       "      <td>Apr 07 18</td>\n",
       "    </tr>\n",
       "  </tbody>\n",
       "</table>\n",
       "</div>"
      ],
      "text/plain": [
       "                   id user_screen_name                        user_name  \\\n",
       "0  982744690826113025          lmjsccp                                .   \n",
       "1  988791718479908865      justpatiend                     DeaD Horse 🔫   \n",
       "2  982787664171724800        delicwtte                          samara✨   \n",
       "3  988215976863981568  darbyblachechen                 darby blachechen   \n",
       "4  982680584047742977   FernandoBrusto  Fernando Brustolin Nieri Vieira   \n",
       "\n",
       "                user_location  \\\n",
       "0                        None   \n",
       "1               Paradise City   \n",
       "2                        None   \n",
       "3                        None   \n",
       "4  Jardim Gutierres, Sorocaba   \n",
       "\n",
       "                                           full_text  emot_class  \\\n",
       "0        fãs do bolsonaro não me sigam não os quero.         NaN   \n",
       "1  imagina se alguém assina isso, fala uma opiniã...         NaN   \n",
       "2  RT @svillentnight COMO ASSIM A TULLA LUANA VOT...         NaN   \n",
       "3  RT @domlancellotti #AgoraÉComDatena Segue imag...         NaN   \n",
       "4  RT @OConservadores @joanatreptow Depois o Bols...         NaN   \n",
       "\n",
       "   semantic_class  combo_class  classification new_user_location created_at  \n",
       "0             0.0          NaN             1.0               NaN  Apr 07 22  \n",
       "1             1.0          NaN             0.0              para  Apr 24 14  \n",
       "2             0.0          NaN             0.0               NaN  Apr 08 01  \n",
       "3            -1.0          NaN             0.0               NaN  Apr 23 00  \n",
       "4            -1.0          NaN             1.0               NaN  Apr 07 18  "
      ]
     },
     "execution_count": 38,
     "metadata": {},
     "output_type": "execute_result"
    }
   ],
   "source": [
    "db.head()"
   ]
  },
  {
   "cell_type": "code",
   "execution_count": 43,
   "metadata": {},
   "outputs": [
    {
     "data": {
      "text/plain": [
       "'created_at'"
      ]
     },
     "execution_count": 43,
     "metadata": {},
     "output_type": "execute_result"
    }
   ],
   "source": [
    "db.columns[10]"
   ]
  },
  {
   "cell_type": "code",
   "execution_count": 51,
   "metadata": {},
   "outputs": [
    {
     "name": "stdout",
     "output_type": "stream",
     "text": [
      "(307, 11)\n",
      "139\n"
     ]
    }
   ],
   "source": [
    "aux = []\n",
    "count = 0\n",
    "for i in db.values:\n",
    "    try:\n",
    "        if ('Apr 22 22' in i[10] or 'Apr 22 21' in i[10] or 'Apr 22 23' in i[10] or 'Apr 22 21' in i[10]) and i[8] == 2:\n",
    "            if 'robôs' in i[4] or 'robo' in i[4] or 'robos' in i[4] or 'robôs' in i[4] or 'Robô' in i[4] or 'VEJA' in i[4] or 'ROBÔS' in i[4] or 'ROBÔ' in i[4]:\n",
    "                count += 1\n",
    "            aux.append(i)\n",
    "    except Exception:\n",
    "        pass\n",
    "aux = pd.DataFrame(aux)\n",
    "aux.columns = dt.columns\n",
    "print(aux.shape)\n",
    "print(count)"
   ]
  },
  {
   "cell_type": "code",
   "execution_count": 52,
   "metadata": {},
   "outputs": [
    {
     "data": {
      "text/plain": [
       "'Alô, @veja ! Eu sou robô!  #SomosTodosBolsonaro https//t.co/bhqWPXxFwb'"
      ]
     },
     "execution_count": 52,
     "metadata": {},
     "output_type": "execute_result"
    }
   ],
   "source": [
    "aux.full_text[14]"
   ]
  }
 ],
 "metadata": {
  "kernelspec": {
   "display_name": "Python 3",
   "language": "python",
   "name": "python3"
  },
  "language_info": {
   "codemirror_mode": {
    "name": "ipython",
    "version": 3
   },
   "file_extension": ".py",
   "mimetype": "text/x-python",
   "name": "python",
   "nbconvert_exporter": "python",
   "pygments_lexer": "ipython3",
   "version": "3.6.3"
  }
 },
 "nbformat": 4,
 "nbformat_minor": 2
}
