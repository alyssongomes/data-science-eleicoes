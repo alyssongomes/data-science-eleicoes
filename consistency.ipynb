{
 "cells": [
  {
   "cell_type": "code",
   "execution_count": 41,
   "metadata": {
    "collapsed": true
   },
   "outputs": [],
   "source": [
    "import pandas as pd\n",
    "import numpy as np\n",
    "import matplotlib.pyplot as plt\n",
    "import matplotlib.cm as cm\n",
    "import seaborn as sbn\n",
    "%matplotlib inline"
   ]
  },
  {
   "cell_type": "code",
   "execution_count": 2,
   "metadata": {
    "collapsed": true
   },
   "outputs": [],
   "source": [
    "alysson = pd.read_csv('MARCADOS_CONSISTENCIA/Alysson.csv', sep=';', encoding='utf-8')\n",
    "alysson.columns = ['id', 'tweet', 'candidato', 'marcador', 'classe']\n",
    "raul = pd.read_csv('MARCADOS_CONSISTENCIA/Raul.csv', sep=';', encoding='utf-8')\n",
    "raul.columns = ['id', 'tweet', 'candidato', 'marcador', 'classe']\n",
    "dalai = pd.read_csv('MARCADOS_CONSISTENCIA/Dalai.csv', sep=';', encoding='utf-8')\n",
    "dalai.columns = ['id', 'tweet', 'candidato', 'marcador', 'classe']\n",
    "romulo = pd.read_csv('MARCADOS_CONSISTENCIA/Romulo.csv', sep=';', encoding='utf-8')\n",
    "romulo.columns = ['id', 'tweet', 'candidato', 'marcador', 'classe']"
   ]
  },
  {
   "cell_type": "code",
   "execution_count": 4,
   "metadata": {
    "collapsed": true
   },
   "outputs": [],
   "source": [
    "marcados = [alysson, raul, dalai, romulo]"
   ]
  },
  {
   "cell_type": "code",
   "execution_count": 53,
   "metadata": {
    "collapsed": true
   },
   "outputs": [],
   "source": [
    "def auto_consistency(dataframe):\n",
    "    t = []\n",
    "    for d in dataframe.values:\n",
    "        if d[0] in list(dataframe.id[dataframe.duplicated('id')].values) and d[4] != 'Não sei':\n",
    "            t.append(list(d))\n",
    "    \n",
    "    count = 0\n",
    "    for i in range(0,len(t)):\n",
    "        for j in range(0,len(t)):\n",
    "            if i != j and t[i][0] == t[j][0] and t[i][4] == t[j][4]:\n",
    "                count += 1\n",
    "    return count/len(t)"
   ]
  },
  {
   "cell_type": "code",
   "execution_count": 54,
   "metadata": {},
   "outputs": [
    {
     "data": {
      "text/plain": [
       "0.75"
      ]
     },
     "execution_count": 54,
     "metadata": {},
     "output_type": "execute_result"
    }
   ],
   "source": [
    "auto_consistency(alysson)"
   ]
  },
  {
   "cell_type": "code",
   "execution_count": 51,
   "metadata": {
    "collapsed": true
   },
   "outputs": [],
   "source": [
    "def cross_consistency(df1, df2):\n",
    "    t = [] #tweets que df2 tem em comum com df1\n",
    "    l = []\n",
    "    for v in df2.values:\n",
    "        if v[0] in df1.id[df1.marcador == df2.values[0][3]].values and v[0] not in l and v[4] != 'Não sei':\n",
    "            t.append(v)\n",
    "            l.append(v[0])\n",
    "    \n",
    "    t2 = df1[df1.marcador == df2.values[0][3]].values # tweets que df1 tem em comum com df2\n",
    "    t2 = list(filter(lambda v: v[4] != 'Não sei',t2))\n",
    "    \n",
    "    match = 0\n",
    "    for i in range(0,len(t)):\n",
    "        for j in range(0,len(t2)):\n",
    "            if t[i][0] == t2[j][0] and t[i][4] == t2[j][4]:\n",
    "                match += 1\n",
    "                \n",
    "    return match/len(t)"
   ]
  },
  {
   "cell_type": "code",
   "execution_count": 52,
   "metadata": {},
   "outputs": [
    {
     "data": {
      "text/plain": [
       "0.8947368421052632"
      ]
     },
     "execution_count": 52,
     "metadata": {},
     "output_type": "execute_result"
    }
   ],
   "source": [
    "cross_consistency(alysson,raul)"
   ]
  },
  {
   "cell_type": "code",
   "execution_count": 55,
   "metadata": {
    "collapsed": true
   },
   "outputs": [],
   "source": [
    "matriz = []\n",
    "for i in marcados:\n",
    "    m = []\n",
    "    for j in marcados:\n",
    "        v = 0\n",
    "        if i is j:\n",
    "            v = auto_consistency(i)\n",
    "        else:\n",
    "            v = cross_consistency(i,j)\n",
    "        m.append(v)\n",
    "    matriz.append(m)"
   ]
  },
  {
   "cell_type": "code",
   "execution_count": 50,
   "metadata": {},
   "outputs": [
    {
     "data": {
      "text/plain": [
       "0.6335526315789474"
      ]
     },
     "execution_count": 50,
     "metadata": {},
     "output_type": "execute_result"
    }
   ],
   "source": [
    "# Média da matriz de consistência considerando os tweets marcados com 'Não sei'\n",
    "np.matrix(matriz).mean()"
   ]
  },
  {
   "cell_type": "code",
   "execution_count": 56,
   "metadata": {},
   "outputs": [
    {
     "data": {
      "text/plain": [
       "0.6280592808142149"
      ]
     },
     "execution_count": 56,
     "metadata": {},
     "output_type": "execute_result"
    }
   ],
   "source": [
    "# Média da matriz de consistência desconsiderando os tweets marcados com 'Não sei'\n",
    "np.matrix(matriz).mean()"
   ]
  },
  {
   "cell_type": "code",
   "execution_count": 57,
   "metadata": {},
   "outputs": [
    {
     "data": {
      "image/png": "[encoded data removed]",
      "text/plain": [
       "<matplotlib.figure.Figure at 0x7fed836bc4a8>"
      ]
     },
     "metadata": {},
     "output_type": "display_data"
    }
   ],
   "source": [
    "plt.matshow(matriz)\n",
    "plt.xticks(range(len(marcados)), ['alysson', 'raul', 'dalai', 'romulo'])\n",
    "plt.yticks(range(len(marcados)), ['alysson', 'raul', 'dalai', 'romulo'])\n",
    "plt.show()"
   ]
  },
  {
   "cell_type": "code",
   "execution_count": 58,
   "metadata": {},
   "outputs": [
    {
     "data": {
      "text/plain": [
       "<matplotlib.axes._subplots.AxesSubplot at 0x7fed836bc588>"
      ]
     },
     "execution_count": 58,
     "metadata": {},
     "output_type": "execute_result"
    },
    {
     "data": {
      "image/png": "[encoded data removed]",
      "text/plain": [
       "<matplotlib.figure.Figure at 0x7fed8360e7b8>"
      ]
     },
     "metadata": {},
     "output_type": "display_data"
    }
   ],
   "source": [
    "sbn.heatmap(matriz,\n",
    "            xticklabels=['alysson', 'raul', 'dalai', 'romulo'],\n",
    "            yticklabels=['alysson', 'raul', 'dalai', 'romulo'], \n",
    "            annot=True,\n",
    "            cmap=\"YlGnBu\")"
   ]
  },
  {
   "cell_type": "code",
   "execution_count": 25,
   "metadata": {
    "collapsed": true
   },
   "outputs": [],
   "source": [
    "twt = []\n",
    "for t in alysson.values:\n",
    "    if t[0] in list(alysson.id[alysson.duplicated('id')].values):\n",
    "        twt.append(list(t))"
   ]
  },
  {
   "cell_type": "code",
   "execution_count": 51,
   "metadata": {},
   "outputs": [
    {
     "name": "stdout",
     "output_type": "stream",
     "text": [
      "8\n",
      "0.8\n"
     ]
    }
   ],
   "source": [
    "p1 = twt[0:10]\n",
    "p2 = twt[10:20]\n",
    "\n",
    "cont = 0\n",
    "for i in range(0,10):\n",
    "    if p1[i][4] == p2[i][4]:\n",
    "        cont += 1\n",
    "        \n",
    "print(cont)\n",
    "print((cont * 10)/100)"
   ]
  },
  {
   "cell_type": "code",
   "execution_count": 46,
   "metadata": {
    "collapsed": true
   },
   "outputs": [],
   "source": [
    "twe = []\n",
    "for t in alysson.values:\n",
    "    if t[0] in list(alysson.id[alysson.marcador == 'raul'].values):\n",
    "        twe.append(list(t))"
   ]
  },
  {
   "cell_type": "code",
   "execution_count": null,
   "metadata": {
    "collapsed": true
   },
   "outputs": [],
   "source": []
  }
 ],
 "metadata": {
  "kernelspec": {
   "display_name": "Python 3",
   "language": "python",
   "name": "python3"
  },
  "language_info": {
   "codemirror_mode": {
    "name": "ipython",
    "version": 3
   },
   "file_extension": ".py",
   "mimetype": "text/x-python",
   "name": "python",
   "nbconvert_exporter": "python",
   "pygments_lexer": "ipython3",
   "version": "3.6.3"
  }
 },
 "nbformat": 4,
 "nbformat_minor": 2
}
