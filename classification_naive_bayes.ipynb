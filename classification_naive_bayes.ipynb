{
 "cells": [
  {
   "cell_type": "code",
   "execution_count": 1,
   "metadata": {
    "collapsed": true
   },
   "outputs": [],
   "source": [
    "import pandas as pd\n",
    "import numpy as np\n",
    "from nltk.corpus import stopwords\n",
    "from nltk.stem import *\n",
    "import re\n",
    "\n",
    "from sklearn.feature_extraction.text import CountVectorizer\n",
    "from sklearn.feature_extraction.text import TfidfTransformer\n",
    "from sklearn.naive_bayes import MultinomialNB\n",
    "from sklearn.linear_model import SGDClassifier\n",
    "from sklearn import metrics"
   ]
  },
  {
   "cell_type": "code",
   "execution_count": 3,
   "metadata": {
    "collapsed": true
   },
   "outputs": [],
   "source": [
    "dataset = pd.read_csv('DADOS-CodLab/V-oc/TRAIN/2018-Valence-oc-En-train.txt', sep='\\t')"
   ]
  },
  {
   "cell_type": "code",
   "execution_count": 204,
   "metadata": {},
   "outputs": [
    {
     "data": {
      "text/html": [
       "<div>\n",
       "<style scoped>\n",
       "    .dataframe tbody tr th:only-of-type {\n",
       "        vertical-align: middle;\n",
       "    }\n",
       "\n",
       "    .dataframe tbody tr th {\n",
       "        vertical-align: top;\n",
       "    }\n",
       "\n",
       "    .dataframe thead th {\n",
       "        text-align: right;\n",
       "    }\n",
       "</style>\n",
       "<table border=\"1\" class=\"dataframe\">\n",
       "  <thead>\n",
       "    <tr style=\"text-align: right;\">\n",
       "      <th></th>\n",
       "      <th>ID</th>\n",
       "      <th>Tweet</th>\n",
       "      <th>Affect Dimension</th>\n",
       "      <th>Intensity Class</th>\n",
       "      <th>Processed Tweet</th>\n",
       "    </tr>\n",
       "  </thead>\n",
       "  <tbody>\n",
       "    <tr>\n",
       "      <th>0</th>\n",
       "      <td>2017-En-30153</td>\n",
       "      <td>@liamch88 yeah! :) playing well</td>\n",
       "      <td>valence</td>\n",
       "      <td>0: neutral or mixed emotional state can be inf...</td>\n",
       "      <td>yeah play well</td>\n",
       "    </tr>\n",
       "    <tr>\n",
       "      <th>1</th>\n",
       "      <td>2017-En-40929</td>\n",
       "      <td>At least I don't have a guy trying to discoura...</td>\n",
       "      <td>valence</td>\n",
       "      <td>0: neutral or mixed emotional state can be inf...</td>\n",
       "      <td>least guy tri discourag anymor want never beco...</td>\n",
       "    </tr>\n",
       "    <tr>\n",
       "      <th>2</th>\n",
       "      <td>2017-En-22012</td>\n",
       "      <td>UPLIFT: If you're still discouraged it means y...</td>\n",
       "      <td>valence</td>\n",
       "      <td>0: neutral or mixed emotional state can be inf...</td>\n",
       "      <td>uplift still discourag mean listen wrong voic ...</td>\n",
       "    </tr>\n",
       "    <tr>\n",
       "      <th>3</th>\n",
       "      <td>2017-En-30837</td>\n",
       "      <td>...at your age, the heyday in the blood is tam...</td>\n",
       "      <td>valence</td>\n",
       "      <td>0: neutral or mixed emotional state can be inf...</td>\n",
       "      <td>age heyday blood tame'</td>\n",
       "    </tr>\n",
       "    <tr>\n",
       "      <th>4</th>\n",
       "      <td>2017-En-30838</td>\n",
       "      <td>i was so embarrassed when she saw us i was lik...</td>\n",
       "      <td>valence</td>\n",
       "      <td>-2: moderately negative emotional state can be...</td>\n",
       "      <td>embarrass saw us like knvfkkjg think we'r stal...</td>\n",
       "    </tr>\n",
       "  </tbody>\n",
       "</table>\n",
       "</div>"
      ],
      "text/plain": [
       "              ID                                              Tweet  \\\n",
       "0  2017-En-30153                   @liamch88 yeah! :) playing well    \n",
       "1  2017-En-40929  At least I don't have a guy trying to discoura...   \n",
       "2  2017-En-22012  UPLIFT: If you're still discouraged it means y...   \n",
       "3  2017-En-30837  ...at your age, the heyday in the blood is tam...   \n",
       "4  2017-En-30838  i was so embarrassed when she saw us i was lik...   \n",
       "\n",
       "  Affect Dimension                                    Intensity Class  \\\n",
       "0          valence  0: neutral or mixed emotional state can be inf...   \n",
       "1          valence  0: neutral or mixed emotional state can be inf...   \n",
       "2          valence  0: neutral or mixed emotional state can be inf...   \n",
       "3          valence  0: neutral or mixed emotional state can be inf...   \n",
       "4          valence  -2: moderately negative emotional state can be...   \n",
       "\n",
       "                                     Processed Tweet  \n",
       "0                                     yeah play well  \n",
       "1  least guy tri discourag anymor want never beco...  \n",
       "2  uplift still discourag mean listen wrong voic ...  \n",
       "3                             age heyday blood tame'  \n",
       "4  embarrass saw us like knvfkkjg think we'r stal...  "
      ]
     },
     "execution_count": 204,
     "metadata": {},
     "output_type": "execute_result"
    }
   ],
   "source": [
    "# Amostra dos dados\n",
    "dataset.head()"
   ]
  },
  {
   "cell_type": "code",
   "execution_count": 5,
   "metadata": {
    "collapsed": true
   },
   "outputs": [],
   "source": [
    "#categorias\n",
    "categories = dataset['Intensity Class'].value_counts().index.tolist()"
   ]
  },
  {
   "cell_type": "code",
   "execution_count": 129,
   "metadata": {
    "collapsed": true
   },
   "outputs": [],
   "source": [
    "nltk.download('stopwords') realizando o download das stopwords"
   ]
  },
  {
   "cell_type": "markdown",
   "metadata": {},
   "source": [
    "### Pré-processamento\n",
    "\n",
    "----------------\n",
    "Fases do pré-processamento\n",
    "* Remoção de referências a perfis do tweeter;\n",
    "* Remoção de Números, pontuações e caracteres especiais;\n",
    "* Substituição de letras maiúsculas por minúsculas;\n",
    "* Remoção de stopwords;\n",
    "* Remoção de stemming;\n"
   ]
  },
  {
   "cell_type": "code",
   "execution_count": 4,
   "metadata": {
    "collapsed": true
   },
   "outputs": [],
   "source": [
    "dataset['Processed Tweet'] = np.nan # coluna que guardará os tweets processados"
   ]
  },
  {
   "cell_type": "code",
   "execution_count": 6,
   "metadata": {},
   "outputs": [
    {
     "name": "stderr",
     "output_type": "stream",
     "text": [
      "/home/alysson/miniconda3/lib/python3.6/site-packages/ipykernel_launcher.py:25: SettingWithCopyWarning: \n",
      "A value is trying to be set on a copy of a slice from a DataFrame\n",
      "\n",
      "See the caveats in the documentation: http://pandas.pydata.org/pandas-docs/stable/indexing.html#indexing-view-versus-copy\n",
      "/home/alysson/miniconda3/lib/python3.6/site-packages/pandas/core/indexing.py:194: SettingWithCopyWarning: \n",
      "A value is trying to be set on a copy of a slice from a DataFrame\n",
      "\n",
      "See the caveats in the documentation: http://pandas.pydata.org/pandas-docs/stable/indexing.html#indexing-view-versus-copy\n",
      "  self._setitem_with_indexer(indexer, value)\n"
     ]
    }
   ],
   "source": [
    "stemmer = PorterStemmer()\n",
    "stemmer = \n",
    "for ind, tweet in enumerate(dataset['Tweet']):\n",
    "    t = tweet\n",
    "    t = re.sub(r'(\\b)?@\\w+','',t) #removendo referências a outros perfis\n",
    "    t = re.sub(r'(\\b)?#\\w+','',t) #removendo hashtags\n",
    "    t = re.sub(r'(\\b)?http://\\w+','',t) #removendo links\n",
    "    t = re.sub(r'(\\w+)?\\d(\\w+)?','',t) # removendo números\n",
    "    t = re.sub(r'[^A-Za-z0-9\\' ]+','',t) # removendo caracteres especiais\n",
    "    t = re.sub(r' +',' ',t) # removendo espaços duplos\n",
    "    t = t.lower() # removendo letras maiúsculas\n",
    "    t = t.strip() # remover espaços vazios no início e no fim\n",
    "    \n",
    "    # removendo stopwords\n",
    "    nsw = ''\n",
    "    for word in t.split(' '):\n",
    "        if word not in stopwords.words('english'):\n",
    "            nsw += word+' '\n",
    "    nsw = nsw.strip()\n",
    "    \n",
    "    # isolando o radical das palavras\n",
    "    nsw = nsw.split(' ')\n",
    "    ste = [stemmer.stem(word) for word in nsw]\n",
    "    processedTweet = ' '.join(ste)\n",
    "    \n",
    "    dataset['Processed Tweet'][ind] = processedTweet"
   ]
  },
  {
   "cell_type": "markdown",
   "metadata": {},
   "source": [
    "### Treinamento do Modelo - Naive Bayse"
   ]
  },
  {
   "cell_type": "code",
   "execution_count": 288,
   "metadata": {},
   "outputs": [
    {
     "data": {
      "text/plain": [
       "1181"
      ]
     },
     "execution_count": 288,
     "metadata": {},
     "output_type": "execute_result"
    }
   ],
   "source": [
    "len(dataset['Intensity Class'][0:826])+len(dataset['Intensity Class'][826:1181])"
   ]
  },
  {
   "cell_type": "code",
   "execution_count": 7,
   "metadata": {
    "collapsed": true
   },
   "outputs": [],
   "source": [
    "#dataset de treino\n",
    "train = pd.DataFrame()\n",
    "train['Processed Tweet'] = dataset['Processed Tweet'][0:826]\n",
    "train['Intensity Class'] = dataset['Intensity Class'][0:826]\n",
    "\n",
    "#dataset de teste\n",
    "test = pd.DataFrame()\n",
    "test['Processed Tweet'] = dataset['Processed Tweet'][826:1181]\n",
    "test['Intensity Class'] = dataset['Intensity Class'][826:1181]"
   ]
  },
  {
   "cell_type": "code",
   "execution_count": 8,
   "metadata": {},
   "outputs": [
    {
     "data": {
      "text/plain": [
       "(826, 2573)"
      ]
     },
     "execution_count": 8,
     "metadata": {},
     "output_type": "execute_result"
    }
   ],
   "source": [
    "# Indexando as palavras do corpus\n",
    "count_vect = CountVectorizer()\n",
    "X_train_counts = count_vect.fit_transform(train['Processed Tweet'].values.tolist())\n",
    "X_train_counts.shape"
   ]
  },
  {
   "cell_type": "code",
   "execution_count": 9,
   "metadata": {},
   "outputs": [
    {
     "data": {
      "text/plain": [
       "(826, 2573)"
      ]
     },
     "execution_count": 9,
     "metadata": {},
     "output_type": "execute_result"
    }
   ],
   "source": [
    "# calculando as frequencias das palavras\n",
    "tf_transformer = TfidfTransformer(use_idf=False).fit(X_train_counts)\n",
    "X_train_tf = tf_transformer.transform(X_train_counts)\n",
    "\n",
    "tfidf_transformer = TfidfTransformer()\n",
    "X_train_tfidf = tfidf_transformer.fit_transform(X_train_counts)\n",
    "X_train_tfidf.shape"
   ]
  },
  {
   "cell_type": "code",
   "execution_count": 10,
   "metadata": {},
   "outputs": [
    {
     "name": "stderr",
     "output_type": "stream",
     "text": [
      "/home/alysson/miniconda3/lib/python3.6/site-packages/sklearn/linear_model/stochastic_gradient.py:128: FutureWarning: max_iter and tol parameters have been added in <class 'sklearn.linear_model.stochastic_gradient.SGDClassifier'> in 0.19. If both are left unset, they default to max_iter=5 and tol=None. If tol is not None, max_iter defaults to max_iter=1000. From 0.21, default max_iter will be 1000, and default tol will be 1e-3.\n",
      "  \"and default tol will be 1e-3.\" % type(self), FutureWarning)\n"
     ]
    }
   ],
   "source": [
    "# treinando o modelo\n",
    "#clf = MultinomialNB().fit(X_train_tfidf, train['Intensity Class'].values)\n",
    "clf = SGDClassifier().fit(X_train_tfidf, train['Intensity Class'].values)"
   ]
  },
  {
   "cell_type": "code",
   "execution_count": 11,
   "metadata": {},
   "outputs": [
    {
     "name": "stdout",
     "output_type": "stream",
     "text": [
      "'whenev pout want adrian appear tell stop pout els' => 0: neutral or mixed emotional state can be inferred\n",
      "'love true taught fear illus' => 1: slightly positive emotional state can be inferred\n",
      "'team must draw hat daili person' => 1: slightly positive emotional state can be inferred\n",
      "'pastor feet away shoot victim protest say skeptic offici stori' => -3: very negative emotional state can be inferred\n",
      "'shot black polic woman typic looney toon think' => -2: moderately negative emotional state can be inferred\n",
      "\"we'r discipleship train detox someth\" => -2: moderately negative emotional state can be inferred\n",
      "'come let whatev' => 0: neutral or mixed emotional state can be inferred\n",
      "'peopl hit tri shake talk hide commun' => -3: very negative emotional state can be inferred\n",
      "'punchlin king back citi light' => -1: slightly negative emotional state can be inferred\n",
      "'watch driven food go devon ave eat nihari make gleeful af' => 1: slightly positive emotional state can be inferred\n",
      "'meanwhil get train hope realli realli enjoy hotel shennan' => -2: moderately negative emotional state can be inferred\n",
      "'know much bloodi pout take' => 0: neutral or mixed emotional state can be inferred\n",
      "'get better without explan wake one morn your happi total utterli elat' => 3: very positive emotional state can be inferred\n",
      "'let know' => 0: neutral or mixed emotional state can be inferred\n",
      "'best quot german almost' => 0: neutral or mixed emotional state can be inferred\n",
      "'start new challeng glee poll everi day' => -1: slightly negative emotional state can be inferred\n",
      "'like statement love optim' => 1: slightly positive emotional state can be inferred\n",
      "'qampa n christi fr would peter dardanella think us know' => -2: moderately negative emotional state can be inferred\n",
      "'contactless afflict kart need must regard psycholog moment xbeujgb' => 0: neutral or mixed emotional state can be inferred\n",
      "'oi absolut fuck kill min later im still cri laughter grindah grindah hahahahahahaha' => -1: slightly negative emotional state can be inferred\n",
      "'even shock someon gave record deal lol' => -2: moderately negative emotional state can be inferred\n",
      "\"we'r least known band world glad ask\" => 0: neutral or mixed emotional state can be inferred\n",
      "\"it'll easi spot parad tini wean expens jammi realli hilari\" => 2: moderately positive emotional state can be inferred\n",
      "'raini day cheer sunshin prussian want noth prussian' => -1: slightly negative emotional state can be inferred\n",
      "'per capita incom almost like us gini coeffici dismal ambit high output zero' => -2: moderately negative emotional state can be inferred\n",
      "'dont understand u video everi week spend time famili instead work horror' => -2: moderately negative emotional state can be inferred\n",
      "\"hope see leviti light romanc happi come stitch abby' way long hard road\" => 0: neutral or mixed emotional state can be inferred\n",
      "'move day' => -2: moderately negative emotional state can be inferred\n",
      "'better mood today bring also' => 1: slightly positive emotional state can be inferred\n",
      "'test' => -2: moderately negative emotional state can be inferred\n",
      "'check robocoq' => 0: neutral or mixed emotional state can be inferred\n",
      "'val far cheeri like' => 2: moderately positive emotional state can be inferred\n",
      "'happi everyth good see good side everyth' => 0: neutral or mixed emotional state can be inferred\n",
      "\"alex butler' class financi manag start great relev class discuss movi sunk cost\" => 0: neutral or mixed emotional state can be inferred\n",
      "'nnstephen king never spoke left crush publish worldnn' => 0: neutral or mixed emotional state can be inferred\n",
      "\"i'm restless\" => -2: moderately negative emotional state can be inferred\n",
      "\"troubl soul loos heart 'caus joy peac bring beauti that' store outweigh hurt life' sting\" => -2: moderately negative emotional state can be inferred\n",
      "'tremorn' => 0: neutral or mixed emotional state can be inferred\n",
      "\"suck real someon tri exhilar everi ounc see they'r\" => -1: slightly negative emotional state can be inferred\n",
      "'seek old chase resultin within' => -3: very negative emotional state can be inferred\n",
      "'stori life' => 0: neutral or mixed emotional state can be inferred\n",
      "'man onth helicopt said look like bad dude problem see black see bad' => -2: moderately negative emotional state can be inferred\n",
      "'brad pitt investig child abus got realli' => 0: neutral or mixed emotional state can be inferred\n",
      "'tell order ship sept arriv sept today' => 2: moderately positive emotional state can be inferred\n",
      "'correct ppl check stand gate amp flt took without us' => -2: moderately negative emotional state can be inferred\n",
      "'anytim get near mic someon need smack w bat' => -2: moderately negative emotional state can be inferred\n",
      "'moment leviti babi want isi give isisnmom shhnbabi want isisnwest indian woman want whatnmom ice' => 0: neutral or mixed emotional state can be inferred\n",
      "'best reveng massiv success frank sinatra' => 3: very positive emotional state can be inferred\n",
      "'yike wrath maddi' => 0: neutral or mixed emotional state can be inferred\n",
      "\"u talk ask 'how r things' get say someth u want i'm elat start convers u\" => 0: neutral or mixed emotional state can be inferred\n",
      "\"yeah u gotta make heel know u need vote u wait u losethey'r realli wrath\" => -2: moderately negative emotional state can be inferred\n",
      "'sadli one less hour drink time' => -2: moderately negative emotional state can be inferred\n",
      "'candac amp pout get right tit' => 0: neutral or mixed emotional state can be inferred\n",
      "'breezi love' => 1: slightly positive emotional state can be inferred\n",
      "\"season i'm look point\" => 0: neutral or mixed emotional state can be inferred\n",
      "\"wrinkl 'well look like name start letter g eh' man smile gave hearti\" => 0: neutral or mixed emotional state can be inferred\n",
      "'know go one night take act god fall asleep' => 0: neutral or mixed emotional state can be inferred\n",
      "'someth make excit terrifi thrill nervou elat amp like kick gut need word' => 0: neutral or mixed emotional state can be inferred\n",
      "'eun im realli unhappi dont like like pl dontnnyal okay love' => 0: neutral or mixed emotional state can be inferred\n",
      "\"ain't watch sugarboy hulu ain't shit hahaha\" => -2: moderately negative emotional state can be inferred\n",
      "'whu old bill free time game chelsea come around nthat live say leastn' => 1: slightly positive emotional state can be inferred\n",
      "'machin keep beep nnurs worri good vital normal size nwalk back nmatt die' => -2: moderately negative emotional state can be inferred\n",
      "'notic nice peopl believ nice god horrid peopl believ horrid god happen hate everybodi hate' => 0: neutral or mixed emotional state can be inferred\n",
      "'even forget tonight nn' => -2: moderately negative emotional state can be inferred\n",
      "\"'s influenc 's song\" => -1: slightly negative emotional state can be inferred\n",
      "'go' => -2: moderately negative emotional state can be inferred\n",
      "'mari berri reign terror' => 0: neutral or mixed emotional state can be inferred\n",
      "'caballero nightmar' => 0: neutral or mixed emotional state can be inferred\n",
      "'mistak half ass excus burn hell forev' => -3: very negative emotional state can be inferred\n",
      "\"i'm bore fat full ridicul overweight roll galor\" => 0: neutral or mixed emotional state can be inferred\n",
      "'click cupcak vehicl avail' => 0: neutral or mixed emotional state can be inferred\n",
      "\"welcom genuin made give head wobbl realis what' import life\" => 0: neutral or mixed emotional state can be inferred\n",
      "\"'nonpermiss environment' also call 'battleground'\" => 0: neutral or mixed emotional state can be inferred\n",
      "\"charg extra send someon cabl servic still work that' robberi\" => -3: very negative emotional state can be inferred\n",
      "'back pat' => 2: moderately positive emotional state can be inferred\n",
      "\"hospit elouise' water gone\" => 0: neutral or mixed emotional state can be inferred\n",
      "'part queensburi shock disgrac rout station morrison festoon rubbish' => 1: slightly positive emotional state can be inferred\n",
      "'lose game worst end feel mixtur anger sad shame anxieti last day' => 0: neutral or mixed emotional state can be inferred\n",
      "'ima kitchen sink' => -2: moderately negative emotional state can be inferred\n",
      "'preorder pale ep would paid phone call would freak said anyth' => -2: moderately negative emotional state can be inferred\n",
      "'bird begin chirp tri sleep' => 1: slightly positive emotional state can be inferred\n",
      "\"repli comment time i'm shake omg\" => -3: very negative emotional state can be inferred\n",
      "'mean let go cling attach thing life' => 0: neutral or mixed emotional state can be inferred\n",
      "'ive learnt good goe long way say goe even' => 0: neutral or mixed emotional state can be inferred\n",
      "'yo v overtim hockey got sweati damn ish exhilar' => -3: very negative emotional state can be inferred\n",
      "'liter nicol alreadi chanc play shitti season' => 0: neutral or mixed emotional state can be inferred\n",
      "\"tomorrow last episod despair arc much shit gonna happen i'm emot prepar\" => 0: neutral or mixed emotional state can be inferred\n",
      "'grim find broken matt hardi delet everyth lol' => 0: neutral or mixed emotional state can be inferred\n",
      "\"ain't go away want see hurt chang heartsmind realli option\" => -2: moderately negative emotional state can be inferred\n",
      "'lgbt person tell someon els identifi valid sad everyth stand' => -2: moderately negative emotional state can be inferred\n",
      "\"i'd give pout firm\" => 0: neutral or mixed emotional state can be inferred\n",
      "'everyday wake differ player sign contract extens love' => 3: very positive emotional state can be inferred\n",
      "'wanna kill destroy want die want flint back' => -1: slightly negative emotional state can be inferred\n",
      "\"he' luckybad pitcherselkracken\" => 1: slightly positive emotional state can be inferred\n",
      "'bird chirp cow moo need listen sound natur ensur well' => 1: slightly positive emotional state can be inferred\n",
      "'truli want god life requir let go old thing allow new thing flourish' => -1: slightly negative emotional state can be inferred\n",
      "\"i'm realli hit flavor sparkl water rap know what' trip half french spanish flavor\" => 0: neutral or mixed emotional state can be inferred\n",
      "'turn older woman look sybil somber express nnshe ran away cannot blame' => -2: moderately negative emotional state can be inferred\n",
      "'head montalvo wbring bitchesndbnnn' => 0: neutral or mixed emotional state can be inferred\n",
      "'project percept see someon els also level within' => -2: moderately negative emotional state can be inferred\n",
      "'annoy ortiz tribut would oriol fan organ feel yank' => -2: moderately negative emotional state can be inferred\n",
      "'tell happi anniversari u happi' => 3: very positive emotional state can be inferred\n",
      "\"i'm sorri loss one ever give shit take time mourn matter long take\" => -2: moderately negative emotional state can be inferred\n",
      "'three day month two ex wive home could wors know could' => -2: moderately negative emotional state can be inferred\n",
      "'greatest ur' => 0: neutral or mixed emotional state can be inferred\n",
      "'ok movi good time whilst young still enjoy shi ethan hawk' => 0: neutral or mixed emotional state can be inferred\n",
      "\"swear block i'm go hit back\" => -2: moderately negative emotional state can be inferred\n",
      "'mean tell glee get less gleeful' => 0: neutral or mixed emotional state can be inferred\n",
      "'anim version better' => 0: neutral or mixed emotional state can be inferred\n",
      "'ye lia join dark side' => 0: neutral or mixed emotional state can be inferred\n",
      "\"lol i'm happi neg realist ass self sorri offend\" => 1: slightly positive emotional state can be inferred\n",
      "'u ride pile salt life extra sweet alway salti alway savori' => -2: moderately negative emotional state can be inferred\n",
      "\"asid i'm pleas individu i'm involv pleasur come pleasur\" => 1: slightly positive emotional state can be inferred\n",
      "'white prick laugh use languag cri coffin rejoic anoth' => -3: very negative emotional state can be inferred\n",
      "'hey folk sorri anyth offens got post yesterday account got hack fix though hope' => 0: neutral or mixed emotional state can be inferred\n",
      "\"srv' 'voodoo child' approxim time better jimi'\" => 0: neutral or mixed emotional state can be inferred\n",
      "'know make fear' => -2: moderately negative emotional state can be inferred\n",
      "'pussi weak heard stfu bitch got threaten pregnant' => 3: very positive emotional state can be inferred\n",
      "\"better wetter dry' certainli found hilari\" => 3: very positive emotional state can be inferred\n",
      "\"see endnin bitter tragedyni'l give spendnand give noth back\" => 1: slightly positive emotional state can be inferred\n",
      "'also' => 0: neutral or mixed emotional state can be inferred\n",
      "'gif messag app hilari' => 2: moderately positive emotional state can be inferred\n",
      "'rear garden alarm activ telford hous' => -3: very negative emotional state can be inferred\n",
      "'pleas ty' => 0: neutral or mixed emotional state can be inferred\n",
      "\"i'm mad client i'm furiou lmao\" => -3: very negative emotional state can be inferred\n",
      "'whole thread jovial fun comment like full misogyni' => -2: moderately negative emotional state can be inferred\n",
      "'final thank' => 3: very positive emotional state can be inferred\n",
      "'go one extra mile see smile' => 3: very positive emotional state can be inferred\n",
      "\"im seriou put word mouth bitch add ' ' sentenc say shit blood\" => -2: moderately negative emotional state can be inferred\n",
      "'retir minut ago blue' => -3: very negative emotional state can be inferred\n",
      "'episod anim week air' => 0: neutral or mixed emotional state can be inferred\n",
      "'well hear girl attract men look like dad' => 1: slightly positive emotional state can be inferred\n",
      "'take feel kei unfairli lip form frown tri walk away' => -2: moderately negative emotional state can be inferred\n",
      "'melancholi hill' => -2: moderately negative emotional state can be inferred\n",
      "'must know mean adj happi cheer' => 0: neutral or mixed emotional state can be inferred\n",
      "'ukulel bag fallen apart welll least life yet' => 0: neutral or mixed emotional state can be inferred\n",
      "'nnshe held back skull smile kiss' => 0: neutral or mixed emotional state can be inferred\n",
      "\"he' brilliant lost joyou plot us year admit fan\" => -2: moderately negative emotional state can be inferred\n",
      "'exhilar' => 3: very positive emotional state can be inferred\n",
      "'would alway honest great feedback opinion brand want offend' => -2: moderately negative emotional state can be inferred\n",
      "'blend water lienther shrine free melancholi water lienno ray dull tide vine' => -2: moderately negative emotional state can be inferred\n",
      "'republican name graham flake sass other safe wrath henc hillari hineykiss ad saw' => -2: moderately negative emotional state can be inferred\n",
      "'amal clooney tri prosecut crime turn world upsid downampcr' => -1: slightly negative emotional state can be inferred\n",
      "\"weather breezi man can't life alway easi\" => 0: neutral or mixed emotional state can be inferred\n",
      "'plu hearti pour' => 1: slightly positive emotional state can be inferred\n",
      "\"i'm actual offend name fatten sandwich man die coronari diseas like due diet\" => -2: moderately negative emotional state can be inferred\n",
      "\"'nonpermiss environment' also call 'battleground'\" => 0: neutral or mixed emotional state can be inferred\n",
      "'bahahahaha dean look hilari damn got fat' => 3: very positive emotional state can be inferred\n",
      "'cuz even bibl talk son come back fieri sword got mother call whore revel' => 0: neutral or mixed emotional state can be inferred\n",
      "\"ok got call 'white devil' train didnt know whether laugh offend\" => 0: neutral or mixed emotional state can be inferred\n",
      "'sparkl water nice know tri day' => 3: very positive emotional state can be inferred\n",
      "'thank notif came nick time cheer retweet' => 0: neutral or mixed emotional state can be inferred\n",
      "'turkish exhilar shade irrupt russian visitor twelvemonth gobbler nephal' => 3: very positive emotional state can be inferred\n",
      "'goodby everyon tremend tonight' => 0: neutral or mixed emotional state can be inferred\n",
      "'back start irrit bare' => -2: moderately negative emotional state can be inferred\n",
      "'well stock finish amp list live room move around new edit done amp fit visit inlaw' => 3: very positive emotional state can be inferred\n",
      "\"i'v contact\" => 0: neutral or mixed emotional state can be inferred\n",
      "\"biggest fear incur std' pregnancyi mean they'r basic thing anyway\" => 0: neutral or mixed emotional state can be inferred\n",
      "'go say rooney shadow former self want offend shadow' => -2: moderately negative emotional state can be inferred\n",
      "'warm univers languag kind william arthur ward' => -2: moderately negative emotional state can be inferred\n",
      "'u control u fear life ur mind real difficulti overcom cheryl janecki' => 0: neutral or mixed emotional state can be inferred\n",
      "\"that' pretti love sky background purpl highlight dull color great\" => -1: slightly negative emotional state can be inferred\n",
      "'whole time watch lost' => 0: neutral or mixed emotional state can be inferred\n",
      "'irrit level time high today' => -2: moderately negative emotional state can be inferred\n",
      "\"yesterday histori tomorrow amysteri today gift that' call present\" => 3: very positive emotional state can be inferred\n",
      "'new wavetechno jazz blue depend mood' => -2: moderately negative emotional state can be inferred\n",
      "'goal scare littl excit lot joe vital' => 0: neutral or mixed emotional state can be inferred\n",
      "'drunk hid key well sober find anywher' => 1: slightly positive emotional state can be inferred\n",
      "'mind alway seem work best night' => 0: neutral or mixed emotional state can be inferred\n",
      "'live order complet amaz life journey success' => 1: slightly positive emotional state can be inferred\n",
      "'tim burton never fail depress' => -2: moderately negative emotional state can be inferred\n",
      "\"we'r discipleship train detox someth\" => -2: moderately negative emotional state can be inferred\n",
      "'option tabl come' => 1: slightly positive emotional state can be inferred\n",
      "'dude wanna play bass buy bass rejoic' => 0: neutral or mixed emotional state can be inferred\n",
      "\"someth v satisfi open old 'to do'doc file abl check thing done\" => -3: very negative emotional state can be inferred\n",
      "'chirp chirp' => 0: neutral or mixed emotional state can be inferred\n",
      "'synth back track sadnessn' => 2: moderately positive emotional state can be inferred\n",
      "\"exhilar take challeng demonstr explain 's endear amp wonder\" => 3: very positive emotional state can be inferred\n",
      "\"gotta hit breezi everi day make sure he' break boot first class friend right\" => 0: neutral or mixed emotional state can be inferred\n",
      "\"hey u never know channel 's version might actual quit good advert end world\" => 1: slightly positive emotional state can be inferred\n",
      "'fuck gut dishearten amp piss offgon toughest resolut defenc worst amp shambol' => -3: very negative emotional state can be inferred\n",
      "\"nn'whoo welcome' greet cheer\" => 0: neutral or mixed emotional state can be inferred\n",
      "'thank make super sad pizza' => -2: moderately negative emotional state can be inferred\n",
      "'best part day jesu snuggl embraceto rest arm know love' => -2: moderately negative emotional state can be inferred\n",
      "\"he' serious frustrat sometim\" => 0: neutral or mixed emotional state can be inferred\n",
      "'love love love' => 1: slightly positive emotional state can be inferred\n",
      "'goe butterfli stomach' => -2: moderately negative emotional state can be inferred\n",
      "'may man live well longenough leav mani joy widow behind' => 1: slightly positive emotional state can be inferred\n",
      "'awesom yr old grandson run cross countri simon whitfield still lot fun cheer' => -2: moderately negative emotional state can be inferred\n",
      "'thought funni mayb coincid green must offici color optim' => 0: neutral or mixed emotional state can be inferred\n",
      "'love made feel bad scare dark' => -2: moderately negative emotional state can be inferred\n",
      "'overtim' => 0: neutral or mixed emotional state can be inferred\n",
      "'anyon brave last min longer everyon els' => 2: moderately positive emotional state can be inferred\n",
      "'left phone mcd' => 0: neutral or mixed emotional state can be inferred\n",
      "\"ref gt' favor tonight\" => -2: moderately negative emotional state can be inferred\n",
      "'lord thi god midst thee mighti save rejoic thee joy nzephaniah kjv' => 1: slightly positive emotional state can be inferred\n",
      "'omg nol love u much love ur cheeri face hug' => 1: slightly positive emotional state can be inferred\n",
      "'discov alarm rate bee die import way life' => 0: neutral or mixed emotional state can be inferred\n",
      "'old sadli' => -2: moderately negative emotional state can be inferred\n",
      "'horror' => -2: moderately negative emotional state can be inferred\n",
      "'probabl person like complet understand gobsmack learn true' => 1: slightly positive emotional state can be inferred\n",
      "'assum peopl pick jovial coz lol lot work mayb need get heavi hand emoticon ha' => 0: neutral or mixed emotional state can be inferred\n",
      "\"start 'get chri sutton tv campaign spread work\" => 0: neutral or mixed emotional state can be inferred\n",
      "'ditto amaz atmospher' => 3: very positive emotional state can be inferred\n",
      "'kinda girl pleas dick right' => 0: neutral or mixed emotional state can be inferred\n",
      "'would enriqu sub busquet' => -2: moderately negative emotional state can be inferred\n",
      "'weather got fuck like either sunni hot gloomi cold' => -3: very negative emotional state can be inferred\n",
      "\"black femal leo shot time die philadelphia where' black peopl\" => -3: very negative emotional state can be inferred\n",
      "'love busi teach take mall desic immens love' => 1: slightly positive emotional state can be inferred\n",
      "\"year end i'll probabl get master flu game true blue space jam\" => 2: moderately positive emotional state can be inferred\n",
      "'alway sober said drunk teach keep mouth shut n ernest hemingway' => 0: neutral or mixed emotional state can be inferred\n",
      "'good morn joy peopl choos happi great day today' => 3: very positive emotional state can be inferred\n",
      "'alway inde wonder experi fli guy today' => 3: very positive emotional state can be inferred\n",
      "'today reach subscrib yt' => 1: slightly positive emotional state can be inferred\n",
      "\"tri lovee somebodi wanna love somebodi right guess there' pleas\" => 0: neutral or mixed emotional state can be inferred\n",
      "'mustacheharbor tiburonchamb plu hearti pour' => 1: slightly positive emotional state can be inferred\n",
      "'still younger spri trump' => -2: moderately negative emotional state can be inferred\n",
      "'due hearti lawsuit nascar rais beer price accommod loss' => 1: slightly positive emotional state can be inferred\n",
      "'see happi exterior hopeless sometim feel insid' => -1: slightly negative emotional state can be inferred\n",
      "'wonder experi watch yesterday thankyou' => 3: very positive emotional state can be inferred\n",
      "\"i'm hungri food\" => 3: very positive emotional state can be inferred\n",
      "'talk mood pickup went depress elat fast' => 1: slightly positive emotional state can be inferred\n",
      "'epicuru man least depend upon morrow goe meet morrow cheer' => 0: neutral or mixed emotional state can be inferred\n",
      "\"i'm go sulk week back best\" => 0: neutral or mixed emotional state can be inferred\n",
      "'voic miley alicia year longer contest' => -2: moderately negative emotional state can be inferred\n",
      "\"he' perfect even way sort resent suspect lead doubl life perfect\" => -2: moderately negative emotional state can be inferred\n",
      "'resent' => -3: very negative emotional state can be inferred\n",
      "'honestli fume' => -3: very negative emotional state can be inferred\n",
      "'screen snap kind narcissist ass would smh' => -3: very negative emotional state can be inferred\n",
      "\"know expect brendon' video lmao la devote video got shook\" => 0: neutral or mixed emotional state can be inferred\n",
      "\"take kind weak act silli keep ain't fort\" => 0: neutral or mixed emotional state can be inferred\n",
      "'ramo best burn hater head' => 0: neutral or mixed emotional state can be inferred\n",
      "'show hundr reason cri show hundr one reason' => 1: slightly positive emotional state can be inferred\n",
      "\"i'm move weekend amp sugar daddi replac nigga still happi\" => 0: neutral or mixed emotional state can be inferred\n",
      "'go follow' => 3: very positive emotional state can be inferred\n",
      "'houston might lose coach tomorrow midnight' => -3: very negative emotional state can be inferred\n",
      "'dull uk' => 2: moderately positive emotional state can be inferred\n",
      "'ok got madden refund gotta wait day money gotta preorder fifa' => 2: moderately positive emotional state can be inferred\n",
      "\"funni caus cooper' go go farther peopl bulli\" => -2: moderately negative emotional state can be inferred\n",
      "'retweet nnday like today happi aliv' => 2: moderately positive emotional state can be inferred\n",
      "'sorri burst bubbl centuri anymor welcom centuri' => 0: neutral or mixed emotional state can be inferred\n",
      "'good optim sir' => 0: neutral or mixed emotional state can be inferred\n",
      "'one appl attempt make muslim happi' => 0: neutral or mixed emotional state can be inferred\n",
      "'quotesoup happi everyth good see good side everyth' => 0: neutral or mixed emotional state can be inferred\n",
      "\"take pictur awkward smilenm pictur day awkward smilenconclus stop smile 'n\" => -3: very negative emotional state can be inferred\n",
      "\"girl play childlik seem love relationship can't imagin seriou convo cute\" => 0: neutral or mixed emotional state can be inferred\n",
      "'congrat fix nose' => -2: moderately negative emotional state can be inferred\n",
      "\"day day i'm excit\" => -2: moderately negative emotional state can be inferred\n",
      "'watch first cage death word tremend' => 0: neutral or mixed emotional state can be inferred\n",
      "\"srpt would etep patient amp mom' advoc drug work anyon listen etep md' adcomm elat\" => 0: neutral or mixed emotional state can be inferred\n",
      "\"soul search i'd like announc i'v chosen amp adopt sister due hilar\" => 0: neutral or mixed emotional state can be inferred\n",
      "\"amp 's show raw sexual pure thank belli laugh butt sex jape\" => 2: moderately positive emotional state can be inferred\n",
      "'complet blown away cast tonight' => -2: moderately negative emotional state can be inferred\n",
      "\"night sparkl let go i'm wonderstruck blush way home'\" => 3: very positive emotional state can be inferred\n",
      "'anyway found short scale today perfect purpos soft hand aggrav nowchron tendon' => 3: very positive emotional state can be inferred\n",
      "\"tote relisten endless hilar tom odell' 'raaar' morn\" => 3: very positive emotional state can be inferred\n",
      "'grim piec laughter stricken day' => -2: moderately negative emotional state can be inferred\n",
      "\"god i'v physic weak whole day much shake\" => -2: moderately negative emotional state can be inferred\n",
      "\"yo yo yomi name ni feel like need puff inhal i'm rapper sick bar\" => -2: moderately negative emotional state can be inferred\n",
      "\"saw save day psa obviou tear i'd thought cheer self\" => 0: neutral or mixed emotional state can be inferred\n",
      "'boy rejoic badger corner reclaim first social year' => -2: moderately negative emotional state can be inferred\n",
      "'guy use type languag save rage' => 0: neutral or mixed emotional state can be inferred\n",
      "'amount laughter readi leav bodi unit lose unreal' => 1: slightly positive emotional state can be inferred\n",
      "'sometim like talk sad time want distract friend laughter shop eat nn' => 0: neutral or mixed emotional state can be inferred\n",
      "'feel good get outsid minut get fresh air hard stay coop insid day' => -2: moderately negative emotional state can be inferred\n",
      "\"ppl get trigger u smile they'r irrelev\" => 0: neutral or mixed emotional state can be inferred\n",
      "'oh get see play tonight' => -2: moderately negative emotional state can be inferred\n",
      "'see reason optim point string togeth bad perform' => 1: slightly positive emotional state can be inferred\n",
      "'' => 0: neutral or mixed emotional state can be inferred\n",
      "\"y'all shabazz' name phone 'easi breezi beautiful' amp apolog\" => 2: moderately positive emotional state can be inferred\n",
      "'beauti day lord made rejoic glad' => 3: very positive emotional state can be inferred\n",
      "'thank much home stun happi think sunk yet wow' => 3: very positive emotional state can be inferred\n",
      "\"po rejoic someone' death\" => -2: moderately negative emotional state can be inferred\n",
      "'loool understand pessim' => -1: slightly negative emotional state can be inferred\n",
      "'sadli sort poster die afaik' => -2: moderately negative emotional state can be inferred\n",
      "'step boil broccoli tbh' => -2: moderately negative emotional state can be inferred\n",
      "'mani gloomi day' => -3: very negative emotional state can be inferred\n",
      "'good morn chirpi pensiv sister perfect day howev express' => 3: very positive emotional state can be inferred\n",
      "'hope polic met subway took straight jail' => 0: neutral or mixed emotional state can be inferred\n",
      "\"depict feel right feel jubil yet anxiou ordunno seem like i'm someth worth wait everyday\" => -2: moderately negative emotional state can be inferred\n",
      "\"love tay amp tiff sit hous i'm work\" => 2: moderately positive emotional state can be inferred\n",
      "'tip worri pleas everyon' => 0: neutral or mixed emotional state can be inferred\n",
      "\"dunno i'm get less spaciou love autumn melancholi present apocalyps\" => -2: moderately negative emotional state can be inferred\n",
      "'guess heartbreak eas kill innoc man get away' => -2: moderately negative emotional state can be inferred\n",
      "'agre memphi look live also' => 0: neutral or mixed emotional state can be inferred\n",
      "\"took yr school i'm proud say got accept yo girl go finish\" => -2: moderately negative emotional state can be inferred\n",
      "'suck wormhol hilar escap say weird accur' => 0: neutral or mixed emotional state can be inferred\n",
      "'end met mother dread' => 2: moderately positive emotional state can be inferred\n",
      "'might seriou number sound better wild card race' => -2: moderately negative emotional state can be inferred\n",
      "'thank balloon today' => 3: very positive emotional state can be inferred\n",
      "\"know proactiv play want press boob face tatenashi i'm say though\" => 0: neutral or mixed emotional state can be inferred\n",
      "'know final day summer final' => -1: slightly negative emotional state can be inferred\n",
      "'u fact u ask question later' => 0: neutral or mixed emotional state can be inferred\n",
      "'think realli need round vs twitter debat end someth joy ya know' => -3: very negative emotional state can be inferred\n",
      "'hi monica write regularli bee never dare tri' => 1: slightly positive emotional state can be inferred\n",
      "\"halfway work realiz forgot put underwearit' go one day\" => -2: moderately negative emotional state can be inferred\n",
      "'love stori actual see ruth hubbi cashcow funni left phone' => 0: neutral or mixed emotional state can be inferred\n",
      "\"becom verb 'i'm gonna villaseor old contact need anymore'\" => -3: very negative emotional state can be inferred\n",
      "'charlott friend climb top windmil think view easi breezi beauti' => 2: moderately positive emotional state can be inferred\n",
      "\"thought sunk teeth someth that' meant sook\" => 0: neutral or mixed emotional state can be inferred\n",
      "\"semor let' get\" => 0: neutral or mixed emotional state can be inferred\n",
      "'terribl thing see visionnnhelen kellernnbegin end mindnnstephen coveynn' => 2: moderately positive emotional state can be inferred\n",
      "'man know juggl ball n' => -2: moderately negative emotional state can be inferred\n",
      "'wish realli truli wish modicum banter' => 0: neutral or mixed emotional state can be inferred\n",
      "\"book sprightli amp fun cuz he'd reinvigor harri potter seri i'm kid\" => 2: moderately positive emotional state can be inferred\n",
      "'oh gosh get rage comment cruis fan die laugh' => 2: moderately positive emotional state can be inferred\n",
      "\"'s amp similar preach come power germani wake america\" => 2: moderately positive emotional state can be inferred\n",
      "\"need leviti hub talk kyle' new solo album yo say '' love ur news show lolz\" => 1: slightly positive emotional state can be inferred\n",
      "'day hope nice' => 3: very positive emotional state can be inferred\n",
      "\"i'm go get weirdest thank noteor worsetot silenc acknowledg\" => 3: very positive emotional state can be inferred\n",
      "'much play start make wonder weather tast music good complet shit' => 0: neutral or mixed emotional state can be inferred\n",
      "\"toddler cope new arriv tri kill yet' cheer ask\" => 0: neutral or mixed emotional state can be inferred\n",
      "'kelvin mackenzi tomorrow dontbuythesun' => 2: moderately positive emotional state can be inferred\n",
      "\"rap cut raper' throat said citi light\" => 2: moderately positive emotional state can be inferred\n",
      "'lack compani liveli make bore' => 0: neutral or mixed emotional state can be inferred\n",
      "'still destroy fear walk dead show horribl' => -2: moderately negative emotional state can be inferred\n",
      "\"got angri tell 'but would year old guy look girl like you' felt\" => 0: neutral or mixed emotional state can be inferred\n",
      "'tend loosen bit drunk seem pretti cheer' => -2: moderately negative emotional state can be inferred\n",
      "'sorri leviti inappropri combin love charlott remind rn' => 0: neutral or mixed emotional state can be inferred\n",
      "'hard time fall sleep woke sever time afraid bug crawl end wake bite' => -3: very negative emotional state can be inferred\n",
      "'turn rather fieri gg radic' => 0: neutral or mixed emotional state can be inferred\n",
      "'offer gold silver said nah' => -2: moderately negative emotional state can be inferred\n",
      "'second pair scale bought stop work batteri chang issu awar' => 0: neutral or mixed emotional state can be inferred\n",
      "'even get start hillari fanci fundrais' => 2: moderately positive emotional state can be inferred\n",
      "'manchest unit v manchest citi day' => -1: slightly negative emotional state can be inferred\n",
      "'u shd b embrrssd u jack bp med twice still take day express' => -3: very negative emotional state can be inferred\n",
      "'gave rugbi bet rooster' => 0: neutral or mixed emotional state can be inferred\n",
      "'want saturday want good' => 0: neutral or mixed emotional state can be inferred\n",
      "'awar time awar time lost' => 0: neutral or mixed emotional state can be inferred\n",
      "'korgoth barbaria brutal king julian hilar ariel hot' => -3: very negative emotional state can be inferred\n",
      "\"there' sitcom better u can't laugh sheldon leonard u sober real two way\" => 0: neutral or mixed emotional state can be inferred\n",
      "'yahweh god among warrior save rejoic glad' => 1: slightly positive emotional state can be inferred\n",
      "'flight crash lost island' => 0: neutral or mixed emotional state can be inferred\n",
      "'im exit shake much im pround colleen fandom everyon amaz' => 0: neutral or mixed emotional state can be inferred\n",
      "\"yeah don' mind tweetin' twice\" => 0: neutral or mixed emotional state can be inferred\n",
      "'may send copi either ebook real paper one boy greyhound' => 3: very positive emotional state can be inferred\n",
      "'like commerci chocol milk bender steal soccer ball guy refus give back' => 0: neutral or mixed emotional state can be inferred\n",
      "\"get discourag earli amp get overwhelm keep read amp use cue card it'll get better\" => 0: neutral or mixed emotional state can be inferred\n",
      "'call' => 0: neutral or mixed emotional state can be inferred\n",
      "'good morn welcom new day life heart' => -2: moderately negative emotional state can be inferred\n",
      "'somewher day n' => -2: moderately negative emotional state can be inferred\n",
      "'use beauti live life fast forest citi joe' => 0: neutral or mixed emotional state can be inferred\n",
      "'live simpli dream big grate give love laugh lot unknown' => 1: slightly positive emotional state can be inferred\n",
      "'u strong u offend weak amp insecur stay strong joshua' => 2: moderately positive emotional state can be inferred\n",
      "\"rec'd call haitian church start florida ago prepar acquir bldg want know\" => 2: moderately positive emotional state can be inferred\n",
      "'di dat nigga fume right' => -2: moderately negative emotional state can be inferred\n",
      "\"see i'll hover block button today much glee\" => 1: slightly positive emotional state can be inferred\n",
      "'seriou need nap' => -2: moderately negative emotional state can be inferred\n",
      "'honestli aw peopl internet smh' => -2: moderately negative emotional state can be inferred\n",
      "'truli believ heart right satan rejoic one anoth' => -2: moderately negative emotional state can be inferred\n",
      "'think ian knew pavel knew charli bet rob cackl glee heard happen' => -1: slightly negative emotional state can be inferred\n",
      "'lost wallet lol' => 0: neutral or mixed emotional state can be inferred\n",
      "'repent trust christ lowli pain also joyou peac absolut gloriou' => 1: slightly positive emotional state can be inferred\n",
      "'chew' => 0: neutral or mixed emotional state can be inferred\n",
      "'anxiou time leav hous horrid' => -3: very negative emotional state can be inferred\n"
     ]
    }
   ],
   "source": [
    "docs_new = test['Processed Tweet'].values.tolist()\n",
    "X_new_counts = count_vect.transform(docs_new)\n",
    "X_new_tfidf = tfidf_transformer.transform(X_new_counts)\n",
    "\n",
    "predicted = clf.predict(X_new_tfidf)\n",
    "\n",
    "for doc, category in zip(docs_new, predicted):\n",
    "    print('%r => %s' % (doc, category))"
   ]
  },
  {
   "cell_type": "code",
   "execution_count": 15,
   "metadata": {},
   "outputs": [
    {
     "name": "stdout",
     "output_type": "stream",
     "text": [
      "                                                         precision    recall  f1-score   support\n",
      "\n",
      "    0: neutral or mixed emotional state can be inferred       0.00      0.00      0.00        31\n",
      "-2: moderately negative emotional state can be inferred       0.22      0.30      0.26        67\n",
      "   1: slightly positive emotional state can be inferred       0.19      0.11      0.14        46\n",
      "      -3: very negative emotional state can be inferred       0.34      0.45      0.39        98\n",
      "       3: very positive emotional state can be inferred       0.21      0.17      0.19        46\n",
      " 2: moderately positive emotional state can be inferred       0.04      0.03      0.04        30\n",
      "  -1: slightly negative emotional state can be inferred       0.29      0.24      0.26        37\n",
      "\n",
      "                                            avg / total       0.22      0.25      0.23       355\n",
      "\n"
     ]
    }
   ],
   "source": [
    "print(metrics.classification_report(test['Intensity Class'].values, predicted, target_names=categories))"
   ]
  },
  {
   "cell_type": "code",
   "execution_count": 13,
   "metadata": {
    "collapsed": true
   },
   "outputs": [],
   "source": [
    "test['Predicted'] = predicted"
   ]
  },
  {
   "cell_type": "code",
   "execution_count": 14,
   "metadata": {},
   "outputs": [
    {
     "data": {
      "text/plain": [
       "0.24507042253521127"
      ]
     },
     "execution_count": 14,
     "metadata": {},
     "output_type": "execute_result"
    }
   ],
   "source": [
    "# Acurácia\n",
    "np.mean(test['Predicted'] == test['Intensity Class'])"
   ]
  },
  {
   "cell_type": "code",
   "execution_count": null,
   "metadata": {
    "collapsed": true
   },
   "outputs": [],
   "source": [
    "#Matriz de confusão\n",
    "metrics.confusion_matrix(test['Intensity Class'], test['Predicted'])"
   ]
  }
 ],
 "metadata": {
  "kernelspec": {
   "display_name": "Python 3",
   "language": "python",
   "name": "python3"
  },
  "language_info": {
   "codemirror_mode": {
    "name": "ipython",
    "version": 3
   },
   "file_extension": ".py",
   "mimetype": "text/x-python",
   "name": "python",
   "nbconvert_exporter": "python",
   "pygments_lexer": "ipython3",
   "version": "3.6.3"
  }
 },
 "nbformat": 4,
 "nbformat_minor": 2
}
