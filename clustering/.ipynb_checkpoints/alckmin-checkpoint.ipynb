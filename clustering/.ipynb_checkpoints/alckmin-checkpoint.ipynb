{
 "cells": [
  {
   "cell_type": "code",
   "execution_count": 3,
   "metadata": {
    "collapsed": true
   },
   "outputs": [],
   "source": [
    "import pandas as pd\n",
    "import numpy as np\n",
    "import matplotlib.pyplot as plt\n",
    "import re\n",
    "import math\n",
    "\n",
    "import nltk\n",
    "from nltk.corpus import stopwords\n",
    "\n",
    "from sklearn.feature_extraction.text import CountVectorizer\n",
    "from sklearn.feature_extraction.text import TfidfTransformer\n",
    "\n",
    "from pymongo import MongoClient\n",
    "import json"
   ]
  },
  {
   "cell_type": "code",
   "execution_count": 4,
   "metadata": {
    "collapsed": true
   },
   "outputs": [],
   "source": [
    "con = MongoClient('localhost',27017)\n",
    "db = con.politica"
   ]
  },
  {
   "cell_type": "code",
   "execution_count": 5,
   "metadata": {
    "collapsed": true
   },
   "outputs": [],
   "source": [
    "dataset = pd.DataFrame()"
   ]
  },
  {
   "cell_type": "code",
   "execution_count": 6,
   "metadata": {
    "collapsed": true
   },
   "outputs": [],
   "source": [
    "list_tweets = list(db.tweets_bolsonaro.find())\n",
    "text_tweets = []\n",
    "for tweet in list_tweets[0:math.floor(len(list_tweets)*0.5)]:\n",
    "    twitterText = \"\"\n",
    "    if('retweeted_status' in tweet):\n",
    "        if('extended_tweet' in tweet['retweeted_status']):\n",
    "            twitterText = tweet['retweeted_status']['extended_tweet']['full_text']\n",
    "        else:\n",
    "            twitterText = tweet['retweeted_status']['text']\n",
    "\n",
    "    elif('extended_tweet' in tweet):\n",
    "        twitterText = tweet['extended_tweet']['full_text']\n",
    "    else:\n",
    "        twitterText = tweet['text']\n",
    "    \n",
    "    text_tweets.append(twitterText)\n",
    "\n",
    "dataset['text'] = pd.Series(text_tweets)"
   ]
  },
  {
   "cell_type": "code",
   "execution_count": 7,
   "metadata": {
    "collapsed": true
   },
   "outputs": [],
   "source": [
    "dataset['text_processed'] = np.nan"
   ]
  },
  {
   "cell_type": "code",
   "execution_count": 8,
   "metadata": {},
   "outputs": [
    {
     "name": "stderr",
     "output_type": "stream",
     "text": [
      "/home/alysson/miniconda3/lib/python3.6/site-packages/ipykernel_launcher.py:26: SettingWithCopyWarning: \n",
      "A value is trying to be set on a copy of a slice from a DataFrame\n",
      "\n",
      "See the caveats in the documentation: http://pandas.pydata.org/pandas-docs/stable/indexing.html#indexing-view-versus-copy\n",
      "/home/alysson/miniconda3/lib/python3.6/site-packages/pandas/core/indexing.py:194: SettingWithCopyWarning: \n",
      "A value is trying to be set on a copy of a slice from a DataFrame\n",
      "\n",
      "See the caveats in the documentation: http://pandas.pydata.org/pandas-docs/stable/indexing.html#indexing-view-versus-copy\n",
      "  self._setitem_with_indexer(indexer, value)\n"
     ]
    }
   ],
   "source": [
    "stemmer = nltk.stem.RSLPStemmer()\n",
    "for ind, tweet in enumerate(dataset['text']):\n",
    "    t = tweet\n",
    "    t = t.lower() # removendo letras maiúsculas\n",
    "    t = re.sub(r'(\\b)?@\\w+','',t) #removendo referências a outros perfis\n",
    "    t = re.sub(r'(\\b)?#\\w+','',t) #removendo hashtags\n",
    "    t = re.sub(r'http\\S+','',t,flags=re.MULTILINE) #removendo links\n",
    "    t = re.sub(r'https\\S+','',t,flags=re.MULTILINE) #removendo links\n",
    "    t = re.sub(r'(\\w+)?\\d(\\w+)?','',t) # removendo números\n",
    "    t = re.sub(r',|\\\"|!|\\n|:|\\.|\\?|;|\\(|\\)|#',' ',t) #removendo pontuações\n",
    "    \n",
    "    # removendo stopwords\n",
    "    nsw = ''\n",
    "    for word in t.split(' '):\n",
    "        if word not in stopwords.words('portuguese'):\n",
    "            nsw += word+' '\n",
    "    t = nsw.strip()\n",
    "    t = re.sub(r' +',' ',t) # removendo espaços duplos\n",
    "    t = t.strip() # remover espaços vazios no início e no fim\n",
    "    \n",
    "    # isolando o radical das palavras\n",
    "    if len(t) > 0:\n",
    "        t = t.split(' ')\n",
    "        ste = [stemmer.stem(word) for word in t]\n",
    "        processedTweet = ' '.join(ste)\n",
    "        dataset['text_processed'][ind] = processedTweet\n",
    "    else:\n",
    "        dataset['text_processed'][ind] = ''"
   ]
  },
  {
   "cell_type": "code",
   "execution_count": 9,
   "metadata": {},
   "outputs": [
    {
     "data": {
      "text/html": [
       "<div>\n",
       "<style scoped>\n",
       "    .dataframe tbody tr th:only-of-type {\n",
       "        vertical-align: middle;\n",
       "    }\n",
       "\n",
       "    .dataframe tbody tr th {\n",
       "        vertical-align: top;\n",
       "    }\n",
       "\n",
       "    .dataframe thead th {\n",
       "        text-align: right;\n",
       "    }\n",
       "</style>\n",
       "<table border=\"1\" class=\"dataframe\">\n",
       "  <thead>\n",
       "    <tr style=\"text-align: right;\">\n",
       "      <th></th>\n",
       "      <th>text</th>\n",
       "      <th>text_processed</th>\n",
       "    </tr>\n",
       "  </thead>\n",
       "  <tbody>\n",
       "    <tr>\n",
       "      <th>0</th>\n",
       "      <td>quem for a favor do Bolsonaro me dá unfollow p...</td>\n",
       "      <td>favor bolsonar dá unfollow favor</td>\n",
       "    </tr>\n",
       "    <tr>\n",
       "      <th>1</th>\n",
       "      <td>Lula preso amanhã\\n\\nE vcs pulando de alegria?...</td>\n",
       "      <td>lul pres amanhã vc pul alegr é trist corrupt m...</td>\n",
       "    </tr>\n",
       "    <tr>\n",
       "      <th>2</th>\n",
       "      <td>nao tratem o bolsonaro como meme mais. nao dee...</td>\n",
       "      <td>nao trat bolsonar mem nao de palc pra doid dan...</td>\n",
       "    </tr>\n",
       "    <tr>\n",
       "      <th>3</th>\n",
       "      <td>Gostei de um vídeo @YouTube https://t.co/tewA9...</td>\n",
       "      <td>gost víde vot bolsonar alun apav profes esquer...</td>\n",
       "    </tr>\n",
       "    <tr>\n",
       "      <th>4</th>\n",
       "      <td>@mafiasummer Podia aparecer alguém pra gritar ...</td>\n",
       "      <td>pod aparec alguém pra grit viv bolsonar lá per...</td>\n",
       "    </tr>\n",
       "  </tbody>\n",
       "</table>\n",
       "</div>"
      ],
      "text/plain": [
       "                                                text  \\\n",
       "0  quem for a favor do Bolsonaro me dá unfollow p...   \n",
       "1  Lula preso amanhã\\n\\nE vcs pulando de alegria?...   \n",
       "2  nao tratem o bolsonaro como meme mais. nao dee...   \n",
       "3  Gostei de um vídeo @YouTube https://t.co/tewA9...   \n",
       "4  @mafiasummer Podia aparecer alguém pra gritar ...   \n",
       "\n",
       "                                      text_processed  \n",
       "0                   favor bolsonar dá unfollow favor  \n",
       "1  lul pres amanhã vc pul alegr é trist corrupt m...  \n",
       "2  nao trat bolsonar mem nao de palc pra doid dan...  \n",
       "3  gost víde vot bolsonar alun apav profes esquer...  \n",
       "4  pod aparec alguém pra grit viv bolsonar lá per...  "
      ]
     },
     "execution_count": 9,
     "metadata": {},
     "output_type": "execute_result"
    }
   ],
   "source": [
    "dataset.head()"
   ]
  },
  {
   "cell_type": "code",
   "execution_count": 10,
   "metadata": {},
   "outputs": [
    {
     "name": "stdout",
     "output_type": "stream",
     "text": [
      "(8191, 5470)\n",
      "['_chuchu', '_o', 'aaaaaa', 'aaaaaaa', 'aaaaaaaaa', 'aaaaaaaaaa', 'aaaaaaaaaaa', 'aaaaaaaaaaaaaaaaaaaaaaaaaaaaaaaaaaaaaaaaaaaaaaaaaaaaaaa', 'aaaaaaakkkkkk', 'aaaaaah']\n"
     ]
    }
   ],
   "source": [
    "count_vect = CountVectorizer()\n",
    "matrix_vectorized = count_vect.fit_transform(dataset['text_processed'].values.tolist())\n",
    "print(matrix_vectorized.shape)\n",
    "print(count_vect.get_feature_names()[0:10])"
   ]
  },
  {
   "cell_type": "markdown",
   "metadata": {},
   "source": [
    "# Clustering with DBScan"
   ]
  },
  {
   "cell_type": "code",
   "execution_count": 11,
   "metadata": {
    "collapsed": true
   },
   "outputs": [],
   "source": [
    "from sklearn.metrics.pairwise import euclidean_distances\n",
    "from sklearn.cluster import DBSCAN"
   ]
  },
  {
   "cell_type": "code",
   "execution_count": 12,
   "metadata": {},
   "outputs": [
    {
     "data": {
      "text/plain": [
       "(8191, 8191)"
      ]
     },
     "execution_count": 12,
     "metadata": {},
     "output_type": "execute_result"
    }
   ],
   "source": [
    "matrix_distances_euclidean = euclidean_distances(matrix_vectorized)\n",
    "matrix_distances_euclidean.shape"
   ]
  },
  {
   "cell_type": "code",
   "execution_count": 13,
   "metadata": {},
   "outputs": [
    {
     "name": "stdout",
     "output_type": "stream",
     "text": [
      "Distância euclidiana, máximo:  27.640549922170507\n",
      "Distância euclidiana, média:  4.72426707895462\n",
      "Distância euclidiana, std:  1.6564637855280873\n",
      "Distância euclidiana, mínimo:  1.6564637855280873\n"
     ]
    }
   ],
   "source": [
    "print(\"Distância euclidiana, máximo: \",matrix_distances_euclidean.max())\n",
    "print(\"Distância euclidiana, média: \",matrix_distances_euclidean.mean())\n",
    "print(\"Distância euclidiana, std: \",matrix_distances_euclidean.std())\n",
    "print(\"Distância euclidiana, mínimo: \",matrix_distances_euclidean.std())"
   ]
  },
  {
   "cell_type": "code",
   "execution_count": 14,
   "metadata": {},
   "outputs": [
    {
     "data": {
      "image/png": "[encoded data removed]",
      "text/plain": [
       "<matplotlib.figure.Figure at 0x7f296a3dd780>"
      ]
     },
     "metadata": {},
     "output_type": "display_data"
    }
   ],
   "source": [
    "def k_dist(k, i, points):\n",
    "    dist = []\n",
    "    smaller = np.max(points)\n",
    "    for i in range(0,k):\n",
    "        for j in range(len(points)):\n",
    "            if j != i:\n",
    "                if points[j] < smaller and points[j] != 0:\n",
    "                    smaller = points[j]\n",
    "        dist.append(smaller)\n",
    "    return np.mean(dist)\n",
    "\n",
    "i = 0\n",
    "y = []\n",
    "while i < len(matrix_distances_euclidean):\n",
    "    y.append(k_dist(3,i,matrix_distances_euclidean[i]))\n",
    "    i += 1\n",
    "y.sort()\n",
    "    \n",
    "plt.figure(figsize=(15,10))\n",
    "plt.plot(y)\n",
    "plt.grid(color='g', linestyle='-', linewidth=1)\n",
    "plt.ylabel('médias dos k mais próximos')\n",
    "plt.title('Variação de densidade')\n",
    "plt.show()"
   ]
  },
  {
   "cell_type": "code",
   "execution_count": 15,
   "metadata": {
    "collapsed": true
   },
   "outputs": [],
   "source": [
    "minPoints = math.log(len(matrix_distances_euclidean))\n",
    "dbscan_euclidean_distance = DBSCAN(eps=6.25, min_samples= minPoints, metric=\"precomputed\")\n",
    "clusters_euclidean_dbscan = dbscan_euclidean_distance.fit(matrix_distances_euclidean)\n",
    "dataset['cluster_euclidean_dbscan'] = clusters_euclidean_dbscan.labels_"
   ]
  },
  {
   "cell_type": "markdown",
   "metadata": {},
   "source": [
    "### Grid Search for *eps* and *minPoints*"
   ]
  },
  {
   "cell_type": "code",
   "execution_count": null,
   "metadata": {
    "collapsed": true
   },
   "outputs": [],
   "source": []
  },
  {
   "cell_type": "markdown",
   "metadata": {},
   "source": [
    "# Clustering with Kmeans"
   ]
  },
  {
   "cell_type": "code",
   "execution_count": 16,
   "metadata": {
    "collapsed": true
   },
   "outputs": [],
   "source": [
    "# from sklearn.metrics.pairwise import euclidean_distances\n",
    "from sklearn.cluster import KMeans"
   ]
  },
  {
   "cell_type": "code",
   "execution_count": 17,
   "metadata": {
    "collapsed": true
   },
   "outputs": [],
   "source": [
    "kmeans_euclidean_distance = KMeans(n_clusters=3, precompute_distances=True)\n",
    "clusters_euclidean_kmeans = kmeans_euclidean_distance.fit(matrix_distances_euclidean)\n",
    "dataset['cluster_euclidean_kmeans'] = clusters_euclidean_kmeans.labels_"
   ]
  },
  {
   "cell_type": "code",
   "execution_count": 18,
   "metadata": {},
   "outputs": [
    {
     "data": {
      "text/html": [
       "<div>\n",
       "<style scoped>\n",
       "    .dataframe tbody tr th:only-of-type {\n",
       "        vertical-align: middle;\n",
       "    }\n",
       "\n",
       "    .dataframe tbody tr th {\n",
       "        vertical-align: top;\n",
       "    }\n",
       "\n",
       "    .dataframe thead th {\n",
       "        text-align: right;\n",
       "    }\n",
       "</style>\n",
       "<table border=\"1\" class=\"dataframe\">\n",
       "  <thead>\n",
       "    <tr style=\"text-align: right;\">\n",
       "      <th></th>\n",
       "      <th>text</th>\n",
       "      <th>text_processed</th>\n",
       "      <th>cluster_euclidean_dbscan</th>\n",
       "      <th>cluster_euclidean_kmeans</th>\n",
       "    </tr>\n",
       "  </thead>\n",
       "  <tbody>\n",
       "    <tr>\n",
       "      <th>0</th>\n",
       "      <td>quem for a favor do Bolsonaro me dá unfollow p...</td>\n",
       "      <td>favor bolsonar dá unfollow favor</td>\n",
       "      <td>0</td>\n",
       "      <td>1</td>\n",
       "    </tr>\n",
       "    <tr>\n",
       "      <th>1</th>\n",
       "      <td>Lula preso amanhã\\n\\nE vcs pulando de alegria?...</td>\n",
       "      <td>lul pres amanhã vc pul alegr é trist corrupt m...</td>\n",
       "      <td>0</td>\n",
       "      <td>2</td>\n",
       "    </tr>\n",
       "    <tr>\n",
       "      <th>2</th>\n",
       "      <td>nao tratem o bolsonaro como meme mais. nao dee...</td>\n",
       "      <td>nao trat bolsonar mem nao de palc pra doid dan...</td>\n",
       "      <td>0</td>\n",
       "      <td>2</td>\n",
       "    </tr>\n",
       "    <tr>\n",
       "      <th>3</th>\n",
       "      <td>Gostei de um vídeo @YouTube https://t.co/tewA9...</td>\n",
       "      <td>gost víde vot bolsonar alun apav profes esquer...</td>\n",
       "      <td>0</td>\n",
       "      <td>1</td>\n",
       "    </tr>\n",
       "    <tr>\n",
       "      <th>4</th>\n",
       "      <td>@mafiasummer Podia aparecer alguém pra gritar ...</td>\n",
       "      <td>pod aparec alguém pra grit viv bolsonar lá per...</td>\n",
       "      <td>0</td>\n",
       "      <td>0</td>\n",
       "    </tr>\n",
       "  </tbody>\n",
       "</table>\n",
       "</div>"
      ],
      "text/plain": [
       "                                                text  \\\n",
       "0  quem for a favor do Bolsonaro me dá unfollow p...   \n",
       "1  Lula preso amanhã\\n\\nE vcs pulando de alegria?...   \n",
       "2  nao tratem o bolsonaro como meme mais. nao dee...   \n",
       "3  Gostei de um vídeo @YouTube https://t.co/tewA9...   \n",
       "4  @mafiasummer Podia aparecer alguém pra gritar ...   \n",
       "\n",
       "                                      text_processed  \\\n",
       "0                   favor bolsonar dá unfollow favor   \n",
       "1  lul pres amanhã vc pul alegr é trist corrupt m...   \n",
       "2  nao trat bolsonar mem nao de palc pra doid dan...   \n",
       "3  gost víde vot bolsonar alun apav profes esquer...   \n",
       "4  pod aparec alguém pra grit viv bolsonar lá per...   \n",
       "\n",
       "   cluster_euclidean_dbscan  cluster_euclidean_kmeans  \n",
       "0                         0                         1  \n",
       "1                         0                         2  \n",
       "2                         0                         2  \n",
       "3                         0                         1  \n",
       "4                         0                         0  "
      ]
     },
     "execution_count": 18,
     "metadata": {},
     "output_type": "execute_result"
    }
   ],
   "source": [
    "dataset.head()"
   ]
  },
  {
   "cell_type": "markdown",
   "metadata": {},
   "source": [
    "# Clusters"
   ]
  },
  {
   "cell_type": "code",
   "execution_count": 19,
   "metadata": {},
   "outputs": [
    {
     "data": {
      "text/plain": [
       " 0    8059\n",
       " 1      71\n",
       "-1      38\n",
       " 3      12\n",
       " 2      11\n",
       "Name: cluster_euclidean_dbscan, dtype: int64"
      ]
     },
     "execution_count": 19,
     "metadata": {},
     "output_type": "execute_result"
    }
   ],
   "source": [
    "dataset['cluster_euclidean_dbscan'].value_counts()"
   ]
  },
  {
   "cell_type": "code",
   "execution_count": 20,
   "metadata": {},
   "outputs": [
    {
     "data": {
      "text/plain": [
       "1    4926\n",
       "0    2377\n",
       "2     888\n",
       "Name: cluster_euclidean_kmeans, dtype: int64"
      ]
     },
     "execution_count": 20,
     "metadata": {},
     "output_type": "execute_result"
    }
   ],
   "source": [
    "dataset['cluster_euclidean_kmeans'].value_counts()"
   ]
  },
  {
   "cell_type": "markdown",
   "metadata": {},
   "source": [
    "* ### Polarity of the tweets"
   ]
  },
  {
   "cell_type": "code",
   "execution_count": 21,
   "metadata": {
    "collapsed": true
   },
   "outputs": [],
   "source": [
    "from Polarity import Polarity"
   ]
  },
  {
   "cell_type": "code",
   "execution_count": 22,
   "metadata": {},
   "outputs": [
    {
     "data": {
      "text/html": [
       "<div>\n",
       "<style scoped>\n",
       "    .dataframe tbody tr th:only-of-type {\n",
       "        vertical-align: middle;\n",
       "    }\n",
       "\n",
       "    .dataframe tbody tr th {\n",
       "        vertical-align: top;\n",
       "    }\n",
       "\n",
       "    .dataframe thead th {\n",
       "        text-align: right;\n",
       "    }\n",
       "</style>\n",
       "<table border=\"1\" class=\"dataframe\">\n",
       "  <thead>\n",
       "    <tr style=\"text-align: right;\">\n",
       "      <th></th>\n",
       "      <th>palavra</th>\n",
       "      <th>gn</th>\n",
       "      <th>tg</th>\n",
       "      <th>pol</th>\n",
       "      <th>anot</th>\n",
       "      <th>pos</th>\n",
       "    </tr>\n",
       "  </thead>\n",
       "  <tbody>\n",
       "    <tr>\n",
       "      <th>0</th>\n",
       "      <td>abafadas,abafado</td>\n",
       "      <td>GN=fp</td>\n",
       "      <td>TG=HUM</td>\n",
       "      <td>POL=-1</td>\n",
       "      <td>ANOT=JALC</td>\n",
       "      <td>PoS=Adj</td>\n",
       "    </tr>\n",
       "    <tr>\n",
       "      <th>1</th>\n",
       "      <td>abafado,abafado</td>\n",
       "      <td>GN=ms</td>\n",
       "      <td>TG=HUM</td>\n",
       "      <td>POL=-1</td>\n",
       "      <td>ANOT=JALC</td>\n",
       "      <td>PoS=Adj</td>\n",
       "    </tr>\n",
       "    <tr>\n",
       "      <th>2</th>\n",
       "      <td>abafados,abafado</td>\n",
       "      <td>GN=mp</td>\n",
       "      <td>TG=HUM</td>\n",
       "      <td>POL=-1</td>\n",
       "      <td>ANOT=JALC</td>\n",
       "      <td>PoS=Adj</td>\n",
       "    </tr>\n",
       "    <tr>\n",
       "      <th>3</th>\n",
       "      <td>abafante,abafante</td>\n",
       "      <td>GN=fs</td>\n",
       "      <td>TG=HUM</td>\n",
       "      <td>POL=-1</td>\n",
       "      <td>ANOT=MAN</td>\n",
       "      <td>PoS=Adj</td>\n",
       "    </tr>\n",
       "    <tr>\n",
       "      <th>4</th>\n",
       "      <td>abafante,abafante</td>\n",
       "      <td>GN=ms</td>\n",
       "      <td>TG=HUM</td>\n",
       "      <td>POL=-1</td>\n",
       "      <td>ANOT=MAN</td>\n",
       "      <td>PoS=Adj</td>\n",
       "    </tr>\n",
       "  </tbody>\n",
       "</table>\n",
       "</div>"
      ],
      "text/plain": [
       "             palavra     gn      tg     pol       anot      pos\n",
       "0   abafadas,abafado  GN=fp  TG=HUM  POL=-1  ANOT=JALC  PoS=Adj\n",
       "1    abafado,abafado  GN=ms  TG=HUM  POL=-1  ANOT=JALC  PoS=Adj\n",
       "2   abafados,abafado  GN=mp  TG=HUM  POL=-1  ANOT=JALC  PoS=Adj\n",
       "3  abafante,abafante  GN=fs  TG=HUM  POL=-1   ANOT=MAN  PoS=Adj\n",
       "4  abafante,abafante  GN=ms  TG=HUM  POL=-1   ANOT=MAN  PoS=Adj"
      ]
     },
     "execution_count": 22,
     "metadata": {},
     "output_type": "execute_result"
    }
   ],
   "source": [
    "Polarity.load()\n",
    "Polarity.base_lexica.head()"
   ]
  },
  {
   "cell_type": "code",
   "execution_count": 23,
   "metadata": {},
   "outputs": [
    {
     "name": "stderr",
     "output_type": "stream",
     "text": [
      "/home/alysson/miniconda3/lib/python3.6/site-packages/ipykernel_launcher.py:9: SettingWithCopyWarning: \n",
      "A value is trying to be set on a copy of a slice from a DataFrame\n",
      "\n",
      "See the caveats in the documentation: http://pandas.pydata.org/pandas-docs/stable/indexing.html#indexing-view-versus-copy\n",
      "  if __name__ == '__main__':\n"
     ]
    }
   ],
   "source": [
    "dataset['polaridade'] = 0\n",
    "\n",
    "j = 0\n",
    "for tweet in dataset.text:\n",
    "    twt = Polarity.preProcessor(tweet)\n",
    "    score = 0\n",
    "    for p in twt.split(' '):\n",
    "        score += Polarity.searchWord(p)\n",
    "    dataset.polaridade[j] = score\n",
    "    j += 1"
   ]
  },
  {
   "cell_type": "code",
   "execution_count": 24,
   "metadata": {},
   "outputs": [
    {
     "data": {
      "text/html": [
       "<div>\n",
       "<style scoped>\n",
       "    .dataframe tbody tr th:only-of-type {\n",
       "        vertical-align: middle;\n",
       "    }\n",
       "\n",
       "    .dataframe tbody tr th {\n",
       "        vertical-align: top;\n",
       "    }\n",
       "\n",
       "    .dataframe thead th {\n",
       "        text-align: right;\n",
       "    }\n",
       "</style>\n",
       "<table border=\"1\" class=\"dataframe\">\n",
       "  <thead>\n",
       "    <tr style=\"text-align: right;\">\n",
       "      <th></th>\n",
       "      <th>text</th>\n",
       "      <th>text_processed</th>\n",
       "      <th>cluster_euclidean_dbscan</th>\n",
       "      <th>cluster_euclidean_kmeans</th>\n",
       "      <th>polaridade</th>\n",
       "    </tr>\n",
       "  </thead>\n",
       "  <tbody>\n",
       "    <tr>\n",
       "      <th>0</th>\n",
       "      <td>quem for a favor do Bolsonaro me dá unfollow p...</td>\n",
       "      <td>favor bolsonar dá unfollow favor</td>\n",
       "      <td>0</td>\n",
       "      <td>1</td>\n",
       "      <td>-1</td>\n",
       "    </tr>\n",
       "    <tr>\n",
       "      <th>1</th>\n",
       "      <td>Lula preso amanhã\\n\\nE vcs pulando de alegria?...</td>\n",
       "      <td>lul pres amanhã vc pul alegr é trist corrupt m...</td>\n",
       "      <td>0</td>\n",
       "      <td>2</td>\n",
       "      <td>-2</td>\n",
       "    </tr>\n",
       "    <tr>\n",
       "      <th>2</th>\n",
       "      <td>nao tratem o bolsonaro como meme mais. nao dee...</td>\n",
       "      <td>nao trat bolsonar mem nao de palc pra doid dan...</td>\n",
       "      <td>0</td>\n",
       "      <td>2</td>\n",
       "      <td>-2</td>\n",
       "    </tr>\n",
       "    <tr>\n",
       "      <th>3</th>\n",
       "      <td>Gostei de um vídeo @YouTube https://t.co/tewA9...</td>\n",
       "      <td>gost víde vot bolsonar alun apav profes esquer...</td>\n",
       "      <td>0</td>\n",
       "      <td>1</td>\n",
       "      <td>-1</td>\n",
       "    </tr>\n",
       "    <tr>\n",
       "      <th>4</th>\n",
       "      <td>@mafiasummer Podia aparecer alguém pra gritar ...</td>\n",
       "      <td>pod aparec alguém pra grit viv bolsonar lá per...</td>\n",
       "      <td>0</td>\n",
       "      <td>0</td>\n",
       "      <td>2</td>\n",
       "    </tr>\n",
       "  </tbody>\n",
       "</table>\n",
       "</div>"
      ],
      "text/plain": [
       "                                                text  \\\n",
       "0  quem for a favor do Bolsonaro me dá unfollow p...   \n",
       "1  Lula preso amanhã\\n\\nE vcs pulando de alegria?...   \n",
       "2  nao tratem o bolsonaro como meme mais. nao dee...   \n",
       "3  Gostei de um vídeo @YouTube https://t.co/tewA9...   \n",
       "4  @mafiasummer Podia aparecer alguém pra gritar ...   \n",
       "\n",
       "                                      text_processed  \\\n",
       "0                   favor bolsonar dá unfollow favor   \n",
       "1  lul pres amanhã vc pul alegr é trist corrupt m...   \n",
       "2  nao trat bolsonar mem nao de palc pra doid dan...   \n",
       "3  gost víde vot bolsonar alun apav profes esquer...   \n",
       "4  pod aparec alguém pra grit viv bolsonar lá per...   \n",
       "\n",
       "   cluster_euclidean_dbscan  cluster_euclidean_kmeans  polaridade  \n",
       "0                         0                         1          -1  \n",
       "1                         0                         2          -2  \n",
       "2                         0                         2          -2  \n",
       "3                         0                         1          -1  \n",
       "4                         0                         0           2  "
      ]
     },
     "execution_count": 24,
     "metadata": {},
     "output_type": "execute_result"
    }
   ],
   "source": [
    "dataset.head()"
   ]
  },
  {
   "cell_type": "markdown",
   "metadata": {},
   "source": [
    "* ### Analyzes\n",
    "    * **Sugestão de Análise:** Verificar as palavras mais frequentes em cada cluster, e dentro de cada cluster, verificar a frequência das palavras de cada grupo de tweet (positivos, negativos e neutros)\n",
    "        * Nuvem de palavras de cada cluster\n",
    "        * Nuvem de palvras de cada polaridade de cada cluster"
   ]
  },
  {
   "cell_type": "code",
   "execution_count": 25,
   "metadata": {},
   "outputs": [
    {
     "data": {
      "text/plain": [
       "cluster_euclidean_dbscan\n",
       "-1    -157\n",
       " 0   -8405\n",
       " 1    -710\n",
       " 2      65\n",
       " 3     -36\n",
       "Name: polaridade, dtype: int64"
      ]
     },
     "execution_count": 25,
     "metadata": {},
     "output_type": "execute_result"
    }
   ],
   "source": [
    "dataset.groupby('cluster_euclidean_dbscan')['polaridade'].sum()"
   ]
  },
  {
   "cell_type": "code",
   "execution_count": 26,
   "metadata": {},
   "outputs": [
    {
     "data": {
      "text/plain": [
       "cluster_euclidean_dbscan\n",
       "-1    -4.131579\n",
       " 0    -1.042933\n",
       " 1   -10.000000\n",
       " 2     5.909091\n",
       " 3    -3.000000\n",
       "Name: polaridade, dtype: float64"
      ]
     },
     "execution_count": 26,
     "metadata": {},
     "output_type": "execute_result"
    }
   ],
   "source": [
    "dataset.groupby('cluster_euclidean_dbscan')['polaridade'].mean()"
   ]
  },
  {
   "cell_type": "code",
   "execution_count": 27,
   "metadata": {},
   "outputs": [
    {
     "name": "stdout",
     "output_type": "stream",
     "text": [
      "Cluster -1\n",
      "pos =  10 ; neg =  25 ; neu= 3\n",
      "Cluster 0\n",
      "pos =  1664 ; neg =  4506 ; neu= 1889\n",
      "Cluster 1\n",
      "pos =  0 ; neg =  71 ; neu= 0\n",
      "Cluster 2\n",
      "pos =  11 ; neg =  0 ; neu= 0\n",
      "Cluster 3\n",
      "pos =  0 ; neg =  12 ; neu= 0\n",
      "Cluster 4\n",
      "pos =  0 ; neg =  0 ; neu= 0\n"
     ]
    }
   ],
   "source": [
    "for i in range(-1,5):\n",
    "    pos, neg, neu = 0, 0, 0\n",
    "    for v in dataset.polaridade[dataset.cluster_euclidean_dbscan[dataset.cluster_euclidean_dbscan == i].index].values:\n",
    "        if v < 0:\n",
    "            neg += 1\n",
    "        if v > 0:\n",
    "            pos += 1\n",
    "        if v == 0:\n",
    "            neu += 1\n",
    "    print('Cluster '+str(i))\n",
    "    print('pos = ',str(pos), '; neg = ',str(neg), '; neu=',str(neu))"
   ]
  },
  {
   "cell_type": "code",
   "execution_count": 28,
   "metadata": {},
   "outputs": [
    {
     "data": {
      "text/plain": [
       "cluster_euclidean_kmeans\n",
       "0   -4388\n",
       "1   -2217\n",
       "2   -2638\n",
       "Name: polaridade, dtype: int64"
      ]
     },
     "execution_count": 28,
     "metadata": {},
     "output_type": "execute_result"
    }
   ],
   "source": [
    "dataset.groupby('cluster_euclidean_kmeans')['polaridade'].sum()"
   ]
  },
  {
   "cell_type": "code",
   "execution_count": 29,
   "metadata": {},
   "outputs": [
    {
     "data": {
      "text/plain": [
       "cluster_euclidean_kmeans\n",
       "0   -1.846024\n",
       "1   -0.450061\n",
       "2   -2.970721\n",
       "Name: polaridade, dtype: float64"
      ]
     },
     "execution_count": 29,
     "metadata": {},
     "output_type": "execute_result"
    }
   ],
   "source": [
    "dataset.groupby('cluster_euclidean_kmeans')['polaridade'].mean()"
   ]
  },
  {
   "cell_type": "code",
   "execution_count": 30,
   "metadata": {},
   "outputs": [
    {
     "name": "stdout",
     "output_type": "stream",
     "text": [
      "Cluster 0\n",
      "pos =  483 ; neg =  1637 ; neu= 257\n",
      "Cluster 1\n",
      "pos =  1063 ; neg =  2264 ; neu= 1599\n",
      "Cluster 2\n",
      "pos =  139 ; neg =  713 ; neu= 36\n"
     ]
    }
   ],
   "source": [
    "for i in range(0,3):\n",
    "    pos, neg, neu = 0, 0, 0\n",
    "    for v in dataset.polaridade[dataset.cluster_euclidean_kmeans[dataset.cluster_euclidean_kmeans == i].index].values:\n",
    "        if v < 0:\n",
    "            neg += 1\n",
    "        if v > 0:\n",
    "            pos += 1\n",
    "        if v == 0:\n",
    "            neu += 1\n",
    "    print('Cluster '+str(i))\n",
    "    print('pos = ',str(pos), '; neg = ',str(neg), '; neu=',str(neu))"
   ]
  },
  {
   "cell_type": "code",
   "execution_count": null,
   "metadata": {
    "collapsed": true
   },
   "outputs": [],
   "source": []
  }
 ],
 "metadata": {
  "kernelspec": {
   "display_name": "Python 3",
   "language": "python",
   "name": "python3"
  },
  "language_info": {
   "codemirror_mode": {
    "name": "ipython",
    "version": 3
   },
   "file_extension": ".py",
   "mimetype": "text/x-python",
   "name": "python",
   "nbconvert_exporter": "python",
   "pygments_lexer": "ipython3",
   "version": "3.6.3"
  }
 },
 "nbformat": 4,
 "nbformat_minor": 2
}
